{
  "cells": [
    {
      "cell_type": "markdown",
      "metadata": {
        "colab_type": "text",
        "id": "tpCwtB82VIAD"
      },
      "source": [
        "# 🌧️ **Rainfall Prediction with Advanced Machine Learning**\n",
        "\n",
        "**Author**: [Teerapong (Kao) Panboonyuen](https://kaopanboonyuen.github.io/rainfall-prediction-a-machine-learning-approach/)  \n",
        "**Project**: *Cutting-Edge ML Techniques for Rainfall Forecasting*  \n",
        "**License**: [MIT License](https://opensource.org/licenses/MIT)\n",
        "\n",
        "---\n",
        "\n",
        "### 📝 **Overview**\n",
        "This notebook outlines the training loop for our rainfall prediction model. Key functionalities include:\n",
        "\n",
        "- **Configuration**: Reads parameters from a YAML file.\n",
        "- **Data Loading**: Prepares the dataset for training.\n",
        "- **Model Initialization**: Sets up the architecture.\n",
        "- **Training**: Executes the training process on the specified dataset.\n",
        "\n",
        "---"
      ]
    },
    {
      "cell_type": "code",
      "execution_count": null,
      "metadata": {
        "colab": {},
        "colab_type": "code",
        "id": "69SUgU2uVIAI"
      },
      "outputs": [],
      "source": [
        "import warnings\n",
        "warnings.filterwarnings(\"ignore\")"
      ]
    },
    {
      "cell_type": "code",
      "execution_count": 62,
      "metadata": {
        "colab": {
          "base_uri": "https://localhost:8080/",
          "height": 87
        },
        "colab_type": "code",
        "id": "KHzuILwJVIAT",
        "outputId": "82c7aaae-7093-4ab9-f548-f201c9289aa0"
      },
      "outputs": [
        {
          "name": "stdout",
          "output_type": "stream",
          "text": [
            " Elevation_coor2.csv\t  Landuse.csv\t\t   'Soil types.csv'\n",
            " Elevation.csv\t\t 'Rainfall intensity.csv'   Target.csv\n",
            " flood_coor2.csv\t  sample_data\t\t    test_data2.csv\n",
            "'Flow accumulation.csv'   Slope.csv\t\t    test_data.csv\n"
          ]
        }
      ],
      "source": [
        "!ls"
      ]
    },
    {
      "cell_type": "code",
      "execution_count": null,
      "metadata": {
        "colab": {},
        "colab_type": "code",
        "id": "8_vNppoyVIAf"
      },
      "outputs": [],
      "source": [
        "import pandas as pd\n",
        "import numpy as np\n",
        "\n",
        "from sklearn.metrics import classification_report, accuracy_score, make_scorer\n",
        "from sklearn.model_selection import KFold\n",
        "from sklearn.model_selection import cross_val_score\n",
        "\n",
        "import matplotlib.pyplot as plt\n",
        "plt.rcParams['figure.figsize'] = [13, 10]\n",
        "import seaborn as sns\n",
        "\n",
        "import matplotlib.pyplot as plt\n",
        "%matplotlib inline"
      ]
    },
    {
      "cell_type": "markdown",
      "metadata": {
        "colab_type": "text",
        "id": "WD67BAopVIAm"
      },
      "source": [
        "## Import Data"
      ]
    },
    {
      "cell_type": "code",
      "execution_count": null,
      "metadata": {
        "colab": {},
        "colab_type": "code",
        "id": "zPjiexAzVIAo"
      },
      "outputs": [],
      "source": [
        "'''\n",
        "Elevation.csv\n",
        "Flow accumulation.csv\n",
        "Landuse.csv\n",
        "Rainfall intensity.csv\n",
        "Slope.csv\n",
        "Soil types.csv\n",
        "Target.csv\n",
        "test_data.csv\n",
        "'''\n",
        "\n",
        "Elevation = pd.read_csv(\"Elevation.csv\")\n",
        "Flow_accumulation = pd.read_csv(\"Flow accumulation.csv\")\n",
        "Landuse = pd.read_csv(\"Landuse.csv\")\n",
        "Rainfall_intensity = pd.read_csv(\"Rainfall intensity.csv\")\n",
        "Slope = pd.read_csv(\"Slope.csv\")\n",
        "Target = pd.read_csv(\"Target.csv\")\n",
        "\n",
        "test_data = pd.read_csv(\"test_data2.csv\")\n",
        "flood_coor = pd.read_csv(\"flood_coor2.csv\")\n",
        "Elevation_coor = pd.read_csv(\"Elevation_coor2.csv\")"
      ]
    },
    {
      "cell_type": "code",
      "execution_count": null,
      "metadata": {
        "colab": {},
        "colab_type": "code",
        "id": "KnK7BsHuVIAv"
      },
      "outputs": [],
      "source": [
        "Elevation.set_index('lon', inplace=True)"
      ]
    },
    {
      "cell_type": "code",
      "execution_count": null,
      "metadata": {
        "colab": {},
        "colab_type": "code",
        "id": "8ksGX7m5VIA1"
      },
      "outputs": [],
      "source": [
        "Flow_accumulation.set_index('lon', inplace=True)"
      ]
    },
    {
      "cell_type": "code",
      "execution_count": null,
      "metadata": {
        "colab": {},
        "colab_type": "code",
        "id": "Ljr9-BAlVIA6"
      },
      "outputs": [],
      "source": [
        "Landuse.set_index('lon', inplace=True)"
      ]
    },
    {
      "cell_type": "code",
      "execution_count": null,
      "metadata": {
        "colab": {},
        "colab_type": "code",
        "id": "1EOqbLvHVIBC"
      },
      "outputs": [],
      "source": [
        "Rainfall_intensity.set_index('lon', inplace=True)"
      ]
    },
    {
      "cell_type": "code",
      "execution_count": null,
      "metadata": {
        "colab": {},
        "colab_type": "code",
        "id": "tM8cSTbsVIBJ"
      },
      "outputs": [],
      "source": [
        "Slope.set_index('lon', inplace=True)"
      ]
    },
    {
      "cell_type": "code",
      "execution_count": null,
      "metadata": {
        "colab": {},
        "colab_type": "code",
        "id": "ic9-4L6QVIBR"
      },
      "outputs": [],
      "source": [
        "Target.set_index('lon', inplace=True)"
      ]
    },
    {
      "cell_type": "code",
      "execution_count": null,
      "metadata": {
        "colab": {},
        "colab_type": "code",
        "id": "80_OzdtvVIBX"
      },
      "outputs": [],
      "source": [
        "test_data.set_index('lon', inplace=True)"
      ]
    },
    {
      "cell_type": "code",
      "execution_count": null,
      "metadata": {
        "colab": {},
        "colab_type": "code",
        "id": "xn87WjdRVIBd"
      },
      "outputs": [],
      "source": [
        "#flood_coor.set_index('lon', inplace=True)"
      ]
    },
    {
      "cell_type": "code",
      "execution_count": null,
      "metadata": {
        "colab": {},
        "colab_type": "code",
        "id": "5QAKHMJ-VIBh"
      },
      "outputs": [],
      "source": [
        "#Elevation_coor.set_index('lon', inplace=True)"
      ]
    },
    {
      "cell_type": "code",
      "execution_count": null,
      "metadata": {
        "colab": {},
        "colab_type": "code",
        "id": "UvrvPjG6VIBn"
      },
      "outputs": [],
      "source": [
        "dfs = [Elevation, Flow_accumulation, Landuse, Rainfall_intensity, Slope, Target]\n",
        "\n",
        "result = pd.concat(dfs)"
      ]
    },
    {
      "cell_type": "code",
      "execution_count": 75,
      "metadata": {
        "colab": {
          "base_uri": "https://localhost:8080/",
          "height": 227
        },
        "colab_type": "code",
        "id": "i-d1eaCBVIBs",
        "outputId": "e7265c48-5cff-4dd4-9bc5-e2628086a4b4"
      },
      "outputs": [
        {
          "data": {
            "text/html": [
              "<div>\n",
              "<style scoped>\n",
              "    .dataframe tbody tr th:only-of-type {\n",
              "        vertical-align: middle;\n",
              "    }\n",
              "\n",
              "    .dataframe tbody tr th {\n",
              "        vertical-align: top;\n",
              "    }\n",
              "\n",
              "    .dataframe thead th {\n",
              "        text-align: right;\n",
              "    }\n",
              "</style>\n",
              "<table border=\"1\" class=\"dataframe\">\n",
              "  <thead>\n",
              "    <tr style=\"text-align: right;\">\n",
              "      <th></th>\n",
              "      <th>Rainfall intensity</th>\n",
              "      <th>elevation</th>\n",
              "      <th>flow accumulation</th>\n",
              "      <th>land use</th>\n",
              "      <th>lat</th>\n",
              "      <th>slope</th>\n",
              "      <th>target</th>\n",
              "    </tr>\n",
              "    <tr>\n",
              "      <th>lon</th>\n",
              "      <th></th>\n",
              "      <th></th>\n",
              "      <th></th>\n",
              "      <th></th>\n",
              "      <th></th>\n",
              "      <th></th>\n",
              "      <th></th>\n",
              "    </tr>\n",
              "  </thead>\n",
              "  <tbody>\n",
              "    <tr>\n",
              "      <th>14.222500</th>\n",
              "      <td>NaN</td>\n",
              "      <td>6.0</td>\n",
              "      <td>NaN</td>\n",
              "      <td>NaN</td>\n",
              "      <td>100.243334</td>\n",
              "      <td>NaN</td>\n",
              "      <td>NaN</td>\n",
              "    </tr>\n",
              "    <tr>\n",
              "      <th>14.223334</th>\n",
              "      <td>NaN</td>\n",
              "      <td>5.0</td>\n",
              "      <td>NaN</td>\n",
              "      <td>NaN</td>\n",
              "      <td>100.243334</td>\n",
              "      <td>NaN</td>\n",
              "      <td>NaN</td>\n",
              "    </tr>\n",
              "    <tr>\n",
              "      <th>14.224167</th>\n",
              "      <td>NaN</td>\n",
              "      <td>8.0</td>\n",
              "      <td>NaN</td>\n",
              "      <td>NaN</td>\n",
              "      <td>100.243334</td>\n",
              "      <td>NaN</td>\n",
              "      <td>NaN</td>\n",
              "    </tr>\n",
              "    <tr>\n",
              "      <th>14.225000</th>\n",
              "      <td>NaN</td>\n",
              "      <td>6.0</td>\n",
              "      <td>NaN</td>\n",
              "      <td>NaN</td>\n",
              "      <td>100.243334</td>\n",
              "      <td>NaN</td>\n",
              "      <td>NaN</td>\n",
              "    </tr>\n",
              "    <tr>\n",
              "      <th>14.225834</th>\n",
              "      <td>NaN</td>\n",
              "      <td>7.0</td>\n",
              "      <td>NaN</td>\n",
              "      <td>NaN</td>\n",
              "      <td>100.243334</td>\n",
              "      <td>NaN</td>\n",
              "      <td>NaN</td>\n",
              "    </tr>\n",
              "  </tbody>\n",
              "</table>\n",
              "</div>"
            ],
            "text/plain": [
              "           Rainfall intensity  elevation  ...  slope  target\n",
              "lon                                       ...               \n",
              "14.222500                 NaN        6.0  ...    NaN     NaN\n",
              "14.223334                 NaN        5.0  ...    NaN     NaN\n",
              "14.224167                 NaN        8.0  ...    NaN     NaN\n",
              "14.225000                 NaN        6.0  ...    NaN     NaN\n",
              "14.225834                 NaN        7.0  ...    NaN     NaN\n",
              "\n",
              "[5 rows x 7 columns]"
            ]
          },
          "execution_count": 75,
          "metadata": {
            "tags": []
          },
          "output_type": "execute_result"
        }
      ],
      "source": [
        "result.head()"
      ]
    },
    {
      "cell_type": "code",
      "execution_count": 76,
      "metadata": {
        "colab": {
          "base_uri": "https://localhost:8080/",
          "height": 377
        },
        "colab_type": "code",
        "id": "quxBK5hYVIBy",
        "outputId": "6a003100-ddd1-46c0-ccdf-86c6d19f0f59"
      },
      "outputs": [
        {
          "data": {
            "text/html": [
              "<div>\n",
              "<style scoped>\n",
              "    .dataframe tbody tr th:only-of-type {\n",
              "        vertical-align: middle;\n",
              "    }\n",
              "\n",
              "    .dataframe tbody tr th {\n",
              "        vertical-align: top;\n",
              "    }\n",
              "\n",
              "    .dataframe thead th {\n",
              "        text-align: right;\n",
              "    }\n",
              "</style>\n",
              "<table border=\"1\" class=\"dataframe\">\n",
              "  <thead>\n",
              "    <tr style=\"text-align: right;\">\n",
              "      <th></th>\n",
              "      <th>Rainfall intensity</th>\n",
              "      <th>elevation</th>\n",
              "      <th>flow accumulation</th>\n",
              "      <th>land use</th>\n",
              "      <th>lat</th>\n",
              "      <th>slope</th>\n",
              "      <th>target</th>\n",
              "    </tr>\n",
              "    <tr>\n",
              "      <th>lon</th>\n",
              "      <th></th>\n",
              "      <th></th>\n",
              "      <th></th>\n",
              "      <th></th>\n",
              "      <th></th>\n",
              "      <th></th>\n",
              "      <th></th>\n",
              "    </tr>\n",
              "  </thead>\n",
              "  <tbody>\n",
              "    <tr>\n",
              "      <th>14.307500</th>\n",
              "      <td>NaN</td>\n",
              "      <td>2.0</td>\n",
              "      <td>NaN</td>\n",
              "      <td>NaN</td>\n",
              "      <td>100.439167</td>\n",
              "      <td>NaN</td>\n",
              "      <td>NaN</td>\n",
              "    </tr>\n",
              "    <tr>\n",
              "      <th>14.358334</th>\n",
              "      <td>NaN</td>\n",
              "      <td>9.0</td>\n",
              "      <td>NaN</td>\n",
              "      <td>NaN</td>\n",
              "      <td>100.596667</td>\n",
              "      <td>NaN</td>\n",
              "      <td>NaN</td>\n",
              "    </tr>\n",
              "    <tr>\n",
              "      <th>14.308334</th>\n",
              "      <td>NaN</td>\n",
              "      <td>NaN</td>\n",
              "      <td>30.0</td>\n",
              "      <td>NaN</td>\n",
              "      <td>100.402500</td>\n",
              "      <td>NaN</td>\n",
              "      <td>NaN</td>\n",
              "    </tr>\n",
              "    <tr>\n",
              "      <th>14.393334</th>\n",
              "      <td>NaN</td>\n",
              "      <td>7.0</td>\n",
              "      <td>NaN</td>\n",
              "      <td>NaN</td>\n",
              "      <td>100.370000</td>\n",
              "      <td>NaN</td>\n",
              "      <td>NaN</td>\n",
              "    </tr>\n",
              "    <tr>\n",
              "      <th>14.280834</th>\n",
              "      <td>NaN</td>\n",
              "      <td>5.0</td>\n",
              "      <td>NaN</td>\n",
              "      <td>NaN</td>\n",
              "      <td>100.580000</td>\n",
              "      <td>NaN</td>\n",
              "      <td>NaN</td>\n",
              "    </tr>\n",
              "    <tr>\n",
              "      <th>14.254167</th>\n",
              "      <td>NaN</td>\n",
              "      <td>NaN</td>\n",
              "      <td>500.0</td>\n",
              "      <td>NaN</td>\n",
              "      <td>100.402500</td>\n",
              "      <td>NaN</td>\n",
              "      <td>NaN</td>\n",
              "    </tr>\n",
              "    <tr>\n",
              "      <th>14.477500</th>\n",
              "      <td>NaN</td>\n",
              "      <td>NaN</td>\n",
              "      <td>NaN</td>\n",
              "      <td>NaN</td>\n",
              "      <td>100.395834</td>\n",
              "      <td>0.711</td>\n",
              "      <td>NaN</td>\n",
              "    </tr>\n",
              "    <tr>\n",
              "      <th>14.503334</th>\n",
              "      <td>NaN</td>\n",
              "      <td>6.0</td>\n",
              "      <td>NaN</td>\n",
              "      <td>NaN</td>\n",
              "      <td>100.518334</td>\n",
              "      <td>NaN</td>\n",
              "      <td>NaN</td>\n",
              "    </tr>\n",
              "    <tr>\n",
              "      <th>14.441667</th>\n",
              "      <td>NaN</td>\n",
              "      <td>NaN</td>\n",
              "      <td>178.0</td>\n",
              "      <td>NaN</td>\n",
              "      <td>100.640834</td>\n",
              "      <td>NaN</td>\n",
              "      <td>NaN</td>\n",
              "    </tr>\n",
              "    <tr>\n",
              "      <th>14.370000</th>\n",
              "      <td>NaN</td>\n",
              "      <td>NaN</td>\n",
              "      <td>NaN</td>\n",
              "      <td>NaN</td>\n",
              "      <td>100.506667</td>\n",
              "      <td>0.573</td>\n",
              "      <td>NaN</td>\n",
              "    </tr>\n",
              "  </tbody>\n",
              "</table>\n",
              "</div>"
            ],
            "text/plain": [
              "           Rainfall intensity  elevation  ...  slope  target\n",
              "lon                                       ...               \n",
              "14.307500                 NaN        2.0  ...    NaN     NaN\n",
              "14.358334                 NaN        9.0  ...    NaN     NaN\n",
              "14.308334                 NaN        NaN  ...    NaN     NaN\n",
              "14.393334                 NaN        7.0  ...    NaN     NaN\n",
              "14.280834                 NaN        5.0  ...    NaN     NaN\n",
              "14.254167                 NaN        NaN  ...    NaN     NaN\n",
              "14.477500                 NaN        NaN  ...  0.711     NaN\n",
              "14.503334                 NaN        6.0  ...    NaN     NaN\n",
              "14.441667                 NaN        NaN  ...    NaN     NaN\n",
              "14.370000                 NaN        NaN  ...  0.573     NaN\n",
              "\n",
              "[10 rows x 7 columns]"
            ]
          },
          "execution_count": 76,
          "metadata": {
            "tags": []
          },
          "output_type": "execute_result"
        }
      ],
      "source": [
        "result.sample(10)"
      ]
    },
    {
      "cell_type": "code",
      "execution_count": 77,
      "metadata": {
        "colab": {
          "base_uri": "https://localhost:8080/",
          "height": 406
        },
        "colab_type": "code",
        "id": "8gPh1At_VIB6",
        "outputId": "854f962c-5282-4aa1-dfb1-aa616217d83c"
      },
      "outputs": [
        {
          "data": {
            "text/html": [
              "<div>\n",
              "<style scoped>\n",
              "    .dataframe tbody tr th:only-of-type {\n",
              "        vertical-align: middle;\n",
              "    }\n",
              "\n",
              "    .dataframe tbody tr th {\n",
              "        vertical-align: top;\n",
              "    }\n",
              "\n",
              "    .dataframe thead th {\n",
              "        text-align: right;\n",
              "    }\n",
              "</style>\n",
              "<table border=\"1\" class=\"dataframe\">\n",
              "  <thead>\n",
              "    <tr style=\"text-align: right;\">\n",
              "      <th></th>\n",
              "      <th>lon</th>\n",
              "      <th>Rainfall intensity</th>\n",
              "      <th>elevation</th>\n",
              "      <th>flow accumulation</th>\n",
              "      <th>land use</th>\n",
              "      <th>lat</th>\n",
              "      <th>slope</th>\n",
              "      <th>target</th>\n",
              "    </tr>\n",
              "  </thead>\n",
              "  <tbody>\n",
              "    <tr>\n",
              "      <th>0</th>\n",
              "      <td>14.222500</td>\n",
              "      <td>NaN</td>\n",
              "      <td>6.0</td>\n",
              "      <td>NaN</td>\n",
              "      <td>NaN</td>\n",
              "      <td>100.243334</td>\n",
              "      <td>NaN</td>\n",
              "      <td>NaN</td>\n",
              "    </tr>\n",
              "    <tr>\n",
              "      <th>1</th>\n",
              "      <td>14.223334</td>\n",
              "      <td>NaN</td>\n",
              "      <td>5.0</td>\n",
              "      <td>NaN</td>\n",
              "      <td>NaN</td>\n",
              "      <td>100.243334</td>\n",
              "      <td>NaN</td>\n",
              "      <td>NaN</td>\n",
              "    </tr>\n",
              "    <tr>\n",
              "      <th>2</th>\n",
              "      <td>14.224167</td>\n",
              "      <td>NaN</td>\n",
              "      <td>8.0</td>\n",
              "      <td>NaN</td>\n",
              "      <td>NaN</td>\n",
              "      <td>100.243334</td>\n",
              "      <td>NaN</td>\n",
              "      <td>NaN</td>\n",
              "    </tr>\n",
              "    <tr>\n",
              "      <th>3</th>\n",
              "      <td>14.225000</td>\n",
              "      <td>NaN</td>\n",
              "      <td>6.0</td>\n",
              "      <td>NaN</td>\n",
              "      <td>NaN</td>\n",
              "      <td>100.243334</td>\n",
              "      <td>NaN</td>\n",
              "      <td>NaN</td>\n",
              "    </tr>\n",
              "    <tr>\n",
              "      <th>4</th>\n",
              "      <td>14.225834</td>\n",
              "      <td>NaN</td>\n",
              "      <td>7.0</td>\n",
              "      <td>NaN</td>\n",
              "      <td>NaN</td>\n",
              "      <td>100.243334</td>\n",
              "      <td>NaN</td>\n",
              "      <td>NaN</td>\n",
              "    </tr>\n",
              "    <tr>\n",
              "      <th>...</th>\n",
              "      <td>...</td>\n",
              "      <td>...</td>\n",
              "      <td>...</td>\n",
              "      <td>...</td>\n",
              "      <td>...</td>\n",
              "      <td>...</td>\n",
              "      <td>...</td>\n",
              "      <td>...</td>\n",
              "    </tr>\n",
              "    <tr>\n",
              "      <th>934214</th>\n",
              "      <td>14.338482</td>\n",
              "      <td>NaN</td>\n",
              "      <td>NaN</td>\n",
              "      <td>NaN</td>\n",
              "      <td>NaN</td>\n",
              "      <td>100.724899</td>\n",
              "      <td>NaN</td>\n",
              "      <td>1.0</td>\n",
              "    </tr>\n",
              "    <tr>\n",
              "      <th>934215</th>\n",
              "      <td>14.268592</td>\n",
              "      <td>NaN</td>\n",
              "      <td>NaN</td>\n",
              "      <td>NaN</td>\n",
              "      <td>NaN</td>\n",
              "      <td>100.741778</td>\n",
              "      <td>NaN</td>\n",
              "      <td>1.0</td>\n",
              "    </tr>\n",
              "    <tr>\n",
              "      <th>934216</th>\n",
              "      <td>14.299228</td>\n",
              "      <td>NaN</td>\n",
              "      <td>NaN</td>\n",
              "      <td>NaN</td>\n",
              "      <td>NaN</td>\n",
              "      <td>100.756537</td>\n",
              "      <td>NaN</td>\n",
              "      <td>1.0</td>\n",
              "    </tr>\n",
              "    <tr>\n",
              "      <th>934217</th>\n",
              "      <td>14.325187</td>\n",
              "      <td>NaN</td>\n",
              "      <td>NaN</td>\n",
              "      <td>NaN</td>\n",
              "      <td>NaN</td>\n",
              "      <td>100.758334</td>\n",
              "      <td>NaN</td>\n",
              "      <td>1.0</td>\n",
              "    </tr>\n",
              "    <tr>\n",
              "      <th>934218</th>\n",
              "      <td>14.332380</td>\n",
              "      <td>NaN</td>\n",
              "      <td>NaN</td>\n",
              "      <td>NaN</td>\n",
              "      <td>NaN</td>\n",
              "      <td>100.774993</td>\n",
              "      <td>NaN</td>\n",
              "      <td>1.0</td>\n",
              "    </tr>\n",
              "  </tbody>\n",
              "</table>\n",
              "<p>934219 rows × 8 columns</p>\n",
              "</div>"
            ],
            "text/plain": [
              "              lon  Rainfall intensity  elevation  ...         lat  slope  target\n",
              "0       14.222500                 NaN        6.0  ...  100.243334    NaN     NaN\n",
              "1       14.223334                 NaN        5.0  ...  100.243334    NaN     NaN\n",
              "2       14.224167                 NaN        8.0  ...  100.243334    NaN     NaN\n",
              "3       14.225000                 NaN        6.0  ...  100.243334    NaN     NaN\n",
              "4       14.225834                 NaN        7.0  ...  100.243334    NaN     NaN\n",
              "...           ...                 ...        ...  ...         ...    ...     ...\n",
              "934214  14.338482                 NaN        NaN  ...  100.724899    NaN     1.0\n",
              "934215  14.268592                 NaN        NaN  ...  100.741778    NaN     1.0\n",
              "934216  14.299228                 NaN        NaN  ...  100.756537    NaN     1.0\n",
              "934217  14.325187                 NaN        NaN  ...  100.758334    NaN     1.0\n",
              "934218  14.332380                 NaN        NaN  ...  100.774993    NaN     1.0\n",
              "\n",
              "[934219 rows x 8 columns]"
            ]
          },
          "execution_count": 77,
          "metadata": {
            "tags": []
          },
          "output_type": "execute_result"
        }
      ],
      "source": [
        "result.reset_index()"
      ]
    },
    {
      "cell_type": "code",
      "execution_count": null,
      "metadata": {
        "colab": {},
        "colab_type": "code",
        "id": "uYWR6urTVICC"
      },
      "outputs": [],
      "source": [
        "#result.fillna(0, inplace = True)"
      ]
    },
    {
      "cell_type": "code",
      "execution_count": 79,
      "metadata": {
        "colab": {
          "base_uri": "https://localhost:8080/",
          "height": 34
        },
        "colab_type": "code",
        "id": "-wg9xX28VICI",
        "outputId": "5143533e-f3fa-417f-c176-4f95c0574985"
      },
      "outputs": [
        {
          "data": {
            "text/plain": [
              "(934219, 7)"
            ]
          },
          "execution_count": 79,
          "metadata": {
            "tags": []
          },
          "output_type": "execute_result"
        }
      ],
      "source": [
        "result.shape"
      ]
    },
    {
      "cell_type": "code",
      "execution_count": null,
      "metadata": {
        "colab": {},
        "colab_type": "code",
        "id": "nL_4mZ7cVICN"
      },
      "outputs": [],
      "source": [
        "#fulldataset = result.dropna(axis=0, subset=['target'])\n",
        "result.target.fillna(0.0, inplace=True)"
      ]
    },
    {
      "cell_type": "code",
      "execution_count": 81,
      "metadata": {
        "colab": {
          "base_uri": "https://localhost:8080/",
          "height": 34
        },
        "colab_type": "code",
        "id": "gxElsXInVICU",
        "outputId": "9596bb08-a92d-44a6-fe81-fcfa05e0a00b"
      },
      "outputs": [
        {
          "data": {
            "text/plain": [
              "(934219, 7)"
            ]
          },
          "execution_count": 81,
          "metadata": {
            "tags": []
          },
          "output_type": "execute_result"
        }
      ],
      "source": [
        "result.shape"
      ]
    },
    {
      "cell_type": "code",
      "execution_count": 82,
      "metadata": {
        "colab": {
          "base_uri": "https://localhost:8080/",
          "height": 227
        },
        "colab_type": "code",
        "id": "yYSAG0kbVICd",
        "outputId": "2c681374-7fb1-4b72-a58f-5ae5092bb756"
      },
      "outputs": [
        {
          "data": {
            "text/html": [
              "<div>\n",
              "<style scoped>\n",
              "    .dataframe tbody tr th:only-of-type {\n",
              "        vertical-align: middle;\n",
              "    }\n",
              "\n",
              "    .dataframe tbody tr th {\n",
              "        vertical-align: top;\n",
              "    }\n",
              "\n",
              "    .dataframe thead th {\n",
              "        text-align: right;\n",
              "    }\n",
              "</style>\n",
              "<table border=\"1\" class=\"dataframe\">\n",
              "  <thead>\n",
              "    <tr style=\"text-align: right;\">\n",
              "      <th></th>\n",
              "      <th>Rainfall intensity</th>\n",
              "      <th>elevation</th>\n",
              "      <th>flow accumulation</th>\n",
              "      <th>land use</th>\n",
              "      <th>lat</th>\n",
              "      <th>slope</th>\n",
              "      <th>target</th>\n",
              "    </tr>\n",
              "    <tr>\n",
              "      <th>lon</th>\n",
              "      <th></th>\n",
              "      <th></th>\n",
              "      <th></th>\n",
              "      <th></th>\n",
              "      <th></th>\n",
              "      <th></th>\n",
              "      <th></th>\n",
              "    </tr>\n",
              "  </thead>\n",
              "  <tbody>\n",
              "    <tr>\n",
              "      <th>14.222500</th>\n",
              "      <td>NaN</td>\n",
              "      <td>6.0</td>\n",
              "      <td>NaN</td>\n",
              "      <td>NaN</td>\n",
              "      <td>100.243334</td>\n",
              "      <td>NaN</td>\n",
              "      <td>0.0</td>\n",
              "    </tr>\n",
              "    <tr>\n",
              "      <th>14.223334</th>\n",
              "      <td>NaN</td>\n",
              "      <td>5.0</td>\n",
              "      <td>NaN</td>\n",
              "      <td>NaN</td>\n",
              "      <td>100.243334</td>\n",
              "      <td>NaN</td>\n",
              "      <td>0.0</td>\n",
              "    </tr>\n",
              "    <tr>\n",
              "      <th>14.224167</th>\n",
              "      <td>NaN</td>\n",
              "      <td>8.0</td>\n",
              "      <td>NaN</td>\n",
              "      <td>NaN</td>\n",
              "      <td>100.243334</td>\n",
              "      <td>NaN</td>\n",
              "      <td>0.0</td>\n",
              "    </tr>\n",
              "    <tr>\n",
              "      <th>14.225000</th>\n",
              "      <td>NaN</td>\n",
              "      <td>6.0</td>\n",
              "      <td>NaN</td>\n",
              "      <td>NaN</td>\n",
              "      <td>100.243334</td>\n",
              "      <td>NaN</td>\n",
              "      <td>0.0</td>\n",
              "    </tr>\n",
              "    <tr>\n",
              "      <th>14.225834</th>\n",
              "      <td>NaN</td>\n",
              "      <td>7.0</td>\n",
              "      <td>NaN</td>\n",
              "      <td>NaN</td>\n",
              "      <td>100.243334</td>\n",
              "      <td>NaN</td>\n",
              "      <td>0.0</td>\n",
              "    </tr>\n",
              "  </tbody>\n",
              "</table>\n",
              "</div>"
            ],
            "text/plain": [
              "           Rainfall intensity  elevation  ...  slope  target\n",
              "lon                                       ...               \n",
              "14.222500                 NaN        6.0  ...    NaN     0.0\n",
              "14.223334                 NaN        5.0  ...    NaN     0.0\n",
              "14.224167                 NaN        8.0  ...    NaN     0.0\n",
              "14.225000                 NaN        6.0  ...    NaN     0.0\n",
              "14.225834                 NaN        7.0  ...    NaN     0.0\n",
              "\n",
              "[5 rows x 7 columns]"
            ]
          },
          "execution_count": 82,
          "metadata": {
            "tags": []
          },
          "output_type": "execute_result"
        }
      ],
      "source": [
        "result.head()"
      ]
    },
    {
      "cell_type": "code",
      "execution_count": null,
      "metadata": {
        "colab": {},
        "colab_type": "code",
        "id": "Aq1Ucq-qVICx"
      },
      "outputs": [],
      "source": [
        "result.fillna(result.mean() ,inplace=True)"
      ]
    },
    {
      "cell_type": "code",
      "execution_count": 84,
      "metadata": {
        "colab": {
          "base_uri": "https://localhost:8080/",
          "height": 527
        },
        "colab_type": "code",
        "id": "MlFwybfEVIC0",
        "outputId": "7a4cf54e-c134-49e4-ef84-794b8a542e12"
      },
      "outputs": [
        {
          "data": {
            "text/html": [
              "<div>\n",
              "<style scoped>\n",
              "    .dataframe tbody tr th:only-of-type {\n",
              "        vertical-align: middle;\n",
              "    }\n",
              "\n",
              "    .dataframe tbody tr th {\n",
              "        vertical-align: top;\n",
              "    }\n",
              "\n",
              "    .dataframe thead th {\n",
              "        text-align: right;\n",
              "    }\n",
              "</style>\n",
              "<table border=\"1\" class=\"dataframe\">\n",
              "  <thead>\n",
              "    <tr style=\"text-align: right;\">\n",
              "      <th></th>\n",
              "      <th>Rainfall intensity</th>\n",
              "      <th>elevation</th>\n",
              "      <th>flow accumulation</th>\n",
              "      <th>land use</th>\n",
              "      <th>lat</th>\n",
              "      <th>slope</th>\n",
              "      <th>target</th>\n",
              "    </tr>\n",
              "    <tr>\n",
              "      <th>lon</th>\n",
              "      <th></th>\n",
              "      <th></th>\n",
              "      <th></th>\n",
              "      <th></th>\n",
              "      <th></th>\n",
              "      <th></th>\n",
              "      <th></th>\n",
              "    </tr>\n",
              "  </thead>\n",
              "  <tbody>\n",
              "    <tr>\n",
              "      <th>14.222500</th>\n",
              "      <td>2727.666667</td>\n",
              "      <td>6.0</td>\n",
              "      <td>544.027806</td>\n",
              "      <td>6.881292</td>\n",
              "      <td>100.243334</td>\n",
              "      <td>7.355227e+33</td>\n",
              "      <td>0.0</td>\n",
              "    </tr>\n",
              "    <tr>\n",
              "      <th>14.223334</th>\n",
              "      <td>2727.666667</td>\n",
              "      <td>5.0</td>\n",
              "      <td>544.027806</td>\n",
              "      <td>6.881292</td>\n",
              "      <td>100.243334</td>\n",
              "      <td>7.355227e+33</td>\n",
              "      <td>0.0</td>\n",
              "    </tr>\n",
              "    <tr>\n",
              "      <th>14.224167</th>\n",
              "      <td>2727.666667</td>\n",
              "      <td>8.0</td>\n",
              "      <td>544.027806</td>\n",
              "      <td>6.881292</td>\n",
              "      <td>100.243334</td>\n",
              "      <td>7.355227e+33</td>\n",
              "      <td>0.0</td>\n",
              "    </tr>\n",
              "    <tr>\n",
              "      <th>14.225000</th>\n",
              "      <td>2727.666667</td>\n",
              "      <td>6.0</td>\n",
              "      <td>544.027806</td>\n",
              "      <td>6.881292</td>\n",
              "      <td>100.243334</td>\n",
              "      <td>7.355227e+33</td>\n",
              "      <td>0.0</td>\n",
              "    </tr>\n",
              "    <tr>\n",
              "      <th>14.225834</th>\n",
              "      <td>2727.666667</td>\n",
              "      <td>7.0</td>\n",
              "      <td>544.027806</td>\n",
              "      <td>6.881292</td>\n",
              "      <td>100.243334</td>\n",
              "      <td>7.355227e+33</td>\n",
              "      <td>0.0</td>\n",
              "    </tr>\n",
              "    <tr>\n",
              "      <th>14.226667</th>\n",
              "      <td>2727.666667</td>\n",
              "      <td>7.0</td>\n",
              "      <td>544.027806</td>\n",
              "      <td>6.881292</td>\n",
              "      <td>100.243334</td>\n",
              "      <td>7.355227e+33</td>\n",
              "      <td>0.0</td>\n",
              "    </tr>\n",
              "    <tr>\n",
              "      <th>14.227500</th>\n",
              "      <td>2727.666667</td>\n",
              "      <td>6.0</td>\n",
              "      <td>544.027806</td>\n",
              "      <td>6.881292</td>\n",
              "      <td>100.243334</td>\n",
              "      <td>7.355227e+33</td>\n",
              "      <td>0.0</td>\n",
              "    </tr>\n",
              "    <tr>\n",
              "      <th>14.228334</th>\n",
              "      <td>2727.666667</td>\n",
              "      <td>6.0</td>\n",
              "      <td>544.027806</td>\n",
              "      <td>6.881292</td>\n",
              "      <td>100.243334</td>\n",
              "      <td>7.355227e+33</td>\n",
              "      <td>0.0</td>\n",
              "    </tr>\n",
              "    <tr>\n",
              "      <th>14.229167</th>\n",
              "      <td>2727.666667</td>\n",
              "      <td>6.0</td>\n",
              "      <td>544.027806</td>\n",
              "      <td>6.881292</td>\n",
              "      <td>100.243334</td>\n",
              "      <td>7.355227e+33</td>\n",
              "      <td>0.0</td>\n",
              "    </tr>\n",
              "    <tr>\n",
              "      <th>14.230000</th>\n",
              "      <td>2727.666667</td>\n",
              "      <td>4.0</td>\n",
              "      <td>544.027806</td>\n",
              "      <td>6.881292</td>\n",
              "      <td>100.243334</td>\n",
              "      <td>7.355227e+33</td>\n",
              "      <td>0.0</td>\n",
              "    </tr>\n",
              "    <tr>\n",
              "      <th>14.230834</th>\n",
              "      <td>2727.666667</td>\n",
              "      <td>6.0</td>\n",
              "      <td>544.027806</td>\n",
              "      <td>6.881292</td>\n",
              "      <td>100.243334</td>\n",
              "      <td>7.355227e+33</td>\n",
              "      <td>0.0</td>\n",
              "    </tr>\n",
              "    <tr>\n",
              "      <th>14.231667</th>\n",
              "      <td>2727.666667</td>\n",
              "      <td>8.0</td>\n",
              "      <td>544.027806</td>\n",
              "      <td>6.881292</td>\n",
              "      <td>100.243334</td>\n",
              "      <td>7.355227e+33</td>\n",
              "      <td>0.0</td>\n",
              "    </tr>\n",
              "    <tr>\n",
              "      <th>14.232500</th>\n",
              "      <td>2727.666667</td>\n",
              "      <td>7.0</td>\n",
              "      <td>544.027806</td>\n",
              "      <td>6.881292</td>\n",
              "      <td>100.243334</td>\n",
              "      <td>7.355227e+33</td>\n",
              "      <td>0.0</td>\n",
              "    </tr>\n",
              "    <tr>\n",
              "      <th>14.233334</th>\n",
              "      <td>2727.666667</td>\n",
              "      <td>8.0</td>\n",
              "      <td>544.027806</td>\n",
              "      <td>6.881292</td>\n",
              "      <td>100.243334</td>\n",
              "      <td>7.355227e+33</td>\n",
              "      <td>0.0</td>\n",
              "    </tr>\n",
              "    <tr>\n",
              "      <th>14.234167</th>\n",
              "      <td>2727.666667</td>\n",
              "      <td>7.0</td>\n",
              "      <td>544.027806</td>\n",
              "      <td>6.881292</td>\n",
              "      <td>100.243334</td>\n",
              "      <td>7.355227e+33</td>\n",
              "      <td>0.0</td>\n",
              "    </tr>\n",
              "  </tbody>\n",
              "</table>\n",
              "</div>"
            ],
            "text/plain": [
              "           Rainfall intensity  elevation  ...         slope  target\n",
              "lon                                       ...                      \n",
              "14.222500         2727.666667        6.0  ...  7.355227e+33     0.0\n",
              "14.223334         2727.666667        5.0  ...  7.355227e+33     0.0\n",
              "14.224167         2727.666667        8.0  ...  7.355227e+33     0.0\n",
              "14.225000         2727.666667        6.0  ...  7.355227e+33     0.0\n",
              "14.225834         2727.666667        7.0  ...  7.355227e+33     0.0\n",
              "14.226667         2727.666667        7.0  ...  7.355227e+33     0.0\n",
              "14.227500         2727.666667        6.0  ...  7.355227e+33     0.0\n",
              "14.228334         2727.666667        6.0  ...  7.355227e+33     0.0\n",
              "14.229167         2727.666667        6.0  ...  7.355227e+33     0.0\n",
              "14.230000         2727.666667        4.0  ...  7.355227e+33     0.0\n",
              "14.230834         2727.666667        6.0  ...  7.355227e+33     0.0\n",
              "14.231667         2727.666667        8.0  ...  7.355227e+33     0.0\n",
              "14.232500         2727.666667        7.0  ...  7.355227e+33     0.0\n",
              "14.233334         2727.666667        8.0  ...  7.355227e+33     0.0\n",
              "14.234167         2727.666667        7.0  ...  7.355227e+33     0.0\n",
              "\n",
              "[15 rows x 7 columns]"
            ]
          },
          "execution_count": 84,
          "metadata": {
            "tags": []
          },
          "output_type": "execute_result"
        }
      ],
      "source": [
        "result.head(15)"
      ]
    },
    {
      "cell_type": "code",
      "execution_count": 85,
      "metadata": {
        "colab": {
          "base_uri": "https://localhost:8080/",
          "height": 137
        },
        "colab_type": "code",
        "id": "LLhjKsCPVIC5",
        "outputId": "e6f56fce-063f-40aa-d1d0-1aeed7f8624d"
      },
      "outputs": [
        {
          "data": {
            "text/html": [
              "<div>\n",
              "<style scoped>\n",
              "    .dataframe tbody tr th:only-of-type {\n",
              "        vertical-align: middle;\n",
              "    }\n",
              "\n",
              "    .dataframe tbody tr th {\n",
              "        vertical-align: top;\n",
              "    }\n",
              "\n",
              "    .dataframe thead th {\n",
              "        text-align: right;\n",
              "    }\n",
              "</style>\n",
              "<table border=\"1\" class=\"dataframe\">\n",
              "  <thead>\n",
              "    <tr style=\"text-align: right;\">\n",
              "      <th></th>\n",
              "      <th>Rainfall intensity</th>\n",
              "      <th>elevation</th>\n",
              "      <th>flow accumulation</th>\n",
              "      <th>land use</th>\n",
              "      <th>lat</th>\n",
              "      <th>slope</th>\n",
              "    </tr>\n",
              "    <tr>\n",
              "      <th>target</th>\n",
              "      <th></th>\n",
              "      <th></th>\n",
              "      <th></th>\n",
              "      <th></th>\n",
              "      <th></th>\n",
              "      <th></th>\n",
              "    </tr>\n",
              "  </thead>\n",
              "  <tbody>\n",
              "    <tr>\n",
              "      <th>0.0</th>\n",
              "      <td>934027</td>\n",
              "      <td>934027</td>\n",
              "      <td>934027</td>\n",
              "      <td>934027</td>\n",
              "      <td>934027</td>\n",
              "      <td>934027</td>\n",
              "    </tr>\n",
              "    <tr>\n",
              "      <th>1.0</th>\n",
              "      <td>192</td>\n",
              "      <td>192</td>\n",
              "      <td>192</td>\n",
              "      <td>192</td>\n",
              "      <td>192</td>\n",
              "      <td>192</td>\n",
              "    </tr>\n",
              "  </tbody>\n",
              "</table>\n",
              "</div>"
            ],
            "text/plain": [
              "        Rainfall intensity  elevation  ...     lat   slope\n",
              "target                                 ...                \n",
              "0.0                 934027     934027  ...  934027  934027\n",
              "1.0                    192        192  ...     192     192\n",
              "\n",
              "[2 rows x 6 columns]"
            ]
          },
          "execution_count": 85,
          "metadata": {
            "tags": []
          },
          "output_type": "execute_result"
        }
      ],
      "source": [
        "# Count Class 1 and Class 0\n",
        "\n",
        "result.groupby('target').count()"
      ]
    },
    {
      "cell_type": "code",
      "execution_count": null,
      "metadata": {
        "colab": {},
        "colab_type": "code",
        "id": "t4B80z5AVIC_"
      },
      "outputs": [],
      "source": [
        "data = result"
      ]
    },
    {
      "cell_type": "markdown",
      "metadata": {
        "colab_type": "text",
        "id": "DzR6_eiVVIDC"
      },
      "source": [
        "# Done! We've created the final data."
      ]
    },
    {
      "cell_type": "code",
      "execution_count": 87,
      "metadata": {
        "colab": {
          "base_uri": "https://localhost:8080/",
          "height": 377
        },
        "colab_type": "code",
        "id": "IDd4rF9WVIDG",
        "outputId": "0684d5c6-affd-4e17-8130-4b8d1c44da01"
      },
      "outputs": [
        {
          "data": {
            "text/html": [
              "<div>\n",
              "<style scoped>\n",
              "    .dataframe tbody tr th:only-of-type {\n",
              "        vertical-align: middle;\n",
              "    }\n",
              "\n",
              "    .dataframe tbody tr th {\n",
              "        vertical-align: top;\n",
              "    }\n",
              "\n",
              "    .dataframe thead th {\n",
              "        text-align: right;\n",
              "    }\n",
              "</style>\n",
              "<table border=\"1\" class=\"dataframe\">\n",
              "  <thead>\n",
              "    <tr style=\"text-align: right;\">\n",
              "      <th></th>\n",
              "      <th>Rainfall intensity</th>\n",
              "      <th>elevation</th>\n",
              "      <th>flow accumulation</th>\n",
              "      <th>land use</th>\n",
              "      <th>lat</th>\n",
              "      <th>slope</th>\n",
              "      <th>target</th>\n",
              "    </tr>\n",
              "    <tr>\n",
              "      <th>lon</th>\n",
              "      <th></th>\n",
              "      <th></th>\n",
              "      <th></th>\n",
              "      <th></th>\n",
              "      <th></th>\n",
              "      <th></th>\n",
              "      <th></th>\n",
              "    </tr>\n",
              "  </thead>\n",
              "  <tbody>\n",
              "    <tr>\n",
              "      <th>14.300000</th>\n",
              "      <td>2727.666667</td>\n",
              "      <td>5.454903</td>\n",
              "      <td>236.000000</td>\n",
              "      <td>6.881292</td>\n",
              "      <td>100.755000</td>\n",
              "      <td>7.355227e+33</td>\n",
              "      <td>0.0</td>\n",
              "    </tr>\n",
              "    <tr>\n",
              "      <th>14.418334</th>\n",
              "      <td>2727.666667</td>\n",
              "      <td>5.454903</td>\n",
              "      <td>544.027806</td>\n",
              "      <td>6.881292</td>\n",
              "      <td>100.644167</td>\n",
              "      <td>1.216000e+00</td>\n",
              "      <td>0.0</td>\n",
              "    </tr>\n",
              "    <tr>\n",
              "      <th>14.315000</th>\n",
              "      <td>2727.666667</td>\n",
              "      <td>5.454903</td>\n",
              "      <td>5.000000</td>\n",
              "      <td>6.881292</td>\n",
              "      <td>100.538334</td>\n",
              "      <td>7.355227e+33</td>\n",
              "      <td>0.0</td>\n",
              "    </tr>\n",
              "    <tr>\n",
              "      <th>14.405000</th>\n",
              "      <td>2727.666667</td>\n",
              "      <td>4.000000</td>\n",
              "      <td>544.027806</td>\n",
              "      <td>6.881292</td>\n",
              "      <td>100.512500</td>\n",
              "      <td>7.355227e+33</td>\n",
              "      <td>0.0</td>\n",
              "    </tr>\n",
              "    <tr>\n",
              "      <th>14.431667</th>\n",
              "      <td>2727.666667</td>\n",
              "      <td>5.454903</td>\n",
              "      <td>7.000000</td>\n",
              "      <td>6.881292</td>\n",
              "      <td>100.315834</td>\n",
              "      <td>7.355227e+33</td>\n",
              "      <td>0.0</td>\n",
              "    </tr>\n",
              "    <tr>\n",
              "      <th>14.605000</th>\n",
              "      <td>2727.666667</td>\n",
              "      <td>5.454903</td>\n",
              "      <td>544.027806</td>\n",
              "      <td>6.881292</td>\n",
              "      <td>100.507500</td>\n",
              "      <td>2.510000e-01</td>\n",
              "      <td>0.0</td>\n",
              "    </tr>\n",
              "    <tr>\n",
              "      <th>14.485834</th>\n",
              "      <td>2727.666667</td>\n",
              "      <td>5.454903</td>\n",
              "      <td>544.027806</td>\n",
              "      <td>6.881292</td>\n",
              "      <td>100.537500</td>\n",
              "      <td>6.360000e-01</td>\n",
              "      <td>0.0</td>\n",
              "    </tr>\n",
              "    <tr>\n",
              "      <th>14.307500</th>\n",
              "      <td>2727.666667</td>\n",
              "      <td>5.454903</td>\n",
              "      <td>544.027806</td>\n",
              "      <td>6.881292</td>\n",
              "      <td>100.785000</td>\n",
              "      <td>5.620000e-01</td>\n",
              "      <td>0.0</td>\n",
              "    </tr>\n",
              "    <tr>\n",
              "      <th>14.335834</th>\n",
              "      <td>2727.666667</td>\n",
              "      <td>5.454903</td>\n",
              "      <td>553.000000</td>\n",
              "      <td>6.881292</td>\n",
              "      <td>100.695000</td>\n",
              "      <td>7.355227e+33</td>\n",
              "      <td>0.0</td>\n",
              "    </tr>\n",
              "    <tr>\n",
              "      <th>14.211667</th>\n",
              "      <td>2727.666667</td>\n",
              "      <td>5.454903</td>\n",
              "      <td>19.000000</td>\n",
              "      <td>6.881292</td>\n",
              "      <td>100.330000</td>\n",
              "      <td>7.355227e+33</td>\n",
              "      <td>0.0</td>\n",
              "    </tr>\n",
              "  </tbody>\n",
              "</table>\n",
              "</div>"
            ],
            "text/plain": [
              "           Rainfall intensity  elevation  ...         slope  target\n",
              "lon                                       ...                      \n",
              "14.300000         2727.666667   5.454903  ...  7.355227e+33     0.0\n",
              "14.418334         2727.666667   5.454903  ...  1.216000e+00     0.0\n",
              "14.315000         2727.666667   5.454903  ...  7.355227e+33     0.0\n",
              "14.405000         2727.666667   4.000000  ...  7.355227e+33     0.0\n",
              "14.431667         2727.666667   5.454903  ...  7.355227e+33     0.0\n",
              "14.605000         2727.666667   5.454903  ...  2.510000e-01     0.0\n",
              "14.485834         2727.666667   5.454903  ...  6.360000e-01     0.0\n",
              "14.307500         2727.666667   5.454903  ...  5.620000e-01     0.0\n",
              "14.335834         2727.666667   5.454903  ...  7.355227e+33     0.0\n",
              "14.211667         2727.666667   5.454903  ...  7.355227e+33     0.0\n",
              "\n",
              "[10 rows x 7 columns]"
            ]
          },
          "execution_count": 87,
          "metadata": {
            "tags": []
          },
          "output_type": "execute_result"
        }
      ],
      "source": [
        "data.sample(10)"
      ]
    },
    {
      "cell_type": "markdown",
      "metadata": {
        "colab_type": "text",
        "id": "A7tBnqpgVIDM"
      },
      "source": [
        "# Let's create neural nets model"
      ]
    },
    {
      "cell_type": "code",
      "execution_count": 88,
      "metadata": {
        "colab": {
          "base_uri": "https://localhost:8080/",
          "height": 34
        },
        "colab_type": "code",
        "id": "yXdwI85pVIDN",
        "outputId": "f8230e71-5244-4dee-b800-53d252143a5d"
      },
      "outputs": [
        {
          "data": {
            "text/plain": [
              "(934219, 7)"
            ]
          },
          "execution_count": 88,
          "metadata": {
            "tags": []
          },
          "output_type": "execute_result"
        }
      ],
      "source": [
        "data.shape"
      ]
    },
    {
      "cell_type": "code",
      "execution_count": 89,
      "metadata": {
        "colab": {
          "base_uri": "https://localhost:8080/",
          "height": 137
        },
        "colab_type": "code",
        "id": "6XKaXRWYVIDS",
        "outputId": "6604eff0-a452-42aa-aac2-6599d402b4ab"
      },
      "outputs": [
        {
          "data": {
            "text/html": [
              "<div>\n",
              "<style scoped>\n",
              "    .dataframe tbody tr th:only-of-type {\n",
              "        vertical-align: middle;\n",
              "    }\n",
              "\n",
              "    .dataframe tbody tr th {\n",
              "        vertical-align: top;\n",
              "    }\n",
              "\n",
              "    .dataframe thead th {\n",
              "        text-align: right;\n",
              "    }\n",
              "</style>\n",
              "<table border=\"1\" class=\"dataframe\">\n",
              "  <thead>\n",
              "    <tr style=\"text-align: right;\">\n",
              "      <th></th>\n",
              "      <th>Rainfall intensity</th>\n",
              "      <th>elevation</th>\n",
              "      <th>flow accumulation</th>\n",
              "      <th>land use</th>\n",
              "      <th>lat</th>\n",
              "      <th>slope</th>\n",
              "    </tr>\n",
              "    <tr>\n",
              "      <th>target</th>\n",
              "      <th></th>\n",
              "      <th></th>\n",
              "      <th></th>\n",
              "      <th></th>\n",
              "      <th></th>\n",
              "      <th></th>\n",
              "    </tr>\n",
              "  </thead>\n",
              "  <tbody>\n",
              "    <tr>\n",
              "      <th>0.0</th>\n",
              "      <td>192</td>\n",
              "      <td>192</td>\n",
              "      <td>192</td>\n",
              "      <td>192</td>\n",
              "      <td>192</td>\n",
              "      <td>192</td>\n",
              "    </tr>\n",
              "    <tr>\n",
              "      <th>1.0</th>\n",
              "      <td>192</td>\n",
              "      <td>192</td>\n",
              "      <td>192</td>\n",
              "      <td>192</td>\n",
              "      <td>192</td>\n",
              "      <td>192</td>\n",
              "    </tr>\n",
              "  </tbody>\n",
              "</table>\n",
              "</div>"
            ],
            "text/plain": [
              "        Rainfall intensity  elevation  flow accumulation  land use  lat  slope\n",
              "target                                                                        \n",
              "0.0                    192        192                192       192  192    192\n",
              "1.0                    192        192                192       192  192    192"
            ]
          },
          "execution_count": 89,
          "metadata": {
            "tags": []
          },
          "output_type": "execute_result"
        }
      ],
      "source": [
        "from sklearn.utils import resample\n",
        "# Separate majority and minority classes\n",
        "df_majority = data[data.target==1.0] #I classified negative class as '0'\n",
        "df_minority = data[data.target==0.0]\n",
        "\n",
        "# Upsample minority class\n",
        "df_minority_upsampled = resample(df_minority, \n",
        "                                 replace=True,       # sample with replacement\n",
        "                                 n_samples=192,    # to match majority class\n",
        "                                 random_state=123)   # reproducible results\n",
        "\n",
        "# Combine majority class with upsampled minority class\n",
        "data = pd.concat([df_majority, df_minority_upsampled])\n",
        "\n",
        "# Display new class counts\n",
        "data.groupby('target').count()"
      ]
    },
    {
      "cell_type": "code",
      "execution_count": null,
      "metadata": {
        "colab": {},
        "colab_type": "code",
        "id": "j6s2WluwVIDW"
      },
      "outputs": [],
      "source": [
        "data.dropna(axis=0, inplace=True)\n",
        "\n",
        "X = data.drop('target',axis=1)\n",
        "y = data['target']"
      ]
    },
    {
      "cell_type": "code",
      "execution_count": null,
      "metadata": {
        "colab": {},
        "colab_type": "code",
        "id": "uBfVBPnDVIDa"
      },
      "outputs": [],
      "source": [
        "from sklearn.model_selection import train_test_split"
      ]
    },
    {
      "cell_type": "code",
      "execution_count": null,
      "metadata": {
        "colab": {},
        "colab_type": "code",
        "id": "KMyzOLJqVIDc"
      },
      "outputs": [],
      "source": [
        "X_train, X_test, y_train, y_test = train_test_split(X, y, random_state=1992)"
      ]
    },
    {
      "cell_type": "code",
      "execution_count": null,
      "metadata": {
        "colab": {},
        "colab_type": "code",
        "id": "DY6ENEisVIDf"
      },
      "outputs": [],
      "source": [
        "from sklearn.preprocessing import StandardScaler\n",
        "scaler = StandardScaler()\n",
        "scaler.fit(X_train)\n",
        "# Now apply the transformations to the data:\n",
        "X_train = scaler.transform(X_train)\n",
        "X_test = scaler.transform(X_test)"
      ]
    },
    {
      "cell_type": "code",
      "execution_count": null,
      "metadata": {
        "colab": {},
        "colab_type": "code",
        "id": "ZH51qqrBVIDx"
      },
      "outputs": [],
      "source": [
        "from sklearn.neural_network import MLPClassifier"
      ]
    },
    {
      "cell_type": "code",
      "execution_count": null,
      "metadata": {
        "colab": {},
        "colab_type": "code",
        "id": "ZtY5ZYVEVID1"
      },
      "outputs": [],
      "source": [
        "mlp = MLPClassifier(activation='relu', alpha=0.0001, batch_size='auto', beta_1=0.9,\n",
        "       beta_2=0.999, early_stopping=True, epsilon=1e-08,\n",
        "       hidden_layer_sizes=22, learning_rate='constant',\n",
        "       learning_rate_init=0.001, max_iter=500, momentum=0.9,\n",
        "       nesterovs_momentum=True, power_t=0.5, random_state=12345,\n",
        "       shuffle=True, solver='adam', tol=0.0001, validation_fraction=0.2,\n",
        "       verbose=False, warm_start=False)"
      ]
    },
    {
      "cell_type": "code",
      "execution_count": 96,
      "metadata": {
        "colab": {
          "base_uri": "https://localhost:8080/",
          "height": 158
        },
        "colab_type": "code",
        "id": "595QeyYUVID3",
        "outputId": "44e54abc-3606-4d98-a095-2488f08f1f6d"
      },
      "outputs": [
        {
          "data": {
            "text/plain": [
              "MLPClassifier(activation='relu', alpha=0.0001, batch_size='auto', beta_1=0.9,\n",
              "              beta_2=0.999, early_stopping=True, epsilon=1e-08,\n",
              "              hidden_layer_sizes=22, learning_rate='constant',\n",
              "              learning_rate_init=0.001, max_fun=15000, max_iter=500,\n",
              "              momentum=0.9, n_iter_no_change=10, nesterovs_momentum=True,\n",
              "              power_t=0.5, random_state=12345, shuffle=True, solver='adam',\n",
              "              tol=0.0001, validation_fraction=0.2, verbose=False,\n",
              "              warm_start=False)"
            ]
          },
          "execution_count": 96,
          "metadata": {
            "tags": []
          },
          "output_type": "execute_result"
        }
      ],
      "source": [
        "mlp.fit(X_train, y_train)"
      ]
    },
    {
      "cell_type": "markdown",
      "metadata": {
        "colab_type": "text",
        "id": "Vv5DtkB6VID7"
      },
      "source": [
        "## Predictions and Evaluation\n",
        "\n",
        "Now that we have a model it is time to use it to get predictions! We can do this simply with the predict() method off of our fitted model:"
      ]
    },
    {
      "cell_type": "code",
      "execution_count": null,
      "metadata": {
        "colab": {},
        "colab_type": "code",
        "id": "8aNAv_yjVID8"
      },
      "outputs": [],
      "source": [
        "predictions = mlp.predict(X_test)"
      ]
    },
    {
      "cell_type": "code",
      "execution_count": null,
      "metadata": {
        "colab": {},
        "colab_type": "code",
        "id": "OQBP78kyVIEA"
      },
      "outputs": [],
      "source": [
        "from sklearn.metrics import classification_report, confusion_matrix"
      ]
    },
    {
      "cell_type": "code",
      "execution_count": 99,
      "metadata": {
        "colab": {
          "base_uri": "https://localhost:8080/",
          "height": 52
        },
        "colab_type": "code",
        "id": "KpRAXOVfVIED",
        "outputId": "5c5a9f83-b1c7-4f53-c0fe-f131095ff94f"
      },
      "outputs": [
        {
          "name": "stdout",
          "output_type": "stream",
          "text": [
            "[[ 0 47]\n",
            " [ 0 49]]\n"
          ]
        }
      ],
      "source": [
        "print(confusion_matrix(y_test,predictions))"
      ]
    },
    {
      "cell_type": "code",
      "execution_count": 100,
      "metadata": {
        "colab": {
          "base_uri": "https://localhost:8080/",
          "height": 176
        },
        "colab_type": "code",
        "id": "3_oWfMGzVIEG",
        "outputId": "4a53e5c8-bb73-45f5-c7fe-f04ca420e0c3"
      },
      "outputs": [
        {
          "name": "stdout",
          "output_type": "stream",
          "text": [
            "              precision    recall  f1-score   support\n",
            "\n",
            "         0.0       0.00      0.00      0.00        47\n",
            "         1.0       0.51      1.00      0.68        49\n",
            "\n",
            "    accuracy                           0.51        96\n",
            "   macro avg       0.26      0.50      0.34        96\n",
            "weighted avg       0.26      0.51      0.34        96\n",
            "\n"
          ]
        }
      ],
      "source": [
        "print(classification_report(y_test,predictions))"
      ]
    },
    {
      "cell_type": "code",
      "execution_count": 101,
      "metadata": {
        "colab": {
          "base_uri": "https://localhost:8080/",
          "height": 1000
        },
        "colab_type": "code",
        "id": "_h15QQdOVIEL",
        "outputId": "1b8ec98b-52ef-4d8c-f6b5-b588b27bbbc1"
      },
      "outputs": [
        {
          "name": "stdout",
          "output_type": "stream",
          "text": [
            "              precision    recall  f1-score   support\n",
            "\n",
            "         0.0   0.000000  0.000000  0.000000        14\n",
            "         1.0   0.517241  1.000000  0.681818        15\n",
            "\n",
            "    accuracy                       0.517241        29\n",
            "   macro avg   0.258621  0.500000  0.340909        29\n",
            "weighted avg   0.267539  0.517241  0.352665        29\n",
            "\n",
            "              precision    recall  f1-score   support\n",
            "\n",
            "         0.0   0.000000  0.000000  0.000000        13\n",
            "         1.0   0.551724  1.000000  0.711111        16\n",
            "\n",
            "    accuracy                       0.551724        29\n",
            "   macro avg   0.275862  0.500000  0.355556        29\n",
            "weighted avg   0.304400  0.551724  0.392337        29\n",
            "\n",
            "              precision    recall  f1-score   support\n",
            "\n",
            "         0.0   0.000000  0.000000  0.000000        14\n",
            "         1.0   0.517241  1.000000  0.681818        15\n",
            "\n",
            "    accuracy                       0.517241        29\n",
            "   macro avg   0.258621  0.500000  0.340909        29\n",
            "weighted avg   0.267539  0.517241  0.352665        29\n",
            "\n",
            "              precision    recall  f1-score   support\n",
            "\n",
            "         0.0   0.000000  0.000000  0.000000        13\n",
            "         1.0   0.551724  1.000000  0.711111        16\n",
            "\n",
            "    accuracy                       0.551724        29\n",
            "   macro avg   0.275862  0.500000  0.355556        29\n",
            "weighted avg   0.304400  0.551724  0.392337        29\n",
            "\n",
            "              precision    recall  f1-score   support\n",
            "\n",
            "         0.0   1.000000  0.176471  0.300000        17\n",
            "         1.0   0.461538  1.000000  0.631579        12\n",
            "\n",
            "    accuracy                       0.517241        29\n",
            "   macro avg   0.730769  0.588235  0.465789        29\n",
            "weighted avg   0.777188  0.517241  0.437205        29\n",
            "\n",
            "              precision    recall  f1-score   support\n",
            "\n",
            "         0.0   0.000000  0.000000  0.000000        18\n",
            "         1.0   0.379310  1.000000  0.550000        11\n",
            "\n",
            "    accuracy                       0.379310        29\n",
            "   macro avg   0.189655  0.500000  0.275000        29\n",
            "weighted avg   0.143876  0.379310  0.208621        29\n",
            "\n",
            "              precision    recall  f1-score   support\n",
            "\n",
            "         0.0   0.000000  0.000000  0.000000        14\n",
            "         1.0   0.517241  1.000000  0.681818        15\n",
            "\n",
            "    accuracy                       0.517241        29\n",
            "   macro avg   0.258621  0.500000  0.340909        29\n",
            "weighted avg   0.267539  0.517241  0.352665        29\n",
            "\n",
            "              precision    recall  f1-score   support\n",
            "\n",
            "         0.0   0.000000  0.000000  0.000000        14\n",
            "         1.0   0.517241  1.000000  0.681818        15\n",
            "\n",
            "    accuracy                       0.517241        29\n",
            "   macro avg   0.258621  0.500000  0.340909        29\n",
            "weighted avg   0.267539  0.517241  0.352665        29\n",
            "\n",
            "              precision    recall  f1-score   support\n",
            "\n",
            "         0.0   1.000000  0.076923  0.142857        13\n",
            "         1.0   0.555556  1.000000  0.714286        15\n",
            "\n",
            "    accuracy                       0.571429        28\n",
            "   macro avg   0.777778  0.538462  0.428571        28\n",
            "weighted avg   0.761905  0.571429  0.448980        28\n",
            "\n",
            "              precision    recall  f1-score   support\n",
            "\n",
            "         0.0   0.000000  0.000000  0.000000        15\n",
            "         1.0   0.464286  1.000000  0.634146        13\n",
            "\n",
            "    accuracy                       0.464286        28\n",
            "   macro avg   0.232143  0.500000  0.317073        28\n",
            "weighted avg   0.215561  0.464286  0.294425        28\n",
            "\n",
            "[0.51724138 0.55172414 0.51724138 0.55172414 0.51724138 0.37931034\n",
            " 0.51724138 0.51724138 0.57142857 0.46428571]\n",
            "0.5714285714285714\n"
          ]
        }
      ],
      "source": [
        "from sklearn.metrics import classification_report, accuracy_score, make_scorer\n",
        "\n",
        "scores = []\n",
        "model = MLPClassifier(activation='relu', alpha=0.0001, batch_size='auto', beta_1=0.9,\n",
        "       beta_2=0.999, early_stopping=True, epsilon=1e-08,\n",
        "       hidden_layer_sizes=22, learning_rate='constant',\n",
        "       learning_rate_init=0.001, max_iter=500, momentum=0.9,\n",
        "       nesterovs_momentum=True, power_t=0.5, random_state=12345,\n",
        "       shuffle=True, solver='adam', tol=0.0001, validation_fraction=0.2,\n",
        "       verbose=False, warm_start=False)\n",
        "\n",
        "cv = KFold(n_splits=10, random_state=42, shuffle=True)\n",
        "\n",
        "def classification_report_with_accuracy_score(y_true, y_pred):\n",
        "\n",
        "    print(classification_report(y_true, y_pred, digits=6)) # print classification report\n",
        "    return accuracy_score(y_true, y_pred) # return accuracy scor\n",
        "\n",
        "nested_score = cross_val_score(model, X_train, y_train, cv=cv,\\\n",
        "               scoring=make_scorer(classification_report_with_accuracy_score))\n",
        "print(nested_score) \n",
        "print(np.max(nested_score))"
      ]
    },
    {
      "cell_type": "code",
      "execution_count": 102,
      "metadata": {
        "colab": {
          "base_uri": "https://localhost:8080/",
          "height": 445
        },
        "colab_type": "code",
        "id": "mm-MiRo9VIEO",
        "outputId": "5d4e9fc7-bfce-495c-a325-564e16c149d4"
      },
      "outputs": [
        {
          "name": "stdout",
          "output_type": "stream",
          "text": [
            "[[ 0 47]\n",
            " [ 0 49]]\n",
            "tn, fp, fn, tp = 0 0 47 49\n"
          ]
        },
        {
          "data": {
            "text/plain": [
              "<matplotlib.axes._subplots.AxesSubplot at 0x7f9e816f9390>"
            ]
          },
          "execution_count": 102,
          "metadata": {
            "tags": []
          },
          "output_type": "execute_result"
        },
        {
          "data": {
            "image/png": "[encoded data removed]",
            "text/plain": [
              "<Figure size 720x432 with 2 Axes>"
            ]
          },
          "metadata": {
            "tags": []
          },
          "output_type": "display_data"
        }
      ],
      "source": [
        "cm =confusion_matrix(y_test,predictions)  \n",
        "print(cm)\n",
        "tn, fp, fn, tp = confusion_matrix(predictions,y_test).ravel()\n",
        "print(\"tn, fp, fn, tp =\", tn, fp, fn, tp)\n",
        "index = ['class 0','class 1']  \n",
        "columns = ['class 0','class 1']  \n",
        "cm_df = pd.DataFrame(cm,columns,index)                      \n",
        "plt.figure(figsize=(10,6))  \n",
        "sns.heatmap(cm_df, annot=True)"
      ]
    },
    {
      "cell_type": "markdown",
      "metadata": {
        "colab_type": "text",
        "id": "BBXP1AWQOd4a"
      },
      "source": [
        "## Model 1: All"
      ]
    },
    {
      "cell_type": "code",
      "execution_count": 103,
      "metadata": {
        "colab": {
          "base_uri": "https://localhost:8080/",
          "height": 212
        },
        "colab_type": "code",
        "id": "tWTn8vpDVIEQ",
        "outputId": "077dd6f6-2fc9-4ab3-9cda-4ab392bfa959"
      },
      "outputs": [
        {
          "name": "stdout",
          "output_type": "stream",
          "text": [
            "[[ 0 47]\n",
            " [ 0 49]]\n",
            "              precision    recall  f1-score   support\n",
            "\n",
            "         0.0       0.00      0.00      0.00        47\n",
            "         1.0       0.51      1.00      0.68        49\n",
            "\n",
            "    accuracy                           0.51        96\n",
            "   macro avg       0.26      0.50      0.34        96\n",
            "weighted avg       0.26      0.51      0.34        96\n",
            "\n"
          ]
        }
      ],
      "source": [
        "data.dropna(axis=0, inplace=True)\n",
        "\n",
        "X = data.drop('target',axis=1)\n",
        "y = data['target']\n",
        "\n",
        "X_train, X_test, y_train, y_test = train_test_split(X, y, random_state=1992)\n",
        "\n",
        "scaler = StandardScaler()\n",
        "scaler.fit(X_train)\n",
        "# Now apply the transformations to the data:\n",
        "X_train = scaler.transform(X_train)\n",
        "X_test = scaler.transform(X_test)\n",
        "\n",
        "mlp = MLPClassifier(activation='relu', alpha=0.0001, batch_size='auto', beta_1=0.9,\n",
        "       beta_2=0.999, early_stopping=True, epsilon=1e-08,\n",
        "       hidden_layer_sizes=22, learning_rate='constant',\n",
        "       learning_rate_init=0.001, max_iter=500, momentum=0.9,\n",
        "       nesterovs_momentum=True, power_t=0.5, random_state=12345,\n",
        "       shuffle=True, solver='adam', tol=0.0001, validation_fraction=0.2,\n",
        "       verbose=False, warm_start=False)\n",
        "\n",
        "mlp.fit(X_train, y_train)\n",
        "\n",
        "predictions = mlp.predict(X_test)\n",
        "\n",
        "print(confusion_matrix(y_test,predictions))\n",
        "\n",
        "print(classification_report(y_test,predictions))"
      ]
    },
    {
      "cell_type": "code",
      "execution_count": 104,
      "metadata": {
        "colab": {
          "base_uri": "https://localhost:8080/",
          "height": 1000
        },
        "colab_type": "code",
        "id": "GrkVaHgpPanT",
        "outputId": "79aed43a-6984-4085-a95c-a50c270a4742"
      },
      "outputs": [
        {
          "name": "stdout",
          "output_type": "stream",
          "text": [
            "              precision    recall  f1-score   support\n",
            "\n",
            "         0.0   0.000000  0.000000  0.000000        14\n",
            "         1.0   0.517241  1.000000  0.681818        15\n",
            "\n",
            "    accuracy                       0.517241        29\n",
            "   macro avg   0.258621  0.500000  0.340909        29\n",
            "weighted avg   0.267539  0.517241  0.352665        29\n",
            "\n",
            "              precision    recall  f1-score   support\n",
            "\n",
            "         0.0   0.000000  0.000000  0.000000        13\n",
            "         1.0   0.551724  1.000000  0.711111        16\n",
            "\n",
            "    accuracy                       0.551724        29\n",
            "   macro avg   0.275862  0.500000  0.355556        29\n",
            "weighted avg   0.304400  0.551724  0.392337        29\n",
            "\n",
            "              precision    recall  f1-score   support\n",
            "\n",
            "         0.0   0.000000  0.000000  0.000000        14\n",
            "         1.0   0.517241  1.000000  0.681818        15\n",
            "\n",
            "    accuracy                       0.517241        29\n",
            "   macro avg   0.258621  0.500000  0.340909        29\n",
            "weighted avg   0.267539  0.517241  0.352665        29\n",
            "\n",
            "              precision    recall  f1-score   support\n",
            "\n",
            "         0.0   0.000000  0.000000  0.000000        13\n",
            "         1.0   0.551724  1.000000  0.711111        16\n",
            "\n",
            "    accuracy                       0.551724        29\n",
            "   macro avg   0.275862  0.500000  0.355556        29\n",
            "weighted avg   0.304400  0.551724  0.392337        29\n",
            "\n",
            "              precision    recall  f1-score   support\n",
            "\n",
            "         0.0   1.000000  0.176471  0.300000        17\n",
            "         1.0   0.461538  1.000000  0.631579        12\n",
            "\n",
            "    accuracy                       0.517241        29\n",
            "   macro avg   0.730769  0.588235  0.465789        29\n",
            "weighted avg   0.777188  0.517241  0.437205        29\n",
            "\n",
            "              precision    recall  f1-score   support\n",
            "\n",
            "         0.0   0.000000  0.000000  0.000000        18\n",
            "         1.0   0.379310  1.000000  0.550000        11\n",
            "\n",
            "    accuracy                       0.379310        29\n",
            "   macro avg   0.189655  0.500000  0.275000        29\n",
            "weighted avg   0.143876  0.379310  0.208621        29\n",
            "\n",
            "              precision    recall  f1-score   support\n",
            "\n",
            "         0.0   0.000000  0.000000  0.000000        14\n",
            "         1.0   0.517241  1.000000  0.681818        15\n",
            "\n",
            "    accuracy                       0.517241        29\n",
            "   macro avg   0.258621  0.500000  0.340909        29\n",
            "weighted avg   0.267539  0.517241  0.352665        29\n",
            "\n",
            "              precision    recall  f1-score   support\n",
            "\n",
            "         0.0   0.000000  0.000000  0.000000        14\n",
            "         1.0   0.517241  1.000000  0.681818        15\n",
            "\n",
            "    accuracy                       0.517241        29\n",
            "   macro avg   0.258621  0.500000  0.340909        29\n",
            "weighted avg   0.267539  0.517241  0.352665        29\n",
            "\n",
            "              precision    recall  f1-score   support\n",
            "\n",
            "         0.0   1.000000  0.076923  0.142857        13\n",
            "         1.0   0.555556  1.000000  0.714286        15\n",
            "\n",
            "    accuracy                       0.571429        28\n",
            "   macro avg   0.777778  0.538462  0.428571        28\n",
            "weighted avg   0.761905  0.571429  0.448980        28\n",
            "\n",
            "              precision    recall  f1-score   support\n",
            "\n",
            "         0.0   0.000000  0.000000  0.000000        15\n",
            "         1.0   0.464286  1.000000  0.634146        13\n",
            "\n",
            "    accuracy                       0.464286        28\n",
            "   macro avg   0.232143  0.500000  0.317073        28\n",
            "weighted avg   0.215561  0.464286  0.294425        28\n",
            "\n",
            "[0.51724138 0.55172414 0.51724138 0.55172414 0.51724138 0.37931034\n",
            " 0.51724138 0.51724138 0.57142857 0.46428571]\n",
            "0.5714285714285714\n"
          ]
        }
      ],
      "source": [
        "from sklearn.metrics import classification_report, accuracy_score, make_scorer\n",
        "\n",
        "scores = []\n",
        "model = MLPClassifier(activation='relu', alpha=0.0001, batch_size='auto', beta_1=0.9,\n",
        "       beta_2=0.999, early_stopping=True, epsilon=1e-08,\n",
        "       hidden_layer_sizes=22, learning_rate='constant',\n",
        "       learning_rate_init=0.001, max_iter=500, momentum=0.9,\n",
        "       nesterovs_momentum=True, power_t=0.5, random_state=12345,\n",
        "       shuffle=True, solver='adam', tol=0.0001, validation_fraction=0.2,\n",
        "       verbose=False, warm_start=False)\n",
        "\n",
        "cv = KFold(n_splits=10, random_state=42, shuffle=True)\n",
        "\n",
        "def classification_report_with_accuracy_score(y_true, y_pred):\n",
        "\n",
        "    print(classification_report(y_true, y_pred, digits=6)) # print classification report\n",
        "    return accuracy_score(y_true, y_pred) # return accuracy scor\n",
        "\n",
        "nested_score = cross_val_score(model, X_train, y_train, cv=cv,\\\n",
        "               scoring=make_scorer(classification_report_with_accuracy_score))\n",
        "print(nested_score) \n",
        "print(np.max(nested_score))"
      ]
    },
    {
      "cell_type": "code",
      "execution_count": 105,
      "metadata": {
        "colab": {
          "base_uri": "https://localhost:8080/",
          "height": 445
        },
        "colab_type": "code",
        "id": "55AHVgoYPcIK",
        "outputId": "8928c824-62d5-46bd-a975-9b9c82f6ec90"
      },
      "outputs": [
        {
          "name": "stdout",
          "output_type": "stream",
          "text": [
            "[[ 0 47]\n",
            " [ 0 49]]\n",
            "tn, fp, fn, tp = 0 0 47 49\n"
          ]
        },
        {
          "data": {
            "text/plain": [
              "<matplotlib.axes._subplots.AxesSubplot at 0x7f9e8165bf28>"
            ]
          },
          "execution_count": 105,
          "metadata": {
            "tags": []
          },
          "output_type": "execute_result"
        },
        {
          "data": {
            "image/png": "[encoded data removed]",
            "text/plain": [
              "<Figure size 720x432 with 2 Axes>"
            ]
          },
          "metadata": {
            "tags": []
          },
          "output_type": "display_data"
        }
      ],
      "source": [
        "cm =confusion_matrix(y_test,predictions)  \n",
        "print(cm)\n",
        "tn, fp, fn, tp = confusion_matrix(predictions,y_test).ravel()\n",
        "print(\"tn, fp, fn, tp =\", tn, fp, fn, tp)\n",
        "index = ['class 0','class 1']  \n",
        "columns = ['class 0','class 1']  \n",
        "cm_df = pd.DataFrame(cm,columns,index)                      \n",
        "plt.figure(figsize=(10,6))  \n",
        "sns.heatmap(cm_df, annot=True)"
      ]
    },
    {
      "cell_type": "markdown",
      "metadata": {
        "colab_type": "text",
        "id": "gRtYdYwlOi3N"
      },
      "source": [
        "## Model 2: All - Slope"
      ]
    },
    {
      "cell_type": "code",
      "execution_count": 106,
      "metadata": {
        "colab": {
          "base_uri": "https://localhost:8080/",
          "height": 70
        },
        "colab_type": "code",
        "id": "7IfBcjiVPoYe",
        "outputId": "6c10a7a7-9ed9-46a7-ee61-3ce773b3ee7e"
      },
      "outputs": [
        {
          "data": {
            "text/plain": [
              "Index(['Rainfall intensity', 'elevation', 'flow accumulation', 'land use',\n",
              "       'lat', 'slope'],\n",
              "      dtype='object')"
            ]
          },
          "execution_count": 106,
          "metadata": {
            "tags": []
          },
          "output_type": "execute_result"
        }
      ],
      "source": [
        "X.columns"
      ]
    },
    {
      "cell_type": "code",
      "execution_count": 107,
      "metadata": {
        "colab": {
          "base_uri": "https://localhost:8080/",
          "height": 212
        },
        "colab_type": "code",
        "id": "qV508zHnOlnn",
        "outputId": "17c56a29-14d7-4bb3-ac0b-6e41f46aac7a"
      },
      "outputs": [
        {
          "name": "stdout",
          "output_type": "stream",
          "text": [
            "[[39  8]\n",
            " [38 11]]\n",
            "              precision    recall  f1-score   support\n",
            "\n",
            "         0.0       0.51      0.83      0.63        47\n",
            "         1.0       0.58      0.22      0.32        49\n",
            "\n",
            "    accuracy                           0.52        96\n",
            "   macro avg       0.54      0.53      0.48        96\n",
            "weighted avg       0.54      0.52      0.47        96\n",
            "\n"
          ]
        }
      ],
      "source": [
        "data.dropna(axis=0, inplace=True)\n",
        "\n",
        "X = data.drop(['target','slope'],axis=1)\n",
        "y = data['target']\n",
        "\n",
        "X_train, X_test, y_train, y_test = train_test_split(X, y, random_state=1992)\n",
        "\n",
        "scaler = StandardScaler()\n",
        "scaler.fit(X_train)\n",
        "# Now apply the transformations to the data:\n",
        "X_train = scaler.transform(X_train)\n",
        "X_test = scaler.transform(X_test)\n",
        "\n",
        "mlp = MLPClassifier(activation='relu', alpha=0.0001, batch_size='auto', beta_1=0.9,\n",
        "       beta_2=0.999, early_stopping=True, epsilon=1e-08,\n",
        "       hidden_layer_sizes=22, learning_rate='constant',\n",
        "       learning_rate_init=0.001, max_iter=500, momentum=0.9,\n",
        "       nesterovs_momentum=True, power_t=0.5, random_state=12345,\n",
        "       shuffle=True, solver='adam', tol=0.0001, validation_fraction=0.2,\n",
        "       verbose=False, warm_start=False)\n",
        "\n",
        "mlp.fit(X_train, y_train)\n",
        "\n",
        "predictions = mlp.predict(X_test)\n",
        "\n",
        "print(confusion_matrix(y_test,predictions))\n",
        "\n",
        "print(classification_report(y_test,predictions))"
      ]
    },
    {
      "cell_type": "code",
      "execution_count": 108,
      "metadata": {
        "colab": {
          "base_uri": "https://localhost:8080/",
          "height": 445
        },
        "colab_type": "code",
        "id": "PP1Tf07wQPfb",
        "outputId": "2a174d17-a59e-4b18-afb9-247b04848ca8"
      },
      "outputs": [
        {
          "name": "stdout",
          "output_type": "stream",
          "text": [
            "[[39  8]\n",
            " [38 11]]\n",
            "tn, fp, fn, tp = 39 38 8 11\n"
          ]
        },
        {
          "data": {
            "text/plain": [
              "<matplotlib.axes._subplots.AxesSubplot at 0x7f9e81564080>"
            ]
          },
          "execution_count": 108,
          "metadata": {
            "tags": []
          },
          "output_type": "execute_result"
        },
        {
          "data": {
            "image/png": "[encoded data removed]",
            "text/plain": [
              "<Figure size 720x432 with 2 Axes>"
            ]
          },
          "metadata": {
            "tags": []
          },
          "output_type": "display_data"
        }
      ],
      "source": [
        "cm =confusion_matrix(y_test,predictions)  \n",
        "print(cm)\n",
        "tn, fp, fn, tp = confusion_matrix(predictions,y_test).ravel()\n",
        "print(\"tn, fp, fn, tp =\", tn, fp, fn, tp)\n",
        "index = ['class 0','class 1']  \n",
        "columns = ['class 0','class 1']  \n",
        "cm_df = pd.DataFrame(cm,columns,index)                      \n",
        "plt.figure(figsize=(10,6))  \n",
        "sns.heatmap(cm_df, annot=True)"
      ]
    },
    {
      "cell_type": "code",
      "execution_count": 109,
      "metadata": {
        "colab": {
          "base_uri": "https://localhost:8080/",
          "height": 1000
        },
        "colab_type": "code",
        "id": "_ip9F7fpQMPK",
        "outputId": "52b55cca-1606-4130-b60a-e93e96f0748a"
      },
      "outputs": [
        {
          "name": "stdout",
          "output_type": "stream",
          "text": [
            "              precision    recall  f1-score   support\n",
            "\n",
            "         0.0   0.434783  0.714286  0.540541        14\n",
            "         1.0   0.333333  0.133333  0.190476        15\n",
            "\n",
            "    accuracy                       0.413793        29\n",
            "   macro avg   0.384058  0.423810  0.365508        29\n",
            "weighted avg   0.382309  0.413793  0.359473        29\n",
            "\n",
            "              precision    recall  f1-score   support\n",
            "\n",
            "         0.0   0.473684  0.692308  0.562500        13\n",
            "         1.0   0.600000  0.375000  0.461538        16\n",
            "\n",
            "    accuracy                       0.517241        29\n",
            "   macro avg   0.536842  0.533654  0.512019        29\n",
            "weighted avg   0.543376  0.517241  0.506797        29\n",
            "\n",
            "              precision    recall  f1-score   support\n",
            "\n",
            "         0.0   0.473684  0.642857  0.545455        14\n",
            "         1.0   0.500000  0.333333  0.400000        15\n",
            "\n",
            "    accuracy                       0.482759        29\n",
            "   macro avg   0.486842  0.488095  0.472727        29\n",
            "weighted avg   0.487296  0.482759  0.470219        29\n",
            "\n",
            "              precision    recall  f1-score   support\n",
            "\n",
            "         0.0   0.347826  0.615385  0.444444        13\n",
            "         1.0   0.166667  0.062500  0.090909        16\n",
            "\n",
            "    accuracy                       0.310345        29\n",
            "   macro avg   0.257246  0.338942  0.267677        29\n",
            "weighted avg   0.247876  0.310345  0.249390        29\n",
            "\n",
            "              precision    recall  f1-score   support\n",
            "\n",
            "         0.0   0.652174  0.882353  0.750000        17\n",
            "         1.0   0.666667  0.333333  0.444444        12\n",
            "\n",
            "    accuracy                       0.655172        29\n",
            "   macro avg   0.659420  0.607843  0.597222        29\n",
            "weighted avg   0.658171  0.655172  0.623563        29\n",
            "\n",
            "              precision    recall  f1-score   support\n",
            "\n",
            "         0.0   0.833333  0.833333  0.833333        18\n",
            "         1.0   0.727273  0.727273  0.727273        11\n",
            "\n",
            "    accuracy                       0.793103        29\n",
            "   macro avg   0.780303  0.780303  0.780303        29\n",
            "weighted avg   0.793103  0.793103  0.793103        29\n",
            "\n",
            "              precision    recall  f1-score   support\n",
            "\n",
            "         0.0   0.421053  0.571429  0.484848        14\n",
            "         1.0   0.400000  0.266667  0.320000        15\n",
            "\n",
            "    accuracy                       0.413793        29\n",
            "   macro avg   0.410526  0.419048  0.402424        29\n",
            "weighted avg   0.410163  0.413793  0.399582        29\n",
            "\n",
            "              precision    recall  f1-score   support\n",
            "\n",
            "         0.0   0.440000  0.785714  0.564103        14\n",
            "         1.0   0.250000  0.066667  0.105263        15\n",
            "\n",
            "    accuracy                       0.413793        29\n",
            "   macro avg   0.345000  0.426190  0.334683        29\n",
            "weighted avg   0.341724  0.413793  0.326772        29\n",
            "\n",
            "              precision    recall  f1-score   support\n",
            "\n",
            "         0.0   0.416667  0.384615  0.400000        13\n",
            "         1.0   0.500000  0.533333  0.516129        15\n",
            "\n",
            "    accuracy                       0.464286        28\n",
            "   macro avg   0.458333  0.458974  0.458065        28\n",
            "weighted avg   0.461310  0.464286  0.462212        28\n",
            "\n",
            "              precision    recall  f1-score   support\n",
            "\n",
            "         0.0   0.421053  0.533333  0.470588        15\n",
            "         1.0   0.222222  0.153846  0.181818        13\n",
            "\n",
            "    accuracy                       0.357143        28\n",
            "   macro avg   0.321637  0.343590  0.326203        28\n",
            "weighted avg   0.328739  0.357143  0.336516        28\n",
            "\n",
            "[0.4137931  0.51724138 0.48275862 0.31034483 0.65517241 0.79310345\n",
            " 0.4137931  0.4137931  0.46428571 0.35714286]\n",
            "0.7931034482758621\n"
          ]
        }
      ],
      "source": [
        "from sklearn.metrics import classification_report, accuracy_score, make_scorer\n",
        "\n",
        "scores = []\n",
        "model = MLPClassifier(activation='relu', alpha=0.0001, batch_size='auto', beta_1=0.9,\n",
        "       beta_2=0.999, early_stopping=True, epsilon=1e-08,\n",
        "       hidden_layer_sizes=22, learning_rate='constant',\n",
        "       learning_rate_init=0.001, max_iter=500, momentum=0.9,\n",
        "       nesterovs_momentum=True, power_t=0.5, random_state=12345,\n",
        "       shuffle=True, solver='adam', tol=0.0001, validation_fraction=0.2,\n",
        "       verbose=False, warm_start=False)\n",
        "\n",
        "cv = KFold(n_splits=10, random_state=42, shuffle=True)\n",
        "\n",
        "def classification_report_with_accuracy_score(y_true, y_pred):\n",
        "\n",
        "    print(classification_report(y_true, y_pred, digits=6)) # print classification report\n",
        "    return accuracy_score(y_true, y_pred) # return accuracy scor\n",
        "\n",
        "nested_score = cross_val_score(model, X_train, y_train, cv=cv,\\\n",
        "               scoring=make_scorer(classification_report_with_accuracy_score))\n",
        "print(nested_score) \n",
        "print(np.max(nested_score))"
      ]
    },
    {
      "cell_type": "markdown",
      "metadata": {
        "colab_type": "text",
        "id": "c22A5xdMOl8s"
      },
      "source": [
        "## Model 3: All - Slope - Rainfall\n"
      ]
    },
    {
      "cell_type": "code",
      "execution_count": 110,
      "metadata": {
        "colab": {
          "base_uri": "https://localhost:8080/",
          "height": 212
        },
        "colab_type": "code",
        "id": "9JTQFLRROqpy",
        "outputId": "f50bd81a-ef88-4e80-b843-2956315066f7"
      },
      "outputs": [
        {
          "name": "stdout",
          "output_type": "stream",
          "text": [
            "[[ 1 46]\n",
            " [ 0 49]]\n",
            "              precision    recall  f1-score   support\n",
            "\n",
            "         0.0       1.00      0.02      0.04        47\n",
            "         1.0       0.52      1.00      0.68        49\n",
            "\n",
            "    accuracy                           0.52        96\n",
            "   macro avg       0.76      0.51      0.36        96\n",
            "weighted avg       0.75      0.52      0.37        96\n",
            "\n"
          ]
        }
      ],
      "source": [
        "data.dropna(axis=0, inplace=True)\n",
        "\n",
        "X = data.drop(['target','slope','Rainfall intensity'],axis=1)\n",
        "y = data['target']\n",
        "\n",
        "X_train, X_test, y_train, y_test = train_test_split(X, y, random_state=1992)\n",
        "\n",
        "scaler = StandardScaler()\n",
        "scaler.fit(X_train)\n",
        "# Now apply the transformations to the data:\n",
        "X_train = scaler.transform(X_train)\n",
        "X_test = scaler.transform(X_test)\n",
        "\n",
        "mlp = MLPClassifier(activation='relu', alpha=0.0001, batch_size='auto', beta_1=0.9,\n",
        "       beta_2=0.999, early_stopping=True, epsilon=1e-08,\n",
        "       hidden_layer_sizes=22, learning_rate='constant',\n",
        "       learning_rate_init=0.001, max_iter=500, momentum=0.9,\n",
        "       nesterovs_momentum=True, power_t=0.5, random_state=12345,\n",
        "       shuffle=True, solver='adam', tol=0.0001, validation_fraction=0.2,\n",
        "       verbose=False, warm_start=False)\n",
        "\n",
        "mlp.fit(X_train, y_train)\n",
        "\n",
        "predictions = mlp.predict(X_test)\n",
        "\n",
        "print(confusion_matrix(y_test,predictions))\n",
        "\n",
        "print(classification_report(y_test,predictions))"
      ]
    },
    {
      "cell_type": "code",
      "execution_count": 111,
      "metadata": {
        "colab": {
          "base_uri": "https://localhost:8080/",
          "height": 445
        },
        "colab_type": "code",
        "id": "MdnNbWDoQQWP",
        "outputId": "96aad33b-5be4-4c27-ec95-16422c348635"
      },
      "outputs": [
        {
          "name": "stdout",
          "output_type": "stream",
          "text": [
            "[[ 1 46]\n",
            " [ 0 49]]\n",
            "tn, fp, fn, tp = 1 0 46 49\n"
          ]
        },
        {
          "data": {
            "text/plain": [
              "<matplotlib.axes._subplots.AxesSubplot at 0x7f9e8163f1d0>"
            ]
          },
          "execution_count": 111,
          "metadata": {
            "tags": []
          },
          "output_type": "execute_result"
        },
        {
          "data": {
            "image/png": "[encoded data removed]",
            "text/plain": [
              "<Figure size 720x432 with 2 Axes>"
            ]
          },
          "metadata": {
            "tags": []
          },
          "output_type": "display_data"
        }
      ],
      "source": [
        "cm =confusion_matrix(y_test,predictions)  \n",
        "print(cm)\n",
        "tn, fp, fn, tp = confusion_matrix(predictions,y_test).ravel()\n",
        "print(\"tn, fp, fn, tp =\", tn, fp, fn, tp)\n",
        "index = ['class 0','class 1']  \n",
        "columns = ['class 0','class 1']  \n",
        "cm_df = pd.DataFrame(cm,columns,index)                      \n",
        "plt.figure(figsize=(10,6))  \n",
        "sns.heatmap(cm_df, annot=True)"
      ]
    },
    {
      "cell_type": "code",
      "execution_count": 112,
      "metadata": {
        "colab": {
          "base_uri": "https://localhost:8080/",
          "height": 1000
        },
        "colab_type": "code",
        "id": "VnUR3iLwQM7f",
        "outputId": "df5787b0-a8f0-4e49-c6c5-f91fced17e02"
      },
      "outputs": [
        {
          "name": "stdout",
          "output_type": "stream",
          "text": [
            "              precision    recall  f1-score   support\n",
            "\n",
            "         0.0   1.000000  0.071429  0.133333        14\n",
            "         1.0   0.535714  1.000000  0.697674        15\n",
            "\n",
            "    accuracy                       0.551724        29\n",
            "   macro avg   0.767857  0.535714  0.415504        29\n",
            "weighted avg   0.759852  0.551724  0.425234        29\n",
            "\n",
            "              precision    recall  f1-score   support\n",
            "\n",
            "         0.0   1.000000  0.307692  0.470588        13\n",
            "         1.0   0.640000  1.000000  0.780488        16\n",
            "\n",
            "    accuracy                       0.689655        29\n",
            "   macro avg   0.820000  0.653846  0.625538        29\n",
            "weighted avg   0.801379  0.689655  0.641567        29\n",
            "\n",
            "              precision    recall  f1-score   support\n",
            "\n",
            "         0.0   0.000000  0.000000  0.000000        14\n",
            "         1.0   0.517241  1.000000  0.681818        15\n",
            "\n",
            "    accuracy                       0.517241        29\n",
            "   macro avg   0.258621  0.500000  0.340909        29\n",
            "weighted avg   0.267539  0.517241  0.352665        29\n",
            "\n",
            "              precision    recall  f1-score   support\n",
            "\n",
            "         0.0   0.000000  0.000000  0.000000        13\n",
            "         1.0   0.551724  1.000000  0.711111        16\n",
            "\n",
            "    accuracy                       0.551724        29\n",
            "   macro avg   0.275862  0.500000  0.355556        29\n",
            "weighted avg   0.304400  0.551724  0.392337        29\n",
            "\n",
            "              precision    recall  f1-score   support\n",
            "\n",
            "         0.0   1.000000  0.235294  0.380952        17\n",
            "         1.0   0.480000  1.000000  0.648649        12\n",
            "\n",
            "    accuracy                       0.551724        29\n",
            "   macro avg   0.740000  0.617647  0.514801        29\n",
            "weighted avg   0.784828  0.551724  0.491723        29\n",
            "\n",
            "              precision    recall  f1-score   support\n",
            "\n",
            "         0.0   0.000000  0.000000  0.000000        18\n",
            "         1.0   0.379310  1.000000  0.550000        11\n",
            "\n",
            "    accuracy                       0.379310        29\n",
            "   macro avg   0.189655  0.500000  0.275000        29\n",
            "weighted avg   0.143876  0.379310  0.208621        29\n",
            "\n",
            "              precision    recall  f1-score   support\n",
            "\n",
            "         0.0   0.875000  0.500000  0.636364        14\n",
            "         1.0   0.666667  0.933333  0.777778        15\n",
            "\n",
            "    accuracy                       0.724138        29\n",
            "   macro avg   0.770833  0.716667  0.707071        29\n",
            "weighted avg   0.767241  0.724138  0.709509        29\n",
            "\n",
            "              precision    recall  f1-score   support\n",
            "\n",
            "         0.0   1.000000  0.071429  0.133333        14\n",
            "         1.0   0.535714  1.000000  0.697674        15\n",
            "\n",
            "    accuracy                       0.551724        29\n",
            "   macro avg   0.767857  0.535714  0.415504        29\n",
            "weighted avg   0.759852  0.551724  0.425234        29\n",
            "\n",
            "              precision    recall  f1-score   support\n",
            "\n",
            "         0.0   0.777778  0.538462  0.636364        13\n",
            "         1.0   0.684211  0.866667  0.764706        15\n",
            "\n",
            "    accuracy                       0.714286        28\n",
            "   macro avg   0.730994  0.702564  0.700535        28\n",
            "weighted avg   0.727652  0.714286  0.705118        28\n",
            "\n",
            "              precision    recall  f1-score   support\n",
            "\n",
            "         0.0   1.000000  0.200000  0.333333        15\n",
            "         1.0   0.520000  1.000000  0.684211        13\n",
            "\n",
            "    accuracy                       0.571429        28\n",
            "   macro avg   0.760000  0.600000  0.508772        28\n",
            "weighted avg   0.777143  0.571429  0.496241        28\n",
            "\n",
            "[0.55172414 0.68965517 0.51724138 0.55172414 0.55172414 0.37931034\n",
            " 0.72413793 0.55172414 0.71428571 0.57142857]\n",
            "0.7241379310344828\n"
          ]
        }
      ],
      "source": [
        "from sklearn.metrics import classification_report, accuracy_score, make_scorer\n",
        "\n",
        "scores = []\n",
        "model = MLPClassifier(activation='relu', alpha=0.0001, batch_size='auto', beta_1=0.9,\n",
        "       beta_2=0.999, early_stopping=True, epsilon=1e-08,\n",
        "       hidden_layer_sizes=22, learning_rate='constant',\n",
        "       learning_rate_init=0.001, max_iter=500, momentum=0.9,\n",
        "       nesterovs_momentum=True, power_t=0.5, random_state=12345,\n",
        "       shuffle=True, solver='adam', tol=0.0001, validation_fraction=0.2,\n",
        "       verbose=False, warm_start=False)\n",
        "\n",
        "cv = KFold(n_splits=10, random_state=42, shuffle=True)\n",
        "\n",
        "def classification_report_with_accuracy_score(y_true, y_pred):\n",
        "\n",
        "    print(classification_report(y_true, y_pred, digits=6)) # print classification report\n",
        "    return accuracy_score(y_true, y_pred) # return accuracy scor\n",
        "\n",
        "nested_score = cross_val_score(model, X_train, y_train, cv=cv,\\\n",
        "               scoring=make_scorer(classification_report_with_accuracy_score))\n",
        "print(nested_score) \n",
        "print(np.max(nested_score))"
      ]
    },
    {
      "cell_type": "markdown",
      "metadata": {
        "colab_type": "text",
        "id": "rlP0uzJAOrKK"
      },
      "source": [
        "## Model 4: All - Slope - Rainfall - Landuse\n"
      ]
    },
    {
      "cell_type": "code",
      "execution_count": 113,
      "metadata": {
        "colab": {
          "base_uri": "https://localhost:8080/",
          "height": 212
        },
        "colab_type": "code",
        "id": "QiNFaEQFOr3S",
        "outputId": "44c34d4b-12a8-41dc-93f1-ad37a035bae7"
      },
      "outputs": [
        {
          "name": "stdout",
          "output_type": "stream",
          "text": [
            "[[17 30]\n",
            " [ 4 45]]\n",
            "              precision    recall  f1-score   support\n",
            "\n",
            "         0.0       0.81      0.36      0.50        47\n",
            "         1.0       0.60      0.92      0.73        49\n",
            "\n",
            "    accuracy                           0.65        96\n",
            "   macro avg       0.70      0.64      0.61        96\n",
            "weighted avg       0.70      0.65      0.62        96\n",
            "\n"
          ]
        }
      ],
      "source": [
        "data.dropna(axis=0, inplace=True)\n",
        "\n",
        "X = data.drop(['target','slope','Rainfall intensity','land use'],axis=1)\n",
        "y = data['target']\n",
        "\n",
        "X_train, X_test, y_train, y_test = train_test_split(X, y, random_state=1992)\n",
        "\n",
        "scaler = StandardScaler()\n",
        "scaler.fit(X_train)\n",
        "# Now apply the transformations to the data:\n",
        "X_train = scaler.transform(X_train)\n",
        "X_test = scaler.transform(X_test)\n",
        "\n",
        "mlp = MLPClassifier(activation='relu', alpha=0.0001, batch_size='auto', beta_1=0.9,\n",
        "       beta_2=0.999, early_stopping=True, epsilon=1e-08,\n",
        "       hidden_layer_sizes=22, learning_rate='constant',\n",
        "       learning_rate_init=0.001, max_iter=500, momentum=0.9,\n",
        "       nesterovs_momentum=True, power_t=0.5, random_state=12345,\n",
        "       shuffle=True, solver='adam', tol=0.0001, validation_fraction=0.2,\n",
        "       verbose=False, warm_start=False)\n",
        "\n",
        "mlp.fit(X_train, y_train)\n",
        "\n",
        "predictions = mlp.predict(X_test)\n",
        "\n",
        "print(confusion_matrix(y_test,predictions))\n",
        "\n",
        "print(classification_report(y_test,predictions))"
      ]
    },
    {
      "cell_type": "code",
      "execution_count": 114,
      "metadata": {
        "colab": {
          "base_uri": "https://localhost:8080/",
          "height": 1000
        },
        "colab_type": "code",
        "id": "g1-4i4mYQNsj",
        "outputId": "2d32e047-0966-41fd-cda7-d5629356cbb3"
      },
      "outputs": [
        {
          "name": "stdout",
          "output_type": "stream",
          "text": [
            "              precision    recall  f1-score   support\n",
            "\n",
            "         0.0   0.000000  0.000000  0.000000        14\n",
            "         1.0   0.517241  1.000000  0.681818        15\n",
            "\n",
            "    accuracy                       0.517241        29\n",
            "   macro avg   0.258621  0.500000  0.340909        29\n",
            "weighted avg   0.267539  0.517241  0.352665        29\n",
            "\n",
            "              precision    recall  f1-score   support\n",
            "\n",
            "         0.0   1.000000  0.076923  0.142857        13\n",
            "         1.0   0.571429  1.000000  0.727273        16\n",
            "\n",
            "    accuracy                       0.586207        29\n",
            "   macro avg   0.785714  0.538462  0.435065        29\n",
            "weighted avg   0.763547  0.586207  0.465293        29\n",
            "\n",
            "              precision    recall  f1-score   support\n",
            "\n",
            "         0.0   0.000000  0.000000  0.000000        14\n",
            "         1.0   0.517241  1.000000  0.681818        15\n",
            "\n",
            "    accuracy                       0.517241        29\n",
            "   macro avg   0.258621  0.500000  0.340909        29\n",
            "weighted avg   0.267539  0.517241  0.352665        29\n",
            "\n",
            "              precision    recall  f1-score   support\n",
            "\n",
            "         0.0   0.000000  0.000000  0.000000        13\n",
            "         1.0   0.551724  1.000000  0.711111        16\n",
            "\n",
            "    accuracy                       0.551724        29\n",
            "   macro avg   0.275862  0.500000  0.355556        29\n",
            "weighted avg   0.304400  0.551724  0.392337        29\n",
            "\n",
            "              precision    recall  f1-score   support\n",
            "\n",
            "         0.0   1.000000  0.176471  0.300000        17\n",
            "         1.0   0.461538  1.000000  0.631579        12\n",
            "\n",
            "    accuracy                       0.517241        29\n",
            "   macro avg   0.730769  0.588235  0.465789        29\n",
            "weighted avg   0.777188  0.517241  0.437205        29\n",
            "\n",
            "              precision    recall  f1-score   support\n",
            "\n",
            "         0.0   0.000000  0.000000  0.000000        18\n",
            "         1.0   0.379310  1.000000  0.550000        11\n",
            "\n",
            "    accuracy                       0.379310        29\n",
            "   macro avg   0.189655  0.500000  0.275000        29\n",
            "weighted avg   0.143876  0.379310  0.208621        29\n",
            "\n",
            "              precision    recall  f1-score   support\n",
            "\n",
            "         0.0   0.800000  0.571429  0.666667        14\n",
            "         1.0   0.684211  0.866667  0.764706        15\n",
            "\n",
            "    accuracy                       0.724138        29\n",
            "   macro avg   0.742105  0.719048  0.715686        29\n",
            "weighted avg   0.740109  0.724138  0.717377        29\n",
            "\n",
            "              precision    recall  f1-score   support\n",
            "\n",
            "         0.0   0.833333  0.714286  0.769231        14\n",
            "         1.0   0.764706  0.866667  0.812500        15\n",
            "\n",
            "    accuracy                       0.793103        29\n",
            "   macro avg   0.799020  0.790476  0.790865        29\n",
            "weighted avg   0.797836  0.793103  0.791611        29\n",
            "\n",
            "              precision    recall  f1-score   support\n",
            "\n",
            "         0.0   0.833333  0.384615  0.526316        13\n",
            "         1.0   0.636364  0.933333  0.756757        15\n",
            "\n",
            "    accuracy                       0.678571        28\n",
            "   macro avg   0.734848  0.658974  0.641536        28\n",
            "weighted avg   0.727814  0.678571  0.649766        28\n",
            "\n",
            "              precision    recall  f1-score   support\n",
            "\n",
            "         0.0   0.000000  0.000000  0.000000        15\n",
            "         1.0   0.464286  1.000000  0.634146        13\n",
            "\n",
            "    accuracy                       0.464286        28\n",
            "   macro avg   0.232143  0.500000  0.317073        28\n",
            "weighted avg   0.215561  0.464286  0.294425        28\n",
            "\n",
            "[0.51724138 0.5862069  0.51724138 0.55172414 0.51724138 0.37931034\n",
            " 0.72413793 0.79310345 0.67857143 0.46428571]\n",
            "0.7931034482758621\n"
          ]
        }
      ],
      "source": [
        "from sklearn.metrics import classification_report, accuracy_score, make_scorer\n",
        "\n",
        "scores = []\n",
        "model = MLPClassifier(activation='relu', alpha=0.0001, batch_size='auto', beta_1=0.9,\n",
        "       beta_2=0.999, early_stopping=True, epsilon=1e-08,\n",
        "       hidden_layer_sizes=22, learning_rate='constant',\n",
        "       learning_rate_init=0.001, max_iter=500, momentum=0.9,\n",
        "       nesterovs_momentum=True, power_t=0.5, random_state=12345,\n",
        "       shuffle=True, solver='adam', tol=0.0001, validation_fraction=0.2,\n",
        "       verbose=False, warm_start=False)\n",
        "\n",
        "cv = KFold(n_splits=10, random_state=42, shuffle=True)\n",
        "\n",
        "def classification_report_with_accuracy_score(y_true, y_pred):\n",
        "\n",
        "    print(classification_report(y_true, y_pred, digits=6)) # print classification report\n",
        "    return accuracy_score(y_true, y_pred) # return accuracy scor\n",
        "\n",
        "nested_score = cross_val_score(model, X_train, y_train, cv=cv,\\\n",
        "               scoring=make_scorer(classification_report_with_accuracy_score))\n",
        "print(nested_score) \n",
        "print(np.max(nested_score))"
      ]
    },
    {
      "cell_type": "code",
      "execution_count": 115,
      "metadata": {
        "colab": {
          "base_uri": "https://localhost:8080/",
          "height": 448
        },
        "colab_type": "code",
        "id": "eeIcbd27QJTN",
        "outputId": "ff0b2078-bd8f-43e2-f200-84f37478da55"
      },
      "outputs": [
        {
          "name": "stdout",
          "output_type": "stream",
          "text": [
            "[[17 30]\n",
            " [ 4 45]]\n",
            "tn, fp, fn, tp = 17 4 30 45\n"
          ]
        },
        {
          "data": {
            "text/plain": [
              "<matplotlib.axes._subplots.AxesSubplot at 0x7f9e81550a20>"
            ]
          },
          "execution_count": 115,
          "metadata": {
            "tags": []
          },
          "output_type": "execute_result"
        },
        {
          "data": {
            "image/png": "[encoded data removed]",
            "text/plain": [
              "<Figure size 720x432 with 2 Axes>"
            ]
          },
          "metadata": {
            "tags": []
          },
          "output_type": "display_data"
        }
      ],
      "source": [
        "cm =confusion_matrix(y_test,predictions)  \n",
        "print(cm)\n",
        "tn, fp, fn, tp = confusion_matrix(predictions,y_test).ravel()\n",
        "print(\"tn, fp, fn, tp =\", tn, fp, fn, tp)\n",
        "index = ['class 0','class 1']  \n",
        "columns = ['class 0','class 1']  \n",
        "cm_df = pd.DataFrame(cm,columns,index)                      \n",
        "plt.figure(figsize=(10,6))  \n",
        "sns.heatmap(cm_df, annot=True)"
      ]
    }
  ],
  "metadata": {
    "colab": {
      "collapsed_sections": [],
      "name": "Rainfall Prediction: A Neural Network Approach (Kao version 2).ipynb",
      "provenance": [],
      "toc_visible": true
    },
    "kernelspec": {
      "display_name": "Python 3",
      "language": "python",
      "name": "python3"
    },
    "language_info": {
      "codemirror_mode": {
        "name": "ipython",
        "version": 3
      },
      "file_extension": ".py",
      "mimetype": "text/x-python",
      "name": "python",
      "nbconvert_exporter": "python",
      "pygments_lexer": "ipython3",
      "version": "3.6.8"
    }
  },
  "nbformat": 4,
  "nbformat_minor": 0
}
