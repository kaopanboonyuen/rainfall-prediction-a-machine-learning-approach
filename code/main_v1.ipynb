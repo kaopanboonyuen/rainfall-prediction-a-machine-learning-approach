{
 "cells": [
  {
   "cell_type": "markdown",
   "metadata": {
    "colab_type": "text",
    "id": "tpCwtB82VIAD"
   },
   "source": [
    "# PREDICTION Project (KMITL Master Student)\n",
    "\n",
    "## Rainfall prediction is very complex hydrologic process and is important as it holds the key to any countries’ economy.\n",
    "\n",
    "### Author: Thanat Vajeethaveesin (61605034)\n",
    "\n",
    "![](https://image.slidesharecdn.com/trmmobservationforglobalrainfallpredictionandfloodmonitoringstudy-140331212003-phpapp01/95/trmm-observation-for-global-rainfall-prediction-and-flood-monitoring-study-7-638.jpg?cb=1396333021)\n",
    "\n",
    "![](https://upload.wikimedia.org/wikipedia/commons/4/4e/Kmitl.jpg)"
   ]
  },
  {
   "cell_type": "code",
   "execution_count": 215,
   "metadata": {
    "colab": {},
    "colab_type": "code",
    "id": "69SUgU2uVIAI"
   },
   "outputs": [],
   "source": [
    "import warnings\n",
    "warnings.filterwarnings(\"ignore\")"
   ]
  },
  {
   "cell_type": "code",
   "execution_count": 216,
   "metadata": {
    "colab": {
     "base_uri": "https://localhost:8080/",
     "height": 87
    },
    "colab_type": "code",
    "id": "KHzuILwJVIAT",
    "outputId": "82c7aaae-7093-4ab9-f548-f201c9289aa0"
   },
   "outputs": [
    {
     "name": "stdout",
     "output_type": "stream",
     "text": [
      "README.md\r\n",
      "Rainfall_Prediction_A_Neural_Network_Approach_(Kao_version_2).ipynb\r\n",
      "Rainfall_Prediction_A_Neural_Network_Approach_(Kao_version_3).ipynb\r\n",
      "\u001b[34mdatasets\u001b[m\u001b[m\r\n",
      "model_LR.pickle\r\n",
      "model_NB.pickle\r\n",
      "model_NN.pickle\r\n",
      "model_SVM.pickle\r\n"
     ]
    }
   ],
   "source": [
    "!ls"
   ]
  },
  {
   "cell_type": "code",
   "execution_count": 217,
   "metadata": {
    "colab": {},
    "colab_type": "code",
    "id": "8_vNppoyVIAf"
   },
   "outputs": [],
   "source": [
    "import pandas as pd\n",
    "import numpy as np\n",
    "\n",
    "from sklearn.metrics import classification_report, accuracy_score, make_scorer\n",
    "from sklearn.model_selection import KFold\n",
    "from sklearn.model_selection import cross_val_score\n",
    "\n",
    "import matplotlib.pyplot as plt\n",
    "plt.rcParams['figure.figsize'] = [13, 10]\n",
    "import seaborn as sns\n",
    "\n",
    "import matplotlib.pyplot as plt\n",
    "%matplotlib inline"
   ]
  },
  {
   "cell_type": "markdown",
   "metadata": {
    "colab_type": "text",
    "id": "WD67BAopVIAm"
   },
   "source": [
    "## Import Data"
   ]
  },
  {
   "cell_type": "code",
   "execution_count": 218,
   "metadata": {
    "colab": {},
    "colab_type": "code",
    "id": "zPjiexAzVIAo"
   },
   "outputs": [],
   "source": [
    "'''\n",
    "Elevation.csv\n",
    "Flow accumulation.csv\n",
    "Landuse.csv\n",
    "Rainfall intensity.csv\n",
    "Slope.csv\n",
    "Soil types.csv\n",
    "Target.csv\n",
    "test_data.csv\n",
    "'''\n",
    "\n",
    "Elevation = pd.read_csv(\"datasets/Elevation.csv\")\n",
    "Flow_accumulation = pd.read_csv(\"datasets/Flow accumulation.csv\")\n",
    "Landuse = pd.read_csv(\"datasets/Landuse.csv\")\n",
    "Rainfall_intensity = pd.read_csv(\"datasets/Rainfall intensity.csv\")\n",
    "Slope = pd.read_csv(\"datasets/Slope.csv\")\n",
    "Target = pd.read_csv(\"datasets/Target.csv\")\n",
    "\n",
    "test_data = pd.read_csv(\"datasets/test_data2.csv\")\n",
    "flood_coor = pd.read_csv(\"datasets/flood_coor2.csv\")\n",
    "Elevation_coor = pd.read_csv(\"datasets/Elevation_coor2.csv\")"
   ]
  },
  {
   "cell_type": "code",
   "execution_count": 219,
   "metadata": {
    "colab": {},
    "colab_type": "code",
    "id": "KnK7BsHuVIAv"
   },
   "outputs": [],
   "source": [
    "Elevation.set_index('lon', inplace=True)"
   ]
  },
  {
   "cell_type": "code",
   "execution_count": 220,
   "metadata": {
    "colab": {},
    "colab_type": "code",
    "id": "8ksGX7m5VIA1"
   },
   "outputs": [],
   "source": [
    "Flow_accumulation.set_index('lon', inplace=True)"
   ]
  },
  {
   "cell_type": "code",
   "execution_count": 221,
   "metadata": {
    "colab": {},
    "colab_type": "code",
    "id": "Ljr9-BAlVIA6"
   },
   "outputs": [],
   "source": [
    "Landuse.set_index('lon', inplace=True)"
   ]
  },
  {
   "cell_type": "code",
   "execution_count": 222,
   "metadata": {
    "colab": {},
    "colab_type": "code",
    "id": "1EOqbLvHVIBC"
   },
   "outputs": [],
   "source": [
    "Rainfall_intensity.set_index('lon', inplace=True)"
   ]
  },
  {
   "cell_type": "code",
   "execution_count": 223,
   "metadata": {
    "colab": {},
    "colab_type": "code",
    "id": "tM8cSTbsVIBJ"
   },
   "outputs": [],
   "source": [
    "Slope.set_index('lon', inplace=True)"
   ]
  },
  {
   "cell_type": "code",
   "execution_count": 224,
   "metadata": {
    "colab": {},
    "colab_type": "code",
    "id": "ic9-4L6QVIBR"
   },
   "outputs": [],
   "source": [
    "Target.set_index('lon', inplace=True)"
   ]
  },
  {
   "cell_type": "code",
   "execution_count": 225,
   "metadata": {
    "colab": {},
    "colab_type": "code",
    "id": "80_OzdtvVIBX"
   },
   "outputs": [],
   "source": [
    "test_data.set_index('lon', inplace=True)"
   ]
  },
  {
   "cell_type": "code",
   "execution_count": 226,
   "metadata": {
    "colab": {},
    "colab_type": "code",
    "id": "xn87WjdRVIBd"
   },
   "outputs": [],
   "source": [
    "#flood_coor.set_index('lon', inplace=True)"
   ]
  },
  {
   "cell_type": "code",
   "execution_count": 227,
   "metadata": {
    "colab": {},
    "colab_type": "code",
    "id": "5QAKHMJ-VIBh"
   },
   "outputs": [],
   "source": [
    "#Elevation_coor.set_index('lon', inplace=True)"
   ]
  },
  {
   "cell_type": "code",
   "execution_count": 228,
   "metadata": {
    "colab": {},
    "colab_type": "code",
    "id": "UvrvPjG6VIBn"
   },
   "outputs": [],
   "source": [
    "dfs = [Elevation, Flow_accumulation, Landuse, Rainfall_intensity, Slope, Target]\n",
    "\n",
    "result = pd.concat(dfs)"
   ]
  },
  {
   "cell_type": "code",
   "execution_count": 229,
   "metadata": {
    "colab": {
     "base_uri": "https://localhost:8080/",
     "height": 227
    },
    "colab_type": "code",
    "id": "i-d1eaCBVIBs",
    "outputId": "e7265c48-5cff-4dd4-9bc5-e2628086a4b4"
   },
   "outputs": [
    {
     "data": {
      "text/html": [
       "<div>\n",
       "<style scoped>\n",
       "    .dataframe tbody tr th:only-of-type {\n",
       "        vertical-align: middle;\n",
       "    }\n",
       "\n",
       "    .dataframe tbody tr th {\n",
       "        vertical-align: top;\n",
       "    }\n",
       "\n",
       "    .dataframe thead th {\n",
       "        text-align: right;\n",
       "    }\n",
       "</style>\n",
       "<table border=\"1\" class=\"dataframe\">\n",
       "  <thead>\n",
       "    <tr style=\"text-align: right;\">\n",
       "      <th></th>\n",
       "      <th>lat</th>\n",
       "      <th>elevation</th>\n",
       "      <th>flow accumulation</th>\n",
       "      <th>land use</th>\n",
       "      <th>Rainfall intensity</th>\n",
       "      <th>slope</th>\n",
       "      <th>target</th>\n",
       "    </tr>\n",
       "    <tr>\n",
       "      <th>lon</th>\n",
       "      <th></th>\n",
       "      <th></th>\n",
       "      <th></th>\n",
       "      <th></th>\n",
       "      <th></th>\n",
       "      <th></th>\n",
       "      <th></th>\n",
       "    </tr>\n",
       "  </thead>\n",
       "  <tbody>\n",
       "    <tr>\n",
       "      <th>14.222500</th>\n",
       "      <td>100.243334</td>\n",
       "      <td>6.0</td>\n",
       "      <td>NaN</td>\n",
       "      <td>NaN</td>\n",
       "      <td>NaN</td>\n",
       "      <td>NaN</td>\n",
       "      <td>NaN</td>\n",
       "    </tr>\n",
       "    <tr>\n",
       "      <th>14.223334</th>\n",
       "      <td>100.243334</td>\n",
       "      <td>5.0</td>\n",
       "      <td>NaN</td>\n",
       "      <td>NaN</td>\n",
       "      <td>NaN</td>\n",
       "      <td>NaN</td>\n",
       "      <td>NaN</td>\n",
       "    </tr>\n",
       "    <tr>\n",
       "      <th>14.224167</th>\n",
       "      <td>100.243334</td>\n",
       "      <td>8.0</td>\n",
       "      <td>NaN</td>\n",
       "      <td>NaN</td>\n",
       "      <td>NaN</td>\n",
       "      <td>NaN</td>\n",
       "      <td>NaN</td>\n",
       "    </tr>\n",
       "    <tr>\n",
       "      <th>14.225000</th>\n",
       "      <td>100.243334</td>\n",
       "      <td>6.0</td>\n",
       "      <td>NaN</td>\n",
       "      <td>NaN</td>\n",
       "      <td>NaN</td>\n",
       "      <td>NaN</td>\n",
       "      <td>NaN</td>\n",
       "    </tr>\n",
       "    <tr>\n",
       "      <th>14.225834</th>\n",
       "      <td>100.243334</td>\n",
       "      <td>7.0</td>\n",
       "      <td>NaN</td>\n",
       "      <td>NaN</td>\n",
       "      <td>NaN</td>\n",
       "      <td>NaN</td>\n",
       "      <td>NaN</td>\n",
       "    </tr>\n",
       "  </tbody>\n",
       "</table>\n",
       "</div>"
      ],
      "text/plain": [
       "                  lat  elevation  flow accumulation  land use  \\\n",
       "lon                                                             \n",
       "14.222500  100.243334        6.0                NaN       NaN   \n",
       "14.223334  100.243334        5.0                NaN       NaN   \n",
       "14.224167  100.243334        8.0                NaN       NaN   \n",
       "14.225000  100.243334        6.0                NaN       NaN   \n",
       "14.225834  100.243334        7.0                NaN       NaN   \n",
       "\n",
       "           Rainfall intensity  slope  target  \n",
       "lon                                           \n",
       "14.222500                 NaN    NaN     NaN  \n",
       "14.223334                 NaN    NaN     NaN  \n",
       "14.224167                 NaN    NaN     NaN  \n",
       "14.225000                 NaN    NaN     NaN  \n",
       "14.225834                 NaN    NaN     NaN  "
      ]
     },
     "execution_count": 229,
     "metadata": {},
     "output_type": "execute_result"
    }
   ],
   "source": [
    "result.head()"
   ]
  },
  {
   "cell_type": "code",
   "execution_count": 230,
   "metadata": {
    "colab": {
     "base_uri": "https://localhost:8080/",
     "height": 377
    },
    "colab_type": "code",
    "id": "quxBK5hYVIBy",
    "outputId": "6a003100-ddd1-46c0-ccdf-86c6d19f0f59"
   },
   "outputs": [
    {
     "data": {
      "text/html": [
       "<div>\n",
       "<style scoped>\n",
       "    .dataframe tbody tr th:only-of-type {\n",
       "        vertical-align: middle;\n",
       "    }\n",
       "\n",
       "    .dataframe tbody tr th {\n",
       "        vertical-align: top;\n",
       "    }\n",
       "\n",
       "    .dataframe thead th {\n",
       "        text-align: right;\n",
       "    }\n",
       "</style>\n",
       "<table border=\"1\" class=\"dataframe\">\n",
       "  <thead>\n",
       "    <tr style=\"text-align: right;\">\n",
       "      <th></th>\n",
       "      <th>lat</th>\n",
       "      <th>elevation</th>\n",
       "      <th>flow accumulation</th>\n",
       "      <th>land use</th>\n",
       "      <th>Rainfall intensity</th>\n",
       "      <th>slope</th>\n",
       "      <th>target</th>\n",
       "    </tr>\n",
       "    <tr>\n",
       "      <th>lon</th>\n",
       "      <th></th>\n",
       "      <th></th>\n",
       "      <th></th>\n",
       "      <th></th>\n",
       "      <th></th>\n",
       "      <th></th>\n",
       "      <th></th>\n",
       "    </tr>\n",
       "  </thead>\n",
       "  <tbody>\n",
       "    <tr>\n",
       "      <th>14.564167</th>\n",
       "      <td>100.507500</td>\n",
       "      <td>NaN</td>\n",
       "      <td>NaN</td>\n",
       "      <td>NaN</td>\n",
       "      <td>NaN</td>\n",
       "      <td>0.112</td>\n",
       "      <td>NaN</td>\n",
       "    </tr>\n",
       "    <tr>\n",
       "      <th>14.518334</th>\n",
       "      <td>100.508334</td>\n",
       "      <td>NaN</td>\n",
       "      <td>NaN</td>\n",
       "      <td>NaN</td>\n",
       "      <td>NaN</td>\n",
       "      <td>0.337</td>\n",
       "      <td>NaN</td>\n",
       "    </tr>\n",
       "    <tr>\n",
       "      <th>14.276667</th>\n",
       "      <td>100.416667</td>\n",
       "      <td>NaN</td>\n",
       "      <td>12.0</td>\n",
       "      <td>NaN</td>\n",
       "      <td>NaN</td>\n",
       "      <td>NaN</td>\n",
       "      <td>NaN</td>\n",
       "    </tr>\n",
       "    <tr>\n",
       "      <th>14.265000</th>\n",
       "      <td>100.540834</td>\n",
       "      <td>4.0</td>\n",
       "      <td>NaN</td>\n",
       "      <td>NaN</td>\n",
       "      <td>NaN</td>\n",
       "      <td>NaN</td>\n",
       "      <td>NaN</td>\n",
       "    </tr>\n",
       "    <tr>\n",
       "      <th>14.364167</th>\n",
       "      <td>100.404167</td>\n",
       "      <td>NaN</td>\n",
       "      <td>NaN</td>\n",
       "      <td>NaN</td>\n",
       "      <td>NaN</td>\n",
       "      <td>0.711</td>\n",
       "      <td>NaN</td>\n",
       "    </tr>\n",
       "    <tr>\n",
       "      <th>14.549167</th>\n",
       "      <td>100.717500</td>\n",
       "      <td>6.0</td>\n",
       "      <td>NaN</td>\n",
       "      <td>NaN</td>\n",
       "      <td>NaN</td>\n",
       "      <td>NaN</td>\n",
       "      <td>NaN</td>\n",
       "    </tr>\n",
       "    <tr>\n",
       "      <th>14.370834</th>\n",
       "      <td>100.271667</td>\n",
       "      <td>NaN</td>\n",
       "      <td>NaN</td>\n",
       "      <td>NaN</td>\n",
       "      <td>NaN</td>\n",
       "      <td>1.061</td>\n",
       "      <td>NaN</td>\n",
       "    </tr>\n",
       "    <tr>\n",
       "      <th>14.403334</th>\n",
       "      <td>100.716667</td>\n",
       "      <td>NaN</td>\n",
       "      <td>NaN</td>\n",
       "      <td>NaN</td>\n",
       "      <td>NaN</td>\n",
       "      <td>0.795</td>\n",
       "      <td>NaN</td>\n",
       "    </tr>\n",
       "    <tr>\n",
       "      <th>14.160834</th>\n",
       "      <td>100.436667</td>\n",
       "      <td>NaN</td>\n",
       "      <td>15.0</td>\n",
       "      <td>NaN</td>\n",
       "      <td>NaN</td>\n",
       "      <td>NaN</td>\n",
       "      <td>NaN</td>\n",
       "    </tr>\n",
       "    <tr>\n",
       "      <th>14.221667</th>\n",
       "      <td>100.335834</td>\n",
       "      <td>NaN</td>\n",
       "      <td>NaN</td>\n",
       "      <td>NaN</td>\n",
       "      <td>NaN</td>\n",
       "      <td>0.503</td>\n",
       "      <td>NaN</td>\n",
       "    </tr>\n",
       "  </tbody>\n",
       "</table>\n",
       "</div>"
      ],
      "text/plain": [
       "                  lat  elevation  flow accumulation  land use  \\\n",
       "lon                                                             \n",
       "14.564167  100.507500        NaN                NaN       NaN   \n",
       "14.518334  100.508334        NaN                NaN       NaN   \n",
       "14.276667  100.416667        NaN               12.0       NaN   \n",
       "14.265000  100.540834        4.0                NaN       NaN   \n",
       "14.364167  100.404167        NaN                NaN       NaN   \n",
       "14.549167  100.717500        6.0                NaN       NaN   \n",
       "14.370834  100.271667        NaN                NaN       NaN   \n",
       "14.403334  100.716667        NaN                NaN       NaN   \n",
       "14.160834  100.436667        NaN               15.0       NaN   \n",
       "14.221667  100.335834        NaN                NaN       NaN   \n",
       "\n",
       "           Rainfall intensity  slope  target  \n",
       "lon                                           \n",
       "14.564167                 NaN  0.112     NaN  \n",
       "14.518334                 NaN  0.337     NaN  \n",
       "14.276667                 NaN    NaN     NaN  \n",
       "14.265000                 NaN    NaN     NaN  \n",
       "14.364167                 NaN  0.711     NaN  \n",
       "14.549167                 NaN    NaN     NaN  \n",
       "14.370834                 NaN  1.061     NaN  \n",
       "14.403334                 NaN  0.795     NaN  \n",
       "14.160834                 NaN    NaN     NaN  \n",
       "14.221667                 NaN  0.503     NaN  "
      ]
     },
     "execution_count": 230,
     "metadata": {},
     "output_type": "execute_result"
    }
   ],
   "source": [
    "result.sample(10)"
   ]
  },
  {
   "cell_type": "code",
   "execution_count": 231,
   "metadata": {
    "colab": {
     "base_uri": "https://localhost:8080/",
     "height": 406
    },
    "colab_type": "code",
    "id": "8gPh1At_VIB6",
    "outputId": "854f962c-5282-4aa1-dfb1-aa616217d83c"
   },
   "outputs": [
    {
     "data": {
      "text/html": [
       "<div>\n",
       "<style scoped>\n",
       "    .dataframe tbody tr th:only-of-type {\n",
       "        vertical-align: middle;\n",
       "    }\n",
       "\n",
       "    .dataframe tbody tr th {\n",
       "        vertical-align: top;\n",
       "    }\n",
       "\n",
       "    .dataframe thead th {\n",
       "        text-align: right;\n",
       "    }\n",
       "</style>\n",
       "<table border=\"1\" class=\"dataframe\">\n",
       "  <thead>\n",
       "    <tr style=\"text-align: right;\">\n",
       "      <th></th>\n",
       "      <th>lon</th>\n",
       "      <th>lat</th>\n",
       "      <th>elevation</th>\n",
       "      <th>flow accumulation</th>\n",
       "      <th>land use</th>\n",
       "      <th>Rainfall intensity</th>\n",
       "      <th>slope</th>\n",
       "      <th>target</th>\n",
       "    </tr>\n",
       "  </thead>\n",
       "  <tbody>\n",
       "    <tr>\n",
       "      <th>0</th>\n",
       "      <td>14.222500</td>\n",
       "      <td>100.243334</td>\n",
       "      <td>6.0</td>\n",
       "      <td>NaN</td>\n",
       "      <td>NaN</td>\n",
       "      <td>NaN</td>\n",
       "      <td>NaN</td>\n",
       "      <td>NaN</td>\n",
       "    </tr>\n",
       "    <tr>\n",
       "      <th>1</th>\n",
       "      <td>14.223334</td>\n",
       "      <td>100.243334</td>\n",
       "      <td>5.0</td>\n",
       "      <td>NaN</td>\n",
       "      <td>NaN</td>\n",
       "      <td>NaN</td>\n",
       "      <td>NaN</td>\n",
       "      <td>NaN</td>\n",
       "    </tr>\n",
       "    <tr>\n",
       "      <th>2</th>\n",
       "      <td>14.224167</td>\n",
       "      <td>100.243334</td>\n",
       "      <td>8.0</td>\n",
       "      <td>NaN</td>\n",
       "      <td>NaN</td>\n",
       "      <td>NaN</td>\n",
       "      <td>NaN</td>\n",
       "      <td>NaN</td>\n",
       "    </tr>\n",
       "    <tr>\n",
       "      <th>3</th>\n",
       "      <td>14.225000</td>\n",
       "      <td>100.243334</td>\n",
       "      <td>6.0</td>\n",
       "      <td>NaN</td>\n",
       "      <td>NaN</td>\n",
       "      <td>NaN</td>\n",
       "      <td>NaN</td>\n",
       "      <td>NaN</td>\n",
       "    </tr>\n",
       "    <tr>\n",
       "      <th>4</th>\n",
       "      <td>14.225834</td>\n",
       "      <td>100.243334</td>\n",
       "      <td>7.0</td>\n",
       "      <td>NaN</td>\n",
       "      <td>NaN</td>\n",
       "      <td>NaN</td>\n",
       "      <td>NaN</td>\n",
       "      <td>NaN</td>\n",
       "    </tr>\n",
       "    <tr>\n",
       "      <th>...</th>\n",
       "      <td>...</td>\n",
       "      <td>...</td>\n",
       "      <td>...</td>\n",
       "      <td>...</td>\n",
       "      <td>...</td>\n",
       "      <td>...</td>\n",
       "      <td>...</td>\n",
       "      <td>...</td>\n",
       "    </tr>\n",
       "    <tr>\n",
       "      <th>934214</th>\n",
       "      <td>14.338482</td>\n",
       "      <td>100.724899</td>\n",
       "      <td>NaN</td>\n",
       "      <td>NaN</td>\n",
       "      <td>NaN</td>\n",
       "      <td>NaN</td>\n",
       "      <td>NaN</td>\n",
       "      <td>1.0</td>\n",
       "    </tr>\n",
       "    <tr>\n",
       "      <th>934215</th>\n",
       "      <td>14.268592</td>\n",
       "      <td>100.741778</td>\n",
       "      <td>NaN</td>\n",
       "      <td>NaN</td>\n",
       "      <td>NaN</td>\n",
       "      <td>NaN</td>\n",
       "      <td>NaN</td>\n",
       "      <td>1.0</td>\n",
       "    </tr>\n",
       "    <tr>\n",
       "      <th>934216</th>\n",
       "      <td>14.299228</td>\n",
       "      <td>100.756537</td>\n",
       "      <td>NaN</td>\n",
       "      <td>NaN</td>\n",
       "      <td>NaN</td>\n",
       "      <td>NaN</td>\n",
       "      <td>NaN</td>\n",
       "      <td>1.0</td>\n",
       "    </tr>\n",
       "    <tr>\n",
       "      <th>934217</th>\n",
       "      <td>14.325187</td>\n",
       "      <td>100.758334</td>\n",
       "      <td>NaN</td>\n",
       "      <td>NaN</td>\n",
       "      <td>NaN</td>\n",
       "      <td>NaN</td>\n",
       "      <td>NaN</td>\n",
       "      <td>1.0</td>\n",
       "    </tr>\n",
       "    <tr>\n",
       "      <th>934218</th>\n",
       "      <td>14.332380</td>\n",
       "      <td>100.774993</td>\n",
       "      <td>NaN</td>\n",
       "      <td>NaN</td>\n",
       "      <td>NaN</td>\n",
       "      <td>NaN</td>\n",
       "      <td>NaN</td>\n",
       "      <td>1.0</td>\n",
       "    </tr>\n",
       "  </tbody>\n",
       "</table>\n",
       "<p>934219 rows × 8 columns</p>\n",
       "</div>"
      ],
      "text/plain": [
       "              lon         lat  elevation  flow accumulation  land use  \\\n",
       "0       14.222500  100.243334        6.0                NaN       NaN   \n",
       "1       14.223334  100.243334        5.0                NaN       NaN   \n",
       "2       14.224167  100.243334        8.0                NaN       NaN   \n",
       "3       14.225000  100.243334        6.0                NaN       NaN   \n",
       "4       14.225834  100.243334        7.0                NaN       NaN   \n",
       "...           ...         ...        ...                ...       ...   \n",
       "934214  14.338482  100.724899        NaN                NaN       NaN   \n",
       "934215  14.268592  100.741778        NaN                NaN       NaN   \n",
       "934216  14.299228  100.756537        NaN                NaN       NaN   \n",
       "934217  14.325187  100.758334        NaN                NaN       NaN   \n",
       "934218  14.332380  100.774993        NaN                NaN       NaN   \n",
       "\n",
       "        Rainfall intensity  slope  target  \n",
       "0                      NaN    NaN     NaN  \n",
       "1                      NaN    NaN     NaN  \n",
       "2                      NaN    NaN     NaN  \n",
       "3                      NaN    NaN     NaN  \n",
       "4                      NaN    NaN     NaN  \n",
       "...                    ...    ...     ...  \n",
       "934214                 NaN    NaN     1.0  \n",
       "934215                 NaN    NaN     1.0  \n",
       "934216                 NaN    NaN     1.0  \n",
       "934217                 NaN    NaN     1.0  \n",
       "934218                 NaN    NaN     1.0  \n",
       "\n",
       "[934219 rows x 8 columns]"
      ]
     },
     "execution_count": 231,
     "metadata": {},
     "output_type": "execute_result"
    }
   ],
   "source": [
    "result.reset_index()"
   ]
  },
  {
   "cell_type": "code",
   "execution_count": 232,
   "metadata": {
    "colab": {},
    "colab_type": "code",
    "id": "uYWR6urTVICC"
   },
   "outputs": [],
   "source": [
    "#result.fillna(0, inplace = True)"
   ]
  },
  {
   "cell_type": "code",
   "execution_count": 233,
   "metadata": {
    "colab": {
     "base_uri": "https://localhost:8080/",
     "height": 34
    },
    "colab_type": "code",
    "id": "-wg9xX28VICI",
    "outputId": "5143533e-f3fa-417f-c176-4f95c0574985"
   },
   "outputs": [
    {
     "data": {
      "text/plain": [
       "(934219, 7)"
      ]
     },
     "execution_count": 233,
     "metadata": {},
     "output_type": "execute_result"
    }
   ],
   "source": [
    "result.shape"
   ]
  },
  {
   "cell_type": "code",
   "execution_count": 234,
   "metadata": {
    "colab": {},
    "colab_type": "code",
    "id": "nL_4mZ7cVICN"
   },
   "outputs": [],
   "source": [
    "#fulldataset = result.dropna(axis=0, subset=['target'])\n",
    "result.target.fillna(0.0, inplace=True)"
   ]
  },
  {
   "cell_type": "code",
   "execution_count": 235,
   "metadata": {
    "colab": {
     "base_uri": "https://localhost:8080/",
     "height": 34
    },
    "colab_type": "code",
    "id": "gxElsXInVICU",
    "outputId": "9596bb08-a92d-44a6-fe81-fcfa05e0a00b"
   },
   "outputs": [
    {
     "data": {
      "text/plain": [
       "(934219, 7)"
      ]
     },
     "execution_count": 235,
     "metadata": {},
     "output_type": "execute_result"
    }
   ],
   "source": [
    "result.shape"
   ]
  },
  {
   "cell_type": "code",
   "execution_count": 236,
   "metadata": {
    "colab": {
     "base_uri": "https://localhost:8080/",
     "height": 227
    },
    "colab_type": "code",
    "id": "yYSAG0kbVICd",
    "outputId": "2c681374-7fb1-4b72-a58f-5ae5092bb756"
   },
   "outputs": [
    {
     "data": {
      "text/html": [
       "<div>\n",
       "<style scoped>\n",
       "    .dataframe tbody tr th:only-of-type {\n",
       "        vertical-align: middle;\n",
       "    }\n",
       "\n",
       "    .dataframe tbody tr th {\n",
       "        vertical-align: top;\n",
       "    }\n",
       "\n",
       "    .dataframe thead th {\n",
       "        text-align: right;\n",
       "    }\n",
       "</style>\n",
       "<table border=\"1\" class=\"dataframe\">\n",
       "  <thead>\n",
       "    <tr style=\"text-align: right;\">\n",
       "      <th></th>\n",
       "      <th>lat</th>\n",
       "      <th>elevation</th>\n",
       "      <th>flow accumulation</th>\n",
       "      <th>land use</th>\n",
       "      <th>Rainfall intensity</th>\n",
       "      <th>slope</th>\n",
       "      <th>target</th>\n",
       "    </tr>\n",
       "    <tr>\n",
       "      <th>lon</th>\n",
       "      <th></th>\n",
       "      <th></th>\n",
       "      <th></th>\n",
       "      <th></th>\n",
       "      <th></th>\n",
       "      <th></th>\n",
       "      <th></th>\n",
       "    </tr>\n",
       "  </thead>\n",
       "  <tbody>\n",
       "    <tr>\n",
       "      <th>14.222500</th>\n",
       "      <td>100.243334</td>\n",
       "      <td>6.0</td>\n",
       "      <td>NaN</td>\n",
       "      <td>NaN</td>\n",
       "      <td>NaN</td>\n",
       "      <td>NaN</td>\n",
       "      <td>0.0</td>\n",
       "    </tr>\n",
       "    <tr>\n",
       "      <th>14.223334</th>\n",
       "      <td>100.243334</td>\n",
       "      <td>5.0</td>\n",
       "      <td>NaN</td>\n",
       "      <td>NaN</td>\n",
       "      <td>NaN</td>\n",
       "      <td>NaN</td>\n",
       "      <td>0.0</td>\n",
       "    </tr>\n",
       "    <tr>\n",
       "      <th>14.224167</th>\n",
       "      <td>100.243334</td>\n",
       "      <td>8.0</td>\n",
       "      <td>NaN</td>\n",
       "      <td>NaN</td>\n",
       "      <td>NaN</td>\n",
       "      <td>NaN</td>\n",
       "      <td>0.0</td>\n",
       "    </tr>\n",
       "    <tr>\n",
       "      <th>14.225000</th>\n",
       "      <td>100.243334</td>\n",
       "      <td>6.0</td>\n",
       "      <td>NaN</td>\n",
       "      <td>NaN</td>\n",
       "      <td>NaN</td>\n",
       "      <td>NaN</td>\n",
       "      <td>0.0</td>\n",
       "    </tr>\n",
       "    <tr>\n",
       "      <th>14.225834</th>\n",
       "      <td>100.243334</td>\n",
       "      <td>7.0</td>\n",
       "      <td>NaN</td>\n",
       "      <td>NaN</td>\n",
       "      <td>NaN</td>\n",
       "      <td>NaN</td>\n",
       "      <td>0.0</td>\n",
       "    </tr>\n",
       "  </tbody>\n",
       "</table>\n",
       "</div>"
      ],
      "text/plain": [
       "                  lat  elevation  flow accumulation  land use  \\\n",
       "lon                                                             \n",
       "14.222500  100.243334        6.0                NaN       NaN   \n",
       "14.223334  100.243334        5.0                NaN       NaN   \n",
       "14.224167  100.243334        8.0                NaN       NaN   \n",
       "14.225000  100.243334        6.0                NaN       NaN   \n",
       "14.225834  100.243334        7.0                NaN       NaN   \n",
       "\n",
       "           Rainfall intensity  slope  target  \n",
       "lon                                           \n",
       "14.222500                 NaN    NaN     0.0  \n",
       "14.223334                 NaN    NaN     0.0  \n",
       "14.224167                 NaN    NaN     0.0  \n",
       "14.225000                 NaN    NaN     0.0  \n",
       "14.225834                 NaN    NaN     0.0  "
      ]
     },
     "execution_count": 236,
     "metadata": {},
     "output_type": "execute_result"
    }
   ],
   "source": [
    "result.head()"
   ]
  },
  {
   "cell_type": "code",
   "execution_count": 237,
   "metadata": {
    "colab": {},
    "colab_type": "code",
    "id": "Aq1Ucq-qVICx"
   },
   "outputs": [],
   "source": [
    "result.fillna(result.mean() ,inplace=True)"
   ]
  },
  {
   "cell_type": "code",
   "execution_count": 238,
   "metadata": {
    "colab": {
     "base_uri": "https://localhost:8080/",
     "height": 527
    },
    "colab_type": "code",
    "id": "MlFwybfEVIC0",
    "outputId": "7a4cf54e-c134-49e4-ef84-794b8a542e12"
   },
   "outputs": [
    {
     "data": {
      "text/html": [
       "<div>\n",
       "<style scoped>\n",
       "    .dataframe tbody tr th:only-of-type {\n",
       "        vertical-align: middle;\n",
       "    }\n",
       "\n",
       "    .dataframe tbody tr th {\n",
       "        vertical-align: top;\n",
       "    }\n",
       "\n",
       "    .dataframe thead th {\n",
       "        text-align: right;\n",
       "    }\n",
       "</style>\n",
       "<table border=\"1\" class=\"dataframe\">\n",
       "  <thead>\n",
       "    <tr style=\"text-align: right;\">\n",
       "      <th></th>\n",
       "      <th>lat</th>\n",
       "      <th>elevation</th>\n",
       "      <th>flow accumulation</th>\n",
       "      <th>land use</th>\n",
       "      <th>Rainfall intensity</th>\n",
       "      <th>slope</th>\n",
       "      <th>target</th>\n",
       "    </tr>\n",
       "    <tr>\n",
       "      <th>lon</th>\n",
       "      <th></th>\n",
       "      <th></th>\n",
       "      <th></th>\n",
       "      <th></th>\n",
       "      <th></th>\n",
       "      <th></th>\n",
       "      <th></th>\n",
       "    </tr>\n",
       "  </thead>\n",
       "  <tbody>\n",
       "    <tr>\n",
       "      <th>14.222500</th>\n",
       "      <td>100.243334</td>\n",
       "      <td>6.0</td>\n",
       "      <td>544.027806</td>\n",
       "      <td>6.881292</td>\n",
       "      <td>2727.666667</td>\n",
       "      <td>7.355227e+33</td>\n",
       "      <td>0.0</td>\n",
       "    </tr>\n",
       "    <tr>\n",
       "      <th>14.223334</th>\n",
       "      <td>100.243334</td>\n",
       "      <td>5.0</td>\n",
       "      <td>544.027806</td>\n",
       "      <td>6.881292</td>\n",
       "      <td>2727.666667</td>\n",
       "      <td>7.355227e+33</td>\n",
       "      <td>0.0</td>\n",
       "    </tr>\n",
       "    <tr>\n",
       "      <th>14.224167</th>\n",
       "      <td>100.243334</td>\n",
       "      <td>8.0</td>\n",
       "      <td>544.027806</td>\n",
       "      <td>6.881292</td>\n",
       "      <td>2727.666667</td>\n",
       "      <td>7.355227e+33</td>\n",
       "      <td>0.0</td>\n",
       "    </tr>\n",
       "    <tr>\n",
       "      <th>14.225000</th>\n",
       "      <td>100.243334</td>\n",
       "      <td>6.0</td>\n",
       "      <td>544.027806</td>\n",
       "      <td>6.881292</td>\n",
       "      <td>2727.666667</td>\n",
       "      <td>7.355227e+33</td>\n",
       "      <td>0.0</td>\n",
       "    </tr>\n",
       "    <tr>\n",
       "      <th>14.225834</th>\n",
       "      <td>100.243334</td>\n",
       "      <td>7.0</td>\n",
       "      <td>544.027806</td>\n",
       "      <td>6.881292</td>\n",
       "      <td>2727.666667</td>\n",
       "      <td>7.355227e+33</td>\n",
       "      <td>0.0</td>\n",
       "    </tr>\n",
       "    <tr>\n",
       "      <th>14.226667</th>\n",
       "      <td>100.243334</td>\n",
       "      <td>7.0</td>\n",
       "      <td>544.027806</td>\n",
       "      <td>6.881292</td>\n",
       "      <td>2727.666667</td>\n",
       "      <td>7.355227e+33</td>\n",
       "      <td>0.0</td>\n",
       "    </tr>\n",
       "    <tr>\n",
       "      <th>14.227500</th>\n",
       "      <td>100.243334</td>\n",
       "      <td>6.0</td>\n",
       "      <td>544.027806</td>\n",
       "      <td>6.881292</td>\n",
       "      <td>2727.666667</td>\n",
       "      <td>7.355227e+33</td>\n",
       "      <td>0.0</td>\n",
       "    </tr>\n",
       "    <tr>\n",
       "      <th>14.228334</th>\n",
       "      <td>100.243334</td>\n",
       "      <td>6.0</td>\n",
       "      <td>544.027806</td>\n",
       "      <td>6.881292</td>\n",
       "      <td>2727.666667</td>\n",
       "      <td>7.355227e+33</td>\n",
       "      <td>0.0</td>\n",
       "    </tr>\n",
       "    <tr>\n",
       "      <th>14.229167</th>\n",
       "      <td>100.243334</td>\n",
       "      <td>6.0</td>\n",
       "      <td>544.027806</td>\n",
       "      <td>6.881292</td>\n",
       "      <td>2727.666667</td>\n",
       "      <td>7.355227e+33</td>\n",
       "      <td>0.0</td>\n",
       "    </tr>\n",
       "    <tr>\n",
       "      <th>14.230000</th>\n",
       "      <td>100.243334</td>\n",
       "      <td>4.0</td>\n",
       "      <td>544.027806</td>\n",
       "      <td>6.881292</td>\n",
       "      <td>2727.666667</td>\n",
       "      <td>7.355227e+33</td>\n",
       "      <td>0.0</td>\n",
       "    </tr>\n",
       "    <tr>\n",
       "      <th>14.230834</th>\n",
       "      <td>100.243334</td>\n",
       "      <td>6.0</td>\n",
       "      <td>544.027806</td>\n",
       "      <td>6.881292</td>\n",
       "      <td>2727.666667</td>\n",
       "      <td>7.355227e+33</td>\n",
       "      <td>0.0</td>\n",
       "    </tr>\n",
       "    <tr>\n",
       "      <th>14.231667</th>\n",
       "      <td>100.243334</td>\n",
       "      <td>8.0</td>\n",
       "      <td>544.027806</td>\n",
       "      <td>6.881292</td>\n",
       "      <td>2727.666667</td>\n",
       "      <td>7.355227e+33</td>\n",
       "      <td>0.0</td>\n",
       "    </tr>\n",
       "    <tr>\n",
       "      <th>14.232500</th>\n",
       "      <td>100.243334</td>\n",
       "      <td>7.0</td>\n",
       "      <td>544.027806</td>\n",
       "      <td>6.881292</td>\n",
       "      <td>2727.666667</td>\n",
       "      <td>7.355227e+33</td>\n",
       "      <td>0.0</td>\n",
       "    </tr>\n",
       "    <tr>\n",
       "      <th>14.233334</th>\n",
       "      <td>100.243334</td>\n",
       "      <td>8.0</td>\n",
       "      <td>544.027806</td>\n",
       "      <td>6.881292</td>\n",
       "      <td>2727.666667</td>\n",
       "      <td>7.355227e+33</td>\n",
       "      <td>0.0</td>\n",
       "    </tr>\n",
       "    <tr>\n",
       "      <th>14.234167</th>\n",
       "      <td>100.243334</td>\n",
       "      <td>7.0</td>\n",
       "      <td>544.027806</td>\n",
       "      <td>6.881292</td>\n",
       "      <td>2727.666667</td>\n",
       "      <td>7.355227e+33</td>\n",
       "      <td>0.0</td>\n",
       "    </tr>\n",
       "  </tbody>\n",
       "</table>\n",
       "</div>"
      ],
      "text/plain": [
       "                  lat  elevation  flow accumulation  land use  \\\n",
       "lon                                                             \n",
       "14.222500  100.243334        6.0         544.027806  6.881292   \n",
       "14.223334  100.243334        5.0         544.027806  6.881292   \n",
       "14.224167  100.243334        8.0         544.027806  6.881292   \n",
       "14.225000  100.243334        6.0         544.027806  6.881292   \n",
       "14.225834  100.243334        7.0         544.027806  6.881292   \n",
       "14.226667  100.243334        7.0         544.027806  6.881292   \n",
       "14.227500  100.243334        6.0         544.027806  6.881292   \n",
       "14.228334  100.243334        6.0         544.027806  6.881292   \n",
       "14.229167  100.243334        6.0         544.027806  6.881292   \n",
       "14.230000  100.243334        4.0         544.027806  6.881292   \n",
       "14.230834  100.243334        6.0         544.027806  6.881292   \n",
       "14.231667  100.243334        8.0         544.027806  6.881292   \n",
       "14.232500  100.243334        7.0         544.027806  6.881292   \n",
       "14.233334  100.243334        8.0         544.027806  6.881292   \n",
       "14.234167  100.243334        7.0         544.027806  6.881292   \n",
       "\n",
       "           Rainfall intensity         slope  target  \n",
       "lon                                                  \n",
       "14.222500         2727.666667  7.355227e+33     0.0  \n",
       "14.223334         2727.666667  7.355227e+33     0.0  \n",
       "14.224167         2727.666667  7.355227e+33     0.0  \n",
       "14.225000         2727.666667  7.355227e+33     0.0  \n",
       "14.225834         2727.666667  7.355227e+33     0.0  \n",
       "14.226667         2727.666667  7.355227e+33     0.0  \n",
       "14.227500         2727.666667  7.355227e+33     0.0  \n",
       "14.228334         2727.666667  7.355227e+33     0.0  \n",
       "14.229167         2727.666667  7.355227e+33     0.0  \n",
       "14.230000         2727.666667  7.355227e+33     0.0  \n",
       "14.230834         2727.666667  7.355227e+33     0.0  \n",
       "14.231667         2727.666667  7.355227e+33     0.0  \n",
       "14.232500         2727.666667  7.355227e+33     0.0  \n",
       "14.233334         2727.666667  7.355227e+33     0.0  \n",
       "14.234167         2727.666667  7.355227e+33     0.0  "
      ]
     },
     "execution_count": 238,
     "metadata": {},
     "output_type": "execute_result"
    }
   ],
   "source": [
    "result.head(15)"
   ]
  },
  {
   "cell_type": "code",
   "execution_count": 239,
   "metadata": {
    "colab": {
     "base_uri": "https://localhost:8080/",
     "height": 137
    },
    "colab_type": "code",
    "id": "LLhjKsCPVIC5",
    "outputId": "e6f56fce-063f-40aa-d1d0-1aeed7f8624d"
   },
   "outputs": [
    {
     "data": {
      "text/html": [
       "<div>\n",
       "<style scoped>\n",
       "    .dataframe tbody tr th:only-of-type {\n",
       "        vertical-align: middle;\n",
       "    }\n",
       "\n",
       "    .dataframe tbody tr th {\n",
       "        vertical-align: top;\n",
       "    }\n",
       "\n",
       "    .dataframe thead th {\n",
       "        text-align: right;\n",
       "    }\n",
       "</style>\n",
       "<table border=\"1\" class=\"dataframe\">\n",
       "  <thead>\n",
       "    <tr style=\"text-align: right;\">\n",
       "      <th></th>\n",
       "      <th>lat</th>\n",
       "      <th>elevation</th>\n",
       "      <th>flow accumulation</th>\n",
       "      <th>land use</th>\n",
       "      <th>Rainfall intensity</th>\n",
       "      <th>slope</th>\n",
       "    </tr>\n",
       "    <tr>\n",
       "      <th>target</th>\n",
       "      <th></th>\n",
       "      <th></th>\n",
       "      <th></th>\n",
       "      <th></th>\n",
       "      <th></th>\n",
       "      <th></th>\n",
       "    </tr>\n",
       "  </thead>\n",
       "  <tbody>\n",
       "    <tr>\n",
       "      <th>0.0</th>\n",
       "      <td>934027</td>\n",
       "      <td>934027</td>\n",
       "      <td>934027</td>\n",
       "      <td>934027</td>\n",
       "      <td>934027</td>\n",
       "      <td>934027</td>\n",
       "    </tr>\n",
       "    <tr>\n",
       "      <th>1.0</th>\n",
       "      <td>192</td>\n",
       "      <td>192</td>\n",
       "      <td>192</td>\n",
       "      <td>192</td>\n",
       "      <td>192</td>\n",
       "      <td>192</td>\n",
       "    </tr>\n",
       "  </tbody>\n",
       "</table>\n",
       "</div>"
      ],
      "text/plain": [
       "           lat  elevation  flow accumulation  land use  Rainfall intensity  \\\n",
       "target                                                                       \n",
       "0.0     934027     934027             934027    934027              934027   \n",
       "1.0        192        192                192       192                 192   \n",
       "\n",
       "         slope  \n",
       "target          \n",
       "0.0     934027  \n",
       "1.0        192  "
      ]
     },
     "execution_count": 239,
     "metadata": {},
     "output_type": "execute_result"
    }
   ],
   "source": [
    "# Count Class 1 and Class 0\n",
    "\n",
    "result.groupby('target').count()"
   ]
  },
  {
   "cell_type": "code",
   "execution_count": 240,
   "metadata": {
    "colab": {},
    "colab_type": "code",
    "id": "t4B80z5AVIC_"
   },
   "outputs": [],
   "source": [
    "data = result"
   ]
  },
  {
   "cell_type": "markdown",
   "metadata": {
    "colab_type": "text",
    "id": "DzR6_eiVVIDC"
   },
   "source": [
    "# Done! We've created the final data."
   ]
  },
  {
   "cell_type": "code",
   "execution_count": 241,
   "metadata": {
    "colab": {
     "base_uri": "https://localhost:8080/",
     "height": 377
    },
    "colab_type": "code",
    "id": "IDd4rF9WVIDG",
    "outputId": "0684d5c6-affd-4e17-8130-4b8d1c44da01"
   },
   "outputs": [
    {
     "data": {
      "text/html": [
       "<div>\n",
       "<style scoped>\n",
       "    .dataframe tbody tr th:only-of-type {\n",
       "        vertical-align: middle;\n",
       "    }\n",
       "\n",
       "    .dataframe tbody tr th {\n",
       "        vertical-align: top;\n",
       "    }\n",
       "\n",
       "    .dataframe thead th {\n",
       "        text-align: right;\n",
       "    }\n",
       "</style>\n",
       "<table border=\"1\" class=\"dataframe\">\n",
       "  <thead>\n",
       "    <tr style=\"text-align: right;\">\n",
       "      <th></th>\n",
       "      <th>lat</th>\n",
       "      <th>elevation</th>\n",
       "      <th>flow accumulation</th>\n",
       "      <th>land use</th>\n",
       "      <th>Rainfall intensity</th>\n",
       "      <th>slope</th>\n",
       "      <th>target</th>\n",
       "    </tr>\n",
       "    <tr>\n",
       "      <th>lon</th>\n",
       "      <th></th>\n",
       "      <th></th>\n",
       "      <th></th>\n",
       "      <th></th>\n",
       "      <th></th>\n",
       "      <th></th>\n",
       "      <th></th>\n",
       "    </tr>\n",
       "  </thead>\n",
       "  <tbody>\n",
       "    <tr>\n",
       "      <th>14.278334</th>\n",
       "      <td>100.474167</td>\n",
       "      <td>5.454903</td>\n",
       "      <td>544.027806</td>\n",
       "      <td>6.881292</td>\n",
       "      <td>2727.666667</td>\n",
       "      <td>5.730000e-01</td>\n",
       "      <td>0.0</td>\n",
       "    </tr>\n",
       "    <tr>\n",
       "      <th>14.315000</th>\n",
       "      <td>100.606667</td>\n",
       "      <td>5.454903</td>\n",
       "      <td>3.000000</td>\n",
       "      <td>6.881292</td>\n",
       "      <td>2727.666667</td>\n",
       "      <td>7.355227e+33</td>\n",
       "      <td>0.0</td>\n",
       "    </tr>\n",
       "    <tr>\n",
       "      <th>14.339167</th>\n",
       "      <td>100.294167</td>\n",
       "      <td>5.454903</td>\n",
       "      <td>544.027806</td>\n",
       "      <td>6.881292</td>\n",
       "      <td>2727.666667</td>\n",
       "      <td>5.030000e-01</td>\n",
       "      <td>0.0</td>\n",
       "    </tr>\n",
       "    <tr>\n",
       "      <th>14.244167</th>\n",
       "      <td>100.536667</td>\n",
       "      <td>5.454903</td>\n",
       "      <td>3.000000</td>\n",
       "      <td>6.881292</td>\n",
       "      <td>2727.666667</td>\n",
       "      <td>7.355227e+33</td>\n",
       "      <td>0.0</td>\n",
       "    </tr>\n",
       "    <tr>\n",
       "      <th>14.220834</th>\n",
       "      <td>100.552500</td>\n",
       "      <td>3.000000</td>\n",
       "      <td>544.027806</td>\n",
       "      <td>6.881292</td>\n",
       "      <td>2727.666667</td>\n",
       "      <td>7.355227e+33</td>\n",
       "      <td>0.0</td>\n",
       "    </tr>\n",
       "    <tr>\n",
       "      <th>14.253334</th>\n",
       "      <td>100.245834</td>\n",
       "      <td>6.000000</td>\n",
       "      <td>544.027806</td>\n",
       "      <td>6.881292</td>\n",
       "      <td>2727.666667</td>\n",
       "      <td>7.355227e+33</td>\n",
       "      <td>0.0</td>\n",
       "    </tr>\n",
       "    <tr>\n",
       "      <th>14.485834</th>\n",
       "      <td>100.505834</td>\n",
       "      <td>5.000000</td>\n",
       "      <td>544.027806</td>\n",
       "      <td>6.881292</td>\n",
       "      <td>2727.666667</td>\n",
       "      <td>7.355227e+33</td>\n",
       "      <td>0.0</td>\n",
       "    </tr>\n",
       "    <tr>\n",
       "      <th>14.489167</th>\n",
       "      <td>100.528334</td>\n",
       "      <td>5.454903</td>\n",
       "      <td>544.027806</td>\n",
       "      <td>6.881292</td>\n",
       "      <td>2727.666667</td>\n",
       "      <td>6.750000e-01</td>\n",
       "      <td>0.0</td>\n",
       "    </tr>\n",
       "    <tr>\n",
       "      <th>14.305000</th>\n",
       "      <td>100.352500</td>\n",
       "      <td>6.000000</td>\n",
       "      <td>544.027806</td>\n",
       "      <td>6.881292</td>\n",
       "      <td>2727.666667</td>\n",
       "      <td>7.355227e+33</td>\n",
       "      <td>0.0</td>\n",
       "    </tr>\n",
       "    <tr>\n",
       "      <th>14.236318</th>\n",
       "      <td>100.757768</td>\n",
       "      <td>5.454903</td>\n",
       "      <td>544.027806</td>\n",
       "      <td>4.000000</td>\n",
       "      <td>2727.666667</td>\n",
       "      <td>7.355227e+33</td>\n",
       "      <td>0.0</td>\n",
       "    </tr>\n",
       "  </tbody>\n",
       "</table>\n",
       "</div>"
      ],
      "text/plain": [
       "                  lat  elevation  flow accumulation  land use  \\\n",
       "lon                                                             \n",
       "14.278334  100.474167   5.454903         544.027806  6.881292   \n",
       "14.315000  100.606667   5.454903           3.000000  6.881292   \n",
       "14.339167  100.294167   5.454903         544.027806  6.881292   \n",
       "14.244167  100.536667   5.454903           3.000000  6.881292   \n",
       "14.220834  100.552500   3.000000         544.027806  6.881292   \n",
       "14.253334  100.245834   6.000000         544.027806  6.881292   \n",
       "14.485834  100.505834   5.000000         544.027806  6.881292   \n",
       "14.489167  100.528334   5.454903         544.027806  6.881292   \n",
       "14.305000  100.352500   6.000000         544.027806  6.881292   \n",
       "14.236318  100.757768   5.454903         544.027806  4.000000   \n",
       "\n",
       "           Rainfall intensity         slope  target  \n",
       "lon                                                  \n",
       "14.278334         2727.666667  5.730000e-01     0.0  \n",
       "14.315000         2727.666667  7.355227e+33     0.0  \n",
       "14.339167         2727.666667  5.030000e-01     0.0  \n",
       "14.244167         2727.666667  7.355227e+33     0.0  \n",
       "14.220834         2727.666667  7.355227e+33     0.0  \n",
       "14.253334         2727.666667  7.355227e+33     0.0  \n",
       "14.485834         2727.666667  7.355227e+33     0.0  \n",
       "14.489167         2727.666667  6.750000e-01     0.0  \n",
       "14.305000         2727.666667  7.355227e+33     0.0  \n",
       "14.236318         2727.666667  7.355227e+33     0.0  "
      ]
     },
     "execution_count": 241,
     "metadata": {},
     "output_type": "execute_result"
    }
   ],
   "source": [
    "data.sample(10)"
   ]
  },
  {
   "cell_type": "markdown",
   "metadata": {
    "colab_type": "text",
    "id": "A7tBnqpgVIDM"
   },
   "source": [
    "# Let's create neural nets model"
   ]
  },
  {
   "cell_type": "code",
   "execution_count": 242,
   "metadata": {
    "colab": {
     "base_uri": "https://localhost:8080/",
     "height": 34
    },
    "colab_type": "code",
    "id": "yXdwI85pVIDN",
    "outputId": "f8230e71-5244-4dee-b800-53d252143a5d"
   },
   "outputs": [
    {
     "data": {
      "text/plain": [
       "(934219, 7)"
      ]
     },
     "execution_count": 242,
     "metadata": {},
     "output_type": "execute_result"
    }
   ],
   "source": [
    "data.shape"
   ]
  },
  {
   "cell_type": "code",
   "execution_count": 243,
   "metadata": {
    "colab": {
     "base_uri": "https://localhost:8080/",
     "height": 137
    },
    "colab_type": "code",
    "id": "6XKaXRWYVIDS",
    "outputId": "6604eff0-a452-42aa-aac2-6599d402b4ab"
   },
   "outputs": [
    {
     "data": {
      "text/html": [
       "<div>\n",
       "<style scoped>\n",
       "    .dataframe tbody tr th:only-of-type {\n",
       "        vertical-align: middle;\n",
       "    }\n",
       "\n",
       "    .dataframe tbody tr th {\n",
       "        vertical-align: top;\n",
       "    }\n",
       "\n",
       "    .dataframe thead th {\n",
       "        text-align: right;\n",
       "    }\n",
       "</style>\n",
       "<table border=\"1\" class=\"dataframe\">\n",
       "  <thead>\n",
       "    <tr style=\"text-align: right;\">\n",
       "      <th></th>\n",
       "      <th>lat</th>\n",
       "      <th>elevation</th>\n",
       "      <th>flow accumulation</th>\n",
       "      <th>land use</th>\n",
       "      <th>Rainfall intensity</th>\n",
       "      <th>slope</th>\n",
       "    </tr>\n",
       "    <tr>\n",
       "      <th>target</th>\n",
       "      <th></th>\n",
       "      <th></th>\n",
       "      <th></th>\n",
       "      <th></th>\n",
       "      <th></th>\n",
       "      <th></th>\n",
       "    </tr>\n",
       "  </thead>\n",
       "  <tbody>\n",
       "    <tr>\n",
       "      <th>0.0</th>\n",
       "      <td>192</td>\n",
       "      <td>192</td>\n",
       "      <td>192</td>\n",
       "      <td>192</td>\n",
       "      <td>192</td>\n",
       "      <td>192</td>\n",
       "    </tr>\n",
       "    <tr>\n",
       "      <th>1.0</th>\n",
       "      <td>192</td>\n",
       "      <td>192</td>\n",
       "      <td>192</td>\n",
       "      <td>192</td>\n",
       "      <td>192</td>\n",
       "      <td>192</td>\n",
       "    </tr>\n",
       "  </tbody>\n",
       "</table>\n",
       "</div>"
      ],
      "text/plain": [
       "        lat  elevation  flow accumulation  land use  Rainfall intensity  slope\n",
       "target                                                                        \n",
       "0.0     192        192                192       192                 192    192\n",
       "1.0     192        192                192       192                 192    192"
      ]
     },
     "execution_count": 243,
     "metadata": {},
     "output_type": "execute_result"
    }
   ],
   "source": [
    "from sklearn.utils import resample\n",
    "# Separate majority and minority classes\n",
    "df_majority = data[data.target==1.0] #I classified negative class as '0'\n",
    "df_minority = data[data.target==0.0]\n",
    "\n",
    "# Upsample minority class\n",
    "df_minority_upsampled = resample(df_minority, \n",
    "                                 replace=True,       # sample with replacement\n",
    "                                 n_samples=192,    # to match majority class\n",
    "                                 random_state=123)   # reproducible results\n",
    "\n",
    "# Combine majority class with upsampled minority class\n",
    "data = pd.concat([df_majority, df_minority_upsampled])\n",
    "\n",
    "# Display new class counts\n",
    "data.groupby('target').count()"
   ]
  },
  {
   "cell_type": "code",
   "execution_count": 244,
   "metadata": {},
   "outputs": [],
   "source": [
    "#Soil types\n",
    "\n",
    "data = data.rename(columns={'lat': 'Soil types'})"
   ]
  },
  {
   "cell_type": "code",
   "execution_count": 245,
   "metadata": {
    "colab": {},
    "colab_type": "code",
    "id": "j6s2WluwVIDW"
   },
   "outputs": [],
   "source": [
    "data.dropna(axis=0, inplace=True)\n",
    "\n",
    "X = data.drop('target',axis=1)\n",
    "y = data['target']"
   ]
  },
  {
   "cell_type": "code",
   "execution_count": 246,
   "metadata": {
    "colab": {},
    "colab_type": "code",
    "id": "uBfVBPnDVIDa"
   },
   "outputs": [],
   "source": [
    "from sklearn.model_selection import train_test_split"
   ]
  },
  {
   "cell_type": "code",
   "execution_count": 247,
   "metadata": {
    "colab": {},
    "colab_type": "code",
    "id": "KMyzOLJqVIDc"
   },
   "outputs": [],
   "source": [
    "X_train, X_test, y_train, y_test = train_test_split(X, y, random_state=1992)"
   ]
  },
  {
   "cell_type": "code",
   "execution_count": 248,
   "metadata": {
    "colab": {},
    "colab_type": "code",
    "id": "DY6ENEisVIDf"
   },
   "outputs": [],
   "source": [
    "from sklearn.preprocessing import StandardScaler\n",
    "scaler = StandardScaler()\n",
    "scaler.fit(X_train)\n",
    "# Now apply the transformations to the data:\n",
    "X_train = scaler.transform(X_train)\n",
    "X_test = scaler.transform(X_test)"
   ]
  },
  {
   "cell_type": "code",
   "execution_count": 249,
   "metadata": {
    "colab": {},
    "colab_type": "code",
    "id": "ZH51qqrBVIDx"
   },
   "outputs": [],
   "source": [
    "from sklearn.neural_network import MLPClassifier"
   ]
  },
  {
   "cell_type": "code",
   "execution_count": 250,
   "metadata": {
    "colab": {},
    "colab_type": "code",
    "id": "ZtY5ZYVEVID1"
   },
   "outputs": [],
   "source": [
    "mlp = MLPClassifier(activation='relu', alpha=0.0001, batch_size='auto', beta_1=0.9,\n",
    "       beta_2=0.999, early_stopping=True, epsilon=1e-08,\n",
    "       hidden_layer_sizes=22, learning_rate='constant',\n",
    "       learning_rate_init=0.001, max_iter=500, momentum=0.9,\n",
    "       nesterovs_momentum=True, power_t=0.5, random_state=12345,\n",
    "       shuffle=True, solver='adam', tol=0.0001, validation_fraction=0.2,\n",
    "       verbose=False, warm_start=False)"
   ]
  },
  {
   "cell_type": "code",
   "execution_count": 251,
   "metadata": {
    "colab": {
     "base_uri": "https://localhost:8080/",
     "height": 158
    },
    "colab_type": "code",
    "id": "595QeyYUVID3",
    "outputId": "44e54abc-3606-4d98-a095-2488f08f1f6d"
   },
   "outputs": [
    {
     "data": {
      "text/plain": [
       "MLPClassifier(early_stopping=True, hidden_layer_sizes=22, max_iter=500,\n",
       "              random_state=12345, validation_fraction=0.2)"
      ]
     },
     "execution_count": 251,
     "metadata": {},
     "output_type": "execute_result"
    }
   ],
   "source": [
    "mlp.fit(X_train, y_train)"
   ]
  },
  {
   "cell_type": "markdown",
   "metadata": {
    "colab_type": "text",
    "id": "Vv5DtkB6VID7"
   },
   "source": [
    "## Predictions and Evaluation\n",
    "\n",
    "Now that we have a model it is time to use it to get predictions! We can do this simply with the predict() method off of our fitted model:"
   ]
  },
  {
   "cell_type": "code",
   "execution_count": 252,
   "metadata": {
    "colab": {},
    "colab_type": "code",
    "id": "8aNAv_yjVID8"
   },
   "outputs": [],
   "source": [
    "predictions = mlp.predict(X_test)"
   ]
  },
  {
   "cell_type": "code",
   "execution_count": 253,
   "metadata": {
    "colab": {},
    "colab_type": "code",
    "id": "OQBP78kyVIEA"
   },
   "outputs": [],
   "source": [
    "from sklearn.metrics import classification_report, confusion_matrix"
   ]
  },
  {
   "cell_type": "code",
   "execution_count": 254,
   "metadata": {
    "colab": {
     "base_uri": "https://localhost:8080/",
     "height": 52
    },
    "colab_type": "code",
    "id": "KpRAXOVfVIED",
    "outputId": "5c5a9f83-b1c7-4f53-c0fe-f131095ff94f"
   },
   "outputs": [
    {
     "name": "stdout",
     "output_type": "stream",
     "text": [
      "[[ 0 47]\n",
      " [ 0 49]]\n"
     ]
    }
   ],
   "source": [
    "print(confusion_matrix(y_test,predictions))"
   ]
  },
  {
   "cell_type": "code",
   "execution_count": 255,
   "metadata": {
    "colab": {
     "base_uri": "https://localhost:8080/",
     "height": 176
    },
    "colab_type": "code",
    "id": "3_oWfMGzVIEG",
    "outputId": "4a53e5c8-bb73-45f5-c7fe-f04ca420e0c3"
   },
   "outputs": [
    {
     "name": "stdout",
     "output_type": "stream",
     "text": [
      "              precision    recall  f1-score   support\n",
      "\n",
      "         0.0       0.00      0.00      0.00        47\n",
      "         1.0       0.51      1.00      0.68        49\n",
      "\n",
      "    accuracy                           0.51        96\n",
      "   macro avg       0.26      0.50      0.34        96\n",
      "weighted avg       0.26      0.51      0.34        96\n",
      "\n"
     ]
    }
   ],
   "source": [
    "print(classification_report(y_test,predictions))"
   ]
  },
  {
   "cell_type": "code",
   "execution_count": 256,
   "metadata": {
    "colab": {
     "base_uri": "https://localhost:8080/",
     "height": 1000
    },
    "colab_type": "code",
    "id": "_h15QQdOVIEL",
    "outputId": "1b8ec98b-52ef-4d8c-f6b5-b588b27bbbc1"
   },
   "outputs": [
    {
     "name": "stdout",
     "output_type": "stream",
     "text": [
      "              precision    recall  f1-score   support\n",
      "\n",
      "         0.0   0.000000  0.000000  0.000000        14\n",
      "         1.0   0.517241  1.000000  0.681818        15\n",
      "\n",
      "    accuracy                       0.517241        29\n",
      "   macro avg   0.258621  0.500000  0.340909        29\n",
      "weighted avg   0.267539  0.517241  0.352665        29\n",
      "\n",
      "              precision    recall  f1-score   support\n",
      "\n",
      "         0.0   0.000000  0.000000  0.000000        13\n",
      "         1.0   0.551724  1.000000  0.711111        16\n",
      "\n",
      "    accuracy                       0.551724        29\n",
      "   macro avg   0.275862  0.500000  0.355556        29\n",
      "weighted avg   0.304400  0.551724  0.392337        29\n",
      "\n",
      "              precision    recall  f1-score   support\n",
      "\n",
      "         0.0   0.000000  0.000000  0.000000        14\n",
      "         1.0   0.517241  1.000000  0.681818        15\n",
      "\n",
      "    accuracy                       0.517241        29\n",
      "   macro avg   0.258621  0.500000  0.340909        29\n",
      "weighted avg   0.267539  0.517241  0.352665        29\n",
      "\n",
      "              precision    recall  f1-score   support\n",
      "\n",
      "         0.0   0.000000  0.000000  0.000000        13\n",
      "         1.0   0.551724  1.000000  0.711111        16\n",
      "\n",
      "    accuracy                       0.551724        29\n",
      "   macro avg   0.275862  0.500000  0.355556        29\n",
      "weighted avg   0.304400  0.551724  0.392337        29\n",
      "\n",
      "              precision    recall  f1-score   support\n",
      "\n",
      "         0.0   0.000000  0.000000  0.000000        17\n",
      "         1.0   0.413793  1.000000  0.585366        12\n",
      "\n",
      "    accuracy                       0.413793        29\n",
      "   macro avg   0.206897  0.500000  0.292683        29\n",
      "weighted avg   0.171225  0.413793  0.242220        29\n",
      "\n",
      "              precision    recall  f1-score   support\n",
      "\n",
      "         0.0   0.000000  0.000000  0.000000        18\n",
      "         1.0   0.379310  1.000000  0.550000        11\n",
      "\n",
      "    accuracy                       0.379310        29\n",
      "   macro avg   0.189655  0.500000  0.275000        29\n",
      "weighted avg   0.143876  0.379310  0.208621        29\n",
      "\n",
      "              precision    recall  f1-score   support\n",
      "\n",
      "         0.0   0.000000  0.000000  0.000000        14\n",
      "         1.0   0.517241  1.000000  0.681818        15\n",
      "\n",
      "    accuracy                       0.517241        29\n",
      "   macro avg   0.258621  0.500000  0.340909        29\n",
      "weighted avg   0.267539  0.517241  0.352665        29\n",
      "\n",
      "              precision    recall  f1-score   support\n",
      "\n",
      "         0.0   0.000000  0.000000  0.000000        14\n",
      "         1.0   0.517241  1.000000  0.681818        15\n",
      "\n",
      "    accuracy                       0.517241        29\n",
      "   macro avg   0.258621  0.500000  0.340909        29\n",
      "weighted avg   0.267539  0.517241  0.352665        29\n",
      "\n",
      "              precision    recall  f1-score   support\n",
      "\n",
      "         0.0   1.000000  0.076923  0.142857        13\n",
      "         1.0   0.555556  1.000000  0.714286        15\n",
      "\n",
      "    accuracy                       0.571429        28\n",
      "   macro avg   0.777778  0.538462  0.428571        28\n",
      "weighted avg   0.761905  0.571429  0.448980        28\n",
      "\n",
      "              precision    recall  f1-score   support\n",
      "\n",
      "         0.0   0.000000  0.000000  0.000000        15\n",
      "         1.0   0.464286  1.000000  0.634146        13\n",
      "\n",
      "    accuracy                       0.464286        28\n",
      "   macro avg   0.232143  0.500000  0.317073        28\n",
      "weighted avg   0.215561  0.464286  0.294425        28\n",
      "\n",
      "[0.51724138 0.55172414 0.51724138 0.55172414 0.4137931  0.37931034\n",
      " 0.51724138 0.51724138 0.57142857 0.46428571]\n",
      "0.5714285714285714\n"
     ]
    }
   ],
   "source": [
    "from sklearn.metrics import classification_report, accuracy_score, make_scorer\n",
    "\n",
    "scores = []\n",
    "model = MLPClassifier(activation='relu', alpha=0.0001, batch_size='auto', beta_1=0.9,\n",
    "       beta_2=0.999, early_stopping=True, epsilon=1e-08,\n",
    "       hidden_layer_sizes=22, learning_rate='constant',\n",
    "       learning_rate_init=0.001, max_iter=500, momentum=0.9,\n",
    "       nesterovs_momentum=True, power_t=0.5, random_state=12345,\n",
    "       shuffle=True, solver='adam', tol=0.0001, validation_fraction=0.2,\n",
    "       verbose=False, warm_start=False)\n",
    "\n",
    "cv = KFold(n_splits=10, random_state=42, shuffle=True)\n",
    "\n",
    "def classification_report_with_accuracy_score(y_true, y_pred):\n",
    "\n",
    "    print(classification_report(y_true, y_pred, digits=6)) # print classification report\n",
    "    return accuracy_score(y_true, y_pred) # return accuracy scor\n",
    "\n",
    "nested_score = cross_val_score(model, X_train, y_train, cv=cv,\\\n",
    "               scoring=make_scorer(classification_report_with_accuracy_score))\n",
    "print(nested_score) \n",
    "print(np.max(nested_score))"
   ]
  },
  {
   "cell_type": "code",
   "execution_count": 257,
   "metadata": {
    "colab": {
     "base_uri": "https://localhost:8080/",
     "height": 445
    },
    "colab_type": "code",
    "id": "mm-MiRo9VIEO",
    "outputId": "5d4e9fc7-bfce-495c-a325-564e16c149d4"
   },
   "outputs": [
    {
     "name": "stdout",
     "output_type": "stream",
     "text": [
      "[[ 0 47]\n",
      " [ 0 49]]\n",
      "tn, fp, fn, tp = 0 0 47 49\n"
     ]
    },
    {
     "data": {
      "text/plain": [
       "<matplotlib.axes._subplots.AxesSubplot at 0x7fa43032c820>"
      ]
     },
     "execution_count": 257,
     "metadata": {},
     "output_type": "execute_result"
    },
    {
     "data": {
      "image/png": "[encoded data removed]",
      "text/plain": [
       "<Figure size 720x432 with 2 Axes>"
      ]
     },
     "metadata": {
      "needs_background": "light"
     },
     "output_type": "display_data"
    }
   ],
   "source": [
    "cm =confusion_matrix(y_test,predictions)  \n",
    "print(cm)\n",
    "tn, fp, fn, tp = confusion_matrix(predictions,y_test).ravel()\n",
    "print(\"tn, fp, fn, tp =\", tn, fp, fn, tp)\n",
    "index = ['class 0','class 1']  \n",
    "columns = ['class 0','class 1']  \n",
    "cm_df = pd.DataFrame(cm,columns,index)                      \n",
    "plt.figure(figsize=(10,6))  \n",
    "sns.heatmap(cm_df, annot=True)"
   ]
  },
  {
   "cell_type": "markdown",
   "metadata": {
    "colab_type": "text",
    "id": "BBXP1AWQOd4a"
   },
   "source": [
    "## Model 1: All"
   ]
  },
  {
   "cell_type": "code",
   "execution_count": 258,
   "metadata": {
    "colab": {
     "base_uri": "https://localhost:8080/",
     "height": 212
    },
    "colab_type": "code",
    "id": "tWTn8vpDVIEQ",
    "outputId": "077dd6f6-2fc9-4ab3-9cda-4ab392bfa959"
   },
   "outputs": [
    {
     "name": "stdout",
     "output_type": "stream",
     "text": [
      "[[ 0 47]\n",
      " [ 0 49]]\n",
      "              precision    recall  f1-score   support\n",
      "\n",
      "         0.0       0.00      0.00      0.00        47\n",
      "         1.0       0.51      1.00      0.68        49\n",
      "\n",
      "    accuracy                           0.51        96\n",
      "   macro avg       0.26      0.50      0.34        96\n",
      "weighted avg       0.26      0.51      0.34        96\n",
      "\n"
     ]
    }
   ],
   "source": [
    "data.dropna(axis=0, inplace=True)\n",
    "\n",
    "X = data.drop('target',axis=1)\n",
    "y = data['target']\n",
    "\n",
    "X_train, X_test, y_train, y_test = train_test_split(X, y, random_state=1992)\n",
    "\n",
    "scaler = StandardScaler()\n",
    "scaler.fit(X_train)\n",
    "# Now apply the transformations to the data:\n",
    "X_train = scaler.transform(X_train)\n",
    "X_test = scaler.transform(X_test)\n",
    "\n",
    "mlp = MLPClassifier(activation='relu', alpha=0.0001, batch_size='auto', beta_1=0.9,\n",
    "       beta_2=0.999, early_stopping=True, epsilon=1e-08,\n",
    "       hidden_layer_sizes=22, learning_rate='constant',\n",
    "       learning_rate_init=0.001, max_iter=500, momentum=0.9,\n",
    "       nesterovs_momentum=True, power_t=0.5, random_state=12345,\n",
    "       shuffle=True, solver='adam', tol=0.0001, validation_fraction=0.2,\n",
    "       verbose=False, warm_start=False)\n",
    "\n",
    "mlp.fit(X_train, y_train)\n",
    "\n",
    "predictions = mlp.predict(X_test)\n",
    "\n",
    "print(confusion_matrix(y_test,predictions))\n",
    "\n",
    "print(classification_report(y_test,predictions))"
   ]
  },
  {
   "cell_type": "code",
   "execution_count": 259,
   "metadata": {
    "colab": {
     "base_uri": "https://localhost:8080/",
     "height": 1000
    },
    "colab_type": "code",
    "id": "GrkVaHgpPanT",
    "outputId": "79aed43a-6984-4085-a95c-a50c270a4742"
   },
   "outputs": [
    {
     "name": "stdout",
     "output_type": "stream",
     "text": [
      "              precision    recall  f1-score   support\n",
      "\n",
      "         0.0   0.000000  0.000000  0.000000        14\n",
      "         1.0   0.517241  1.000000  0.681818        15\n",
      "\n",
      "    accuracy                       0.517241        29\n",
      "   macro avg   0.258621  0.500000  0.340909        29\n",
      "weighted avg   0.267539  0.517241  0.352665        29\n",
      "\n",
      "              precision    recall  f1-score   support\n",
      "\n",
      "         0.0   0.000000  0.000000  0.000000        13\n",
      "         1.0   0.551724  1.000000  0.711111        16\n",
      "\n",
      "    accuracy                       0.551724        29\n",
      "   macro avg   0.275862  0.500000  0.355556        29\n",
      "weighted avg   0.304400  0.551724  0.392337        29\n",
      "\n",
      "              precision    recall  f1-score   support\n",
      "\n",
      "         0.0   0.000000  0.000000  0.000000        14\n",
      "         1.0   0.517241  1.000000  0.681818        15\n",
      "\n",
      "    accuracy                       0.517241        29\n",
      "   macro avg   0.258621  0.500000  0.340909        29\n",
      "weighted avg   0.267539  0.517241  0.352665        29\n",
      "\n",
      "              precision    recall  f1-score   support\n",
      "\n",
      "         0.0   0.000000  0.000000  0.000000        13\n",
      "         1.0   0.551724  1.000000  0.711111        16\n",
      "\n",
      "    accuracy                       0.551724        29\n",
      "   macro avg   0.275862  0.500000  0.355556        29\n",
      "weighted avg   0.304400  0.551724  0.392337        29\n",
      "\n",
      "              precision    recall  f1-score   support\n",
      "\n",
      "         0.0   0.000000  0.000000  0.000000        17\n",
      "         1.0   0.413793  1.000000  0.585366        12\n",
      "\n",
      "    accuracy                       0.413793        29\n",
      "   macro avg   0.206897  0.500000  0.292683        29\n",
      "weighted avg   0.171225  0.413793  0.242220        29\n",
      "\n",
      "              precision    recall  f1-score   support\n",
      "\n",
      "         0.0   0.000000  0.000000  0.000000        18\n",
      "         1.0   0.379310  1.000000  0.550000        11\n",
      "\n",
      "    accuracy                       0.379310        29\n",
      "   macro avg   0.189655  0.500000  0.275000        29\n",
      "weighted avg   0.143876  0.379310  0.208621        29\n",
      "\n",
      "              precision    recall  f1-score   support\n",
      "\n",
      "         0.0   0.000000  0.000000  0.000000        14\n",
      "         1.0   0.517241  1.000000  0.681818        15\n",
      "\n",
      "    accuracy                       0.517241        29\n",
      "   macro avg   0.258621  0.500000  0.340909        29\n",
      "weighted avg   0.267539  0.517241  0.352665        29\n",
      "\n",
      "              precision    recall  f1-score   support\n",
      "\n",
      "         0.0   0.000000  0.000000  0.000000        14\n",
      "         1.0   0.517241  1.000000  0.681818        15\n",
      "\n",
      "    accuracy                       0.517241        29\n",
      "   macro avg   0.258621  0.500000  0.340909        29\n",
      "weighted avg   0.267539  0.517241  0.352665        29\n",
      "\n",
      "              precision    recall  f1-score   support\n",
      "\n",
      "         0.0   1.000000  0.076923  0.142857        13\n",
      "         1.0   0.555556  1.000000  0.714286        15\n",
      "\n",
      "    accuracy                       0.571429        28\n",
      "   macro avg   0.777778  0.538462  0.428571        28\n",
      "weighted avg   0.761905  0.571429  0.448980        28\n",
      "\n",
      "              precision    recall  f1-score   support\n",
      "\n",
      "         0.0   0.000000  0.000000  0.000000        15\n",
      "         1.0   0.464286  1.000000  0.634146        13\n",
      "\n",
      "    accuracy                       0.464286        28\n",
      "   macro avg   0.232143  0.500000  0.317073        28\n",
      "weighted avg   0.215561  0.464286  0.294425        28\n",
      "\n",
      "[0.51724138 0.55172414 0.51724138 0.55172414 0.4137931  0.37931034\n",
      " 0.51724138 0.51724138 0.57142857 0.46428571]\n",
      "0.5714285714285714\n"
     ]
    }
   ],
   "source": [
    "from sklearn.metrics import classification_report, accuracy_score, make_scorer\n",
    "\n",
    "scores = []\n",
    "model = MLPClassifier(activation='relu', alpha=0.0001, batch_size='auto', beta_1=0.9,\n",
    "       beta_2=0.999, early_stopping=True, epsilon=1e-08,\n",
    "       hidden_layer_sizes=22, learning_rate='constant',\n",
    "       learning_rate_init=0.001, max_iter=500, momentum=0.9,\n",
    "       nesterovs_momentum=True, power_t=0.5, random_state=12345,\n",
    "       shuffle=True, solver='adam', tol=0.0001, validation_fraction=0.2,\n",
    "       verbose=False, warm_start=False)\n",
    "\n",
    "cv = KFold(n_splits=10, random_state=42, shuffle=True)\n",
    "\n",
    "def classification_report_with_accuracy_score(y_true, y_pred):\n",
    "\n",
    "    print(classification_report(y_true, y_pred, digits=6)) # print classification report\n",
    "    return accuracy_score(y_true, y_pred) # return accuracy scor\n",
    "\n",
    "nested_score = cross_val_score(model, X_train, y_train, cv=cv,\\\n",
    "               scoring=make_scorer(classification_report_with_accuracy_score))\n",
    "print(nested_score) \n",
    "print(np.max(nested_score))"
   ]
  },
  {
   "cell_type": "code",
   "execution_count": 260,
   "metadata": {
    "colab": {
     "base_uri": "https://localhost:8080/",
     "height": 445
    },
    "colab_type": "code",
    "id": "55AHVgoYPcIK",
    "outputId": "8928c824-62d5-46bd-a975-9b9c82f6ec90"
   },
   "outputs": [
    {
     "name": "stdout",
     "output_type": "stream",
     "text": [
      "[[ 0 47]\n",
      " [ 0 49]]\n",
      "tn, fp, fn, tp = 0 0 47 49\n"
     ]
    },
    {
     "data": {
      "text/plain": [
       "<matplotlib.axes._subplots.AxesSubplot at 0x7fa418adebb0>"
      ]
     },
     "execution_count": 260,
     "metadata": {},
     "output_type": "execute_result"
    },
    {
     "data": {
      "image/png": "[encoded data removed]",
      "text/plain": [
       "<Figure size 720x432 with 2 Axes>"
      ]
     },
     "metadata": {
      "needs_background": "light"
     },
     "output_type": "display_data"
    }
   ],
   "source": [
    "cm =confusion_matrix(y_test,predictions)  \n",
    "print(cm)\n",
    "tn, fp, fn, tp = confusion_matrix(predictions,y_test).ravel()\n",
    "print(\"tn, fp, fn, tp =\", tn, fp, fn, tp)\n",
    "index = ['class 0','class 1']  \n",
    "columns = ['class 0','class 1']  \n",
    "cm_df = pd.DataFrame(cm,columns,index)                      \n",
    "plt.figure(figsize=(10,6))  \n",
    "sns.heatmap(cm_df, annot=True)"
   ]
  },
  {
   "cell_type": "markdown",
   "metadata": {
    "colab_type": "text",
    "id": "gRtYdYwlOi3N"
   },
   "source": [
    "## Model 2: All - Slope"
   ]
  },
  {
   "cell_type": "code",
   "execution_count": 261,
   "metadata": {
    "colab": {
     "base_uri": "https://localhost:8080/",
     "height": 70
    },
    "colab_type": "code",
    "id": "7IfBcjiVPoYe",
    "outputId": "6c10a7a7-9ed9-46a7-ee61-3ce773b3ee7e"
   },
   "outputs": [
    {
     "data": {
      "text/plain": [
       "Index(['Soil types', 'elevation', 'flow accumulation', 'land use',\n",
       "       'Rainfall intensity', 'slope'],\n",
       "      dtype='object')"
      ]
     },
     "execution_count": 261,
     "metadata": {},
     "output_type": "execute_result"
    }
   ],
   "source": [
    "X.columns"
   ]
  },
  {
   "cell_type": "code",
   "execution_count": 262,
   "metadata": {
    "colab": {
     "base_uri": "https://localhost:8080/",
     "height": 212
    },
    "colab_type": "code",
    "id": "qV508zHnOlnn",
    "outputId": "17c56a29-14d7-4bb3-ac0b-6e41f46aac7a"
   },
   "outputs": [
    {
     "name": "stdout",
     "output_type": "stream",
     "text": [
      "[[29 18]\n",
      " [21 28]]\n",
      "              precision    recall  f1-score   support\n",
      "\n",
      "         0.0       0.58      0.62      0.60        47\n",
      "         1.0       0.61      0.57      0.59        49\n",
      "\n",
      "    accuracy                           0.59        96\n",
      "   macro avg       0.59      0.59      0.59        96\n",
      "weighted avg       0.59      0.59      0.59        96\n",
      "\n"
     ]
    }
   ],
   "source": [
    "data.dropna(axis=0, inplace=True)\n",
    "\n",
    "X = data.drop(['target','slope'],axis=1)\n",
    "y = data['target']\n",
    "\n",
    "X_train, X_test, y_train, y_test = train_test_split(X, y, random_state=1992)\n",
    "\n",
    "scaler = StandardScaler()\n",
    "scaler.fit(X_train)\n",
    "# Now apply the transformations to the data:\n",
    "X_train = scaler.transform(X_train)\n",
    "X_test = scaler.transform(X_test)\n",
    "\n",
    "mlp = MLPClassifier(activation='relu', alpha=0.0001, batch_size='auto', beta_1=0.9,\n",
    "       beta_2=0.999, early_stopping=True, epsilon=1e-08,\n",
    "       hidden_layer_sizes=22, learning_rate='constant',\n",
    "       learning_rate_init=0.001, max_iter=500, momentum=0.9,\n",
    "       nesterovs_momentum=True, power_t=0.5, random_state=12345,\n",
    "       shuffle=True, solver='adam', tol=0.0001, validation_fraction=0.2,\n",
    "       verbose=False, warm_start=False)\n",
    "\n",
    "mlp.fit(X_train, y_train)\n",
    "\n",
    "predictions = mlp.predict(X_test)\n",
    "\n",
    "print(confusion_matrix(y_test,predictions))\n",
    "\n",
    "print(classification_report(y_test,predictions))"
   ]
  },
  {
   "cell_type": "code",
   "execution_count": 263,
   "metadata": {
    "colab": {
     "base_uri": "https://localhost:8080/",
     "height": 445
    },
    "colab_type": "code",
    "id": "PP1Tf07wQPfb",
    "outputId": "2a174d17-a59e-4b18-afb9-247b04848ca8"
   },
   "outputs": [
    {
     "name": "stdout",
     "output_type": "stream",
     "text": [
      "[[29 18]\n",
      " [21 28]]\n",
      "tn, fp, fn, tp = 29 21 18 28\n"
     ]
    },
    {
     "data": {
      "text/plain": [
       "<matplotlib.axes._subplots.AxesSubplot at 0x7fa418f586d0>"
      ]
     },
     "execution_count": 263,
     "metadata": {},
     "output_type": "execute_result"
    },
    {
     "data": {
      "image/png": "[encoded data removed]",
      "text/plain": [
       "<Figure size 720x432 with 2 Axes>"
      ]
     },
     "metadata": {
      "needs_background": "light"
     },
     "output_type": "display_data"
    }
   ],
   "source": [
    "cm =confusion_matrix(y_test,predictions)  \n",
    "print(cm)\n",
    "tn, fp, fn, tp = confusion_matrix(predictions,y_test).ravel()\n",
    "print(\"tn, fp, fn, tp =\", tn, fp, fn, tp)\n",
    "index = ['class 0','class 1']  \n",
    "columns = ['class 0','class 1']  \n",
    "cm_df = pd.DataFrame(cm,columns,index)                      \n",
    "plt.figure(figsize=(10,6))  \n",
    "sns.heatmap(cm_df, annot=True)"
   ]
  },
  {
   "cell_type": "code",
   "execution_count": 264,
   "metadata": {
    "colab": {
     "base_uri": "https://localhost:8080/",
     "height": 1000
    },
    "colab_type": "code",
    "id": "_ip9F7fpQMPK",
    "outputId": "52b55cca-1606-4130-b60a-e93e96f0748a"
   },
   "outputs": [
    {
     "name": "stdout",
     "output_type": "stream",
     "text": [
      "              precision    recall  f1-score   support\n",
      "\n",
      "         0.0   0.461538  0.428571  0.444444        14\n",
      "         1.0   0.500000  0.533333  0.516129        15\n",
      "\n",
      "    accuracy                       0.482759        29\n",
      "   macro avg   0.480769  0.480952  0.480287        29\n",
      "weighted avg   0.481432  0.482759  0.481523        29\n",
      "\n",
      "              precision    recall  f1-score   support\n",
      "\n",
      "         0.0   0.533333  0.615385  0.571429        13\n",
      "         1.0   0.642857  0.562500  0.600000        16\n",
      "\n",
      "    accuracy                       0.586207        29\n",
      "   macro avg   0.588095  0.588942  0.585714        29\n",
      "weighted avg   0.593760  0.586207  0.587192        29\n",
      "\n",
      "              precision    recall  f1-score   support\n",
      "\n",
      "         0.0   0.687500  0.785714  0.733333        14\n",
      "         1.0   0.769231  0.666667  0.714286        15\n",
      "\n",
      "    accuracy                       0.724138        29\n",
      "   macro avg   0.728365  0.726190  0.723810        29\n",
      "weighted avg   0.729775  0.724138  0.723481        29\n",
      "\n",
      "              precision    recall  f1-score   support\n",
      "\n",
      "         0.0   0.555556  0.769231  0.645161        13\n",
      "         1.0   0.727273  0.500000  0.592593        16\n",
      "\n",
      "    accuracy                       0.620690        29\n",
      "   macro avg   0.641414  0.634615  0.618877        29\n",
      "weighted avg   0.650296  0.620690  0.616158        29\n",
      "\n",
      "              precision    recall  f1-score   support\n",
      "\n",
      "         0.0   0.777778  0.411765  0.538462        17\n",
      "         1.0   0.500000  0.833333  0.625000        12\n",
      "\n",
      "    accuracy                       0.586207        29\n",
      "   macro avg   0.638889  0.622549  0.581731        29\n",
      "weighted avg   0.662835  0.586207  0.574271        29\n",
      "\n",
      "              precision    recall  f1-score   support\n",
      "\n",
      "         0.0   0.636364  0.388889  0.482759        18\n",
      "         1.0   0.388889  0.636364  0.482759        11\n",
      "\n",
      "    accuracy                       0.482759        29\n",
      "   macro avg   0.512626  0.512626  0.482759        29\n",
      "weighted avg   0.542494  0.482759  0.482759        29\n",
      "\n",
      "              precision    recall  f1-score   support\n",
      "\n",
      "         0.0   0.588235  0.714286  0.645161        14\n",
      "         1.0   0.666667  0.533333  0.592593        15\n",
      "\n",
      "    accuracy                       0.620690        29\n",
      "   macro avg   0.627451  0.623810  0.618877        29\n",
      "weighted avg   0.628803  0.620690  0.617971        29\n",
      "\n",
      "              precision    recall  f1-score   support\n",
      "\n",
      "         0.0   0.555556  0.714286  0.625000        14\n",
      "         1.0   0.636364  0.466667  0.538462        15\n",
      "\n",
      "    accuracy                       0.586207        29\n",
      "   macro avg   0.595960  0.590476  0.581731        29\n",
      "weighted avg   0.597353  0.586207  0.580239        29\n",
      "\n",
      "              precision    recall  f1-score   support\n",
      "\n",
      "         0.0   0.526316  0.769231  0.625000        13\n",
      "         1.0   0.666667  0.400000  0.500000        15\n",
      "\n",
      "    accuracy                       0.571429        28\n",
      "   macro avg   0.596491  0.584615  0.562500        28\n",
      "weighted avg   0.601504  0.571429  0.558036        28\n",
      "\n",
      "              precision    recall  f1-score   support\n",
      "\n",
      "         0.0   0.625000  0.666667  0.645161        15\n",
      "         1.0   0.583333  0.538462  0.560000        13\n",
      "\n",
      "    accuracy                       0.607143        28\n",
      "   macro avg   0.604167  0.602564  0.602581        28\n",
      "weighted avg   0.605655  0.607143  0.605622        28\n",
      "\n",
      "[0.48275862 0.5862069  0.72413793 0.62068966 0.5862069  0.48275862\n",
      " 0.62068966 0.5862069  0.57142857 0.60714286]\n",
      "0.7241379310344828\n"
     ]
    }
   ],
   "source": [
    "from sklearn.metrics import classification_report, accuracy_score, make_scorer\n",
    "\n",
    "scores = []\n",
    "model = MLPClassifier(activation='relu', alpha=0.0001, batch_size='auto', beta_1=0.9,\n",
    "       beta_2=0.999, early_stopping=True, epsilon=1e-08,\n",
    "       hidden_layer_sizes=22, learning_rate='constant',\n",
    "       learning_rate_init=0.001, max_iter=500, momentum=0.9,\n",
    "       nesterovs_momentum=True, power_t=0.5, random_state=12345,\n",
    "       shuffle=True, solver='adam', tol=0.0001, validation_fraction=0.2,\n",
    "       verbose=False, warm_start=False)\n",
    "\n",
    "cv = KFold(n_splits=10, random_state=42, shuffle=True)\n",
    "\n",
    "def classification_report_with_accuracy_score(y_true, y_pred):\n",
    "\n",
    "    print(classification_report(y_true, y_pred, digits=6)) # print classification report\n",
    "    return accuracy_score(y_true, y_pred) # return accuracy scor\n",
    "\n",
    "nested_score = cross_val_score(model, X_train, y_train, cv=cv,\\\n",
    "               scoring=make_scorer(classification_report_with_accuracy_score))\n",
    "print(nested_score) \n",
    "print(np.max(nested_score))"
   ]
  },
  {
   "cell_type": "markdown",
   "metadata": {
    "colab_type": "text",
    "id": "c22A5xdMOl8s"
   },
   "source": [
    "## Model 3: All - Slope - Rainfall\n"
   ]
  },
  {
   "cell_type": "code",
   "execution_count": 265,
   "metadata": {
    "colab": {
     "base_uri": "https://localhost:8080/",
     "height": 212
    },
    "colab_type": "code",
    "id": "9JTQFLRROqpy",
    "outputId": "f50bd81a-ef88-4e80-b843-2956315066f7"
   },
   "outputs": [
    {
     "name": "stdout",
     "output_type": "stream",
     "text": [
      "[[25 22]\n",
      " [11 38]]\n",
      "              precision    recall  f1-score   support\n",
      "\n",
      "         0.0       0.69      0.53      0.60        47\n",
      "         1.0       0.63      0.78      0.70        49\n",
      "\n",
      "    accuracy                           0.66        96\n",
      "   macro avg       0.66      0.65      0.65        96\n",
      "weighted avg       0.66      0.66      0.65        96\n",
      "\n"
     ]
    }
   ],
   "source": [
    "data.dropna(axis=0, inplace=True)\n",
    "\n",
    "X = data.drop(['target','slope','Rainfall intensity'],axis=1)\n",
    "y = data['target']\n",
    "\n",
    "X_train, X_test, y_train, y_test = train_test_split(X, y, random_state=1992)\n",
    "\n",
    "scaler = StandardScaler()\n",
    "scaler.fit(X_train)\n",
    "# Now apply the transformations to the data:\n",
    "X_train = scaler.transform(X_train)\n",
    "X_test = scaler.transform(X_test)\n",
    "\n",
    "mlp = MLPClassifier(activation='relu', alpha=0.0001, batch_size='auto', beta_1=0.9,\n",
    "       beta_2=0.999, early_stopping=True, epsilon=1e-08,\n",
    "       hidden_layer_sizes=22, learning_rate='constant',\n",
    "       learning_rate_init=0.001, max_iter=500, momentum=0.9,\n",
    "       nesterovs_momentum=True, power_t=0.5, random_state=12345,\n",
    "       shuffle=True, solver='adam', tol=0.0001, validation_fraction=0.2,\n",
    "       verbose=False, warm_start=False)\n",
    "\n",
    "mlp.fit(X_train, y_train)\n",
    "\n",
    "predictions = mlp.predict(X_test)\n",
    "\n",
    "print(confusion_matrix(y_test,predictions))\n",
    "\n",
    "print(classification_report(y_test,predictions))"
   ]
  },
  {
   "cell_type": "code",
   "execution_count": 266,
   "metadata": {
    "colab": {
     "base_uri": "https://localhost:8080/",
     "height": 445
    },
    "colab_type": "code",
    "id": "MdnNbWDoQQWP",
    "outputId": "96aad33b-5be4-4c27-ec95-16422c348635"
   },
   "outputs": [
    {
     "name": "stdout",
     "output_type": "stream",
     "text": [
      "[[25 22]\n",
      " [11 38]]\n",
      "tn, fp, fn, tp = 25 11 22 38\n"
     ]
    },
    {
     "data": {
      "text/plain": [
       "<matplotlib.axes._subplots.AxesSubplot at 0x7fa41ab637f0>"
      ]
     },
     "execution_count": 266,
     "metadata": {},
     "output_type": "execute_result"
    },
    {
     "data": {
      "image/png": "[encoded data removed]",
      "text/plain": [
       "<Figure size 720x432 with 2 Axes>"
      ]
     },
     "metadata": {
      "needs_background": "light"
     },
     "output_type": "display_data"
    }
   ],
   "source": [
    "cm =confusion_matrix(y_test,predictions)  \n",
    "print(cm)\n",
    "tn, fp, fn, tp = confusion_matrix(predictions,y_test).ravel()\n",
    "print(\"tn, fp, fn, tp =\", tn, fp, fn, tp)\n",
    "index = ['class 0','class 1']  \n",
    "columns = ['class 0','class 1']  \n",
    "cm_df = pd.DataFrame(cm,columns,index)                      \n",
    "plt.figure(figsize=(10,6))  \n",
    "sns.heatmap(cm_df, annot=True)"
   ]
  },
  {
   "cell_type": "code",
   "execution_count": 267,
   "metadata": {
    "colab": {
     "base_uri": "https://localhost:8080/",
     "height": 1000
    },
    "colab_type": "code",
    "id": "VnUR3iLwQM7f",
    "outputId": "df5787b0-a8f0-4e49-c6c5-f91fced17e02"
   },
   "outputs": [
    {
     "name": "stdout",
     "output_type": "stream",
     "text": [
      "              precision    recall  f1-score   support\n",
      "\n",
      "         0.0   0.800000  0.285714  0.421053        14\n",
      "         1.0   0.583333  0.933333  0.717949        15\n",
      "\n",
      "    accuracy                       0.620690        29\n",
      "   macro avg   0.691667  0.609524  0.569501        29\n",
      "weighted avg   0.687931  0.620690  0.574620        29\n",
      "\n",
      "              precision    recall  f1-score   support\n",
      "\n",
      "         0.0   0.571429  0.307692  0.400000        13\n",
      "         1.0   0.590909  0.812500  0.684211        16\n",
      "\n",
      "    accuracy                       0.586207        29\n",
      "   macro avg   0.581169  0.560096  0.542105        29\n",
      "weighted avg   0.582176  0.586207  0.556806        29\n",
      "\n",
      "              precision    recall  f1-score   support\n",
      "\n",
      "         0.0   1.000000  0.214286  0.352941        14\n",
      "         1.0   0.576923  1.000000  0.731707        15\n",
      "\n",
      "    accuracy                       0.620690        29\n",
      "   macro avg   0.788462  0.607143  0.542324        29\n",
      "weighted avg   0.781167  0.620690  0.548855        29\n",
      "\n",
      "              precision    recall  f1-score   support\n",
      "\n",
      "         0.0   0.800000  0.615385  0.695652        13\n",
      "         1.0   0.736842  0.875000  0.800000        16\n",
      "\n",
      "    accuracy                       0.758621        29\n",
      "   macro avg   0.768421  0.745192  0.747826        29\n",
      "weighted avg   0.765154  0.758621  0.753223        29\n",
      "\n",
      "              precision    recall  f1-score   support\n",
      "\n",
      "         0.0   1.000000  0.294118  0.454545        17\n",
      "         1.0   0.500000  1.000000  0.666667        12\n",
      "\n",
      "    accuracy                       0.586207        29\n",
      "   macro avg   0.750000  0.647059  0.560606        29\n",
      "weighted avg   0.793103  0.586207  0.542320        29\n",
      "\n",
      "              precision    recall  f1-score   support\n",
      "\n",
      "         0.0   0.833333  0.277778  0.416667        18\n",
      "         1.0   0.434783  0.909091  0.588235        11\n",
      "\n",
      "    accuracy                       0.517241        29\n",
      "   macro avg   0.634058  0.593434  0.502451        29\n",
      "weighted avg   0.682159  0.517241  0.481744        29\n",
      "\n",
      "              precision    recall  f1-score   support\n",
      "\n",
      "         0.0   0.750000  0.214286  0.333333        14\n",
      "         1.0   0.560000  0.933333  0.700000        15\n",
      "\n",
      "    accuracy                       0.586207        29\n",
      "   macro avg   0.655000  0.573810  0.516667        29\n",
      "weighted avg   0.651724  0.586207  0.522989        29\n",
      "\n",
      "              precision    recall  f1-score   support\n",
      "\n",
      "         0.0   0.636364  0.500000  0.560000        14\n",
      "         1.0   0.611111  0.733333  0.666667        15\n",
      "\n",
      "    accuracy                       0.620690        29\n",
      "   macro avg   0.623737  0.616667  0.613333        29\n",
      "weighted avg   0.623302  0.620690  0.615172        29\n",
      "\n",
      "              precision    recall  f1-score   support\n",
      "\n",
      "         0.0   0.555556  0.384615  0.454545        13\n",
      "         1.0   0.578947  0.733333  0.647059        15\n",
      "\n",
      "    accuracy                       0.571429        28\n",
      "   macro avg   0.567251  0.558974  0.550802        28\n",
      "weighted avg   0.568087  0.571429  0.557678        28\n",
      "\n",
      "              precision    recall  f1-score   support\n",
      "\n",
      "         0.0   0.833333  0.333333  0.476190        15\n",
      "         1.0   0.545455  0.923077  0.685714        13\n",
      "\n",
      "    accuracy                       0.607143        28\n",
      "   macro avg   0.689394  0.628205  0.580952        28\n",
      "weighted avg   0.699675  0.607143  0.573469        28\n",
      "\n",
      "[0.62068966 0.5862069  0.62068966 0.75862069 0.5862069  0.51724138\n",
      " 0.5862069  0.62068966 0.57142857 0.60714286]\n",
      "0.7586206896551724\n"
     ]
    }
   ],
   "source": [
    "from sklearn.metrics import classification_report, accuracy_score, make_scorer\n",
    "\n",
    "scores = []\n",
    "model = MLPClassifier(activation='relu', alpha=0.0001, batch_size='auto', beta_1=0.9,\n",
    "       beta_2=0.999, early_stopping=True, epsilon=1e-08,\n",
    "       hidden_layer_sizes=22, learning_rate='constant',\n",
    "       learning_rate_init=0.001, max_iter=500, momentum=0.9,\n",
    "       nesterovs_momentum=True, power_t=0.5, random_state=12345,\n",
    "       shuffle=True, solver='adam', tol=0.0001, validation_fraction=0.2,\n",
    "       verbose=False, warm_start=False)\n",
    "\n",
    "cv = KFold(n_splits=10, random_state=42, shuffle=True)\n",
    "\n",
    "def classification_report_with_accuracy_score(y_true, y_pred):\n",
    "\n",
    "    print(classification_report(y_true, y_pred, digits=6)) # print classification report\n",
    "    return accuracy_score(y_true, y_pred) # return accuracy scor\n",
    "\n",
    "nested_score = cross_val_score(model, X_train, y_train, cv=cv,\\\n",
    "               scoring=make_scorer(classification_report_with_accuracy_score))\n",
    "print(nested_score) \n",
    "print(np.max(nested_score))"
   ]
  },
  {
   "cell_type": "markdown",
   "metadata": {
    "colab_type": "text",
    "id": "rlP0uzJAOrKK"
   },
   "source": [
    "## Model 4: All - Slope - Rainfall - Landuse\n"
   ]
  },
  {
   "cell_type": "code",
   "execution_count": 268,
   "metadata": {
    "colab": {
     "base_uri": "https://localhost:8080/",
     "height": 212
    },
    "colab_type": "code",
    "id": "QiNFaEQFOr3S",
    "outputId": "44c34d4b-12a8-41dc-93f1-ad37a035bae7"
   },
   "outputs": [
    {
     "name": "stdout",
     "output_type": "stream",
     "text": [
      "[[16 31]\n",
      " [ 5 44]]\n",
      "              precision    recall  f1-score   support\n",
      "\n",
      "         0.0       0.76      0.34      0.47        47\n",
      "         1.0       0.59      0.90      0.71        49\n",
      "\n",
      "    accuracy                           0.62        96\n",
      "   macro avg       0.67      0.62      0.59        96\n",
      "weighted avg       0.67      0.62      0.59        96\n",
      "\n"
     ]
    }
   ],
   "source": [
    "data.dropna(axis=0, inplace=True)\n",
    "\n",
    "X = data.drop(['target','slope','Rainfall intensity','land use'],axis=1)\n",
    "y = data['target']\n",
    "\n",
    "X_train, X_test, y_train, y_test = train_test_split(X, y, random_state=1992)\n",
    "\n",
    "scaler = StandardScaler()\n",
    "scaler.fit(X_train)\n",
    "# Now apply the transformations to the data:\n",
    "X_train = scaler.transform(X_train)\n",
    "X_test = scaler.transform(X_test)\n",
    "\n",
    "mlp = MLPClassifier(activation='relu', alpha=0.0001, batch_size='auto', beta_1=0.9,\n",
    "       beta_2=0.999, early_stopping=True, epsilon=1e-08,\n",
    "       hidden_layer_sizes=22, learning_rate='constant',\n",
    "       learning_rate_init=0.001, max_iter=500, momentum=0.9,\n",
    "       nesterovs_momentum=True, power_t=0.5, random_state=12345,\n",
    "       shuffle=True, solver='adam', tol=0.0001, validation_fraction=0.2,\n",
    "       verbose=False, warm_start=False)\n",
    "\n",
    "mlp.fit(X_train, y_train)\n",
    "\n",
    "predictions = mlp.predict(X_test)\n",
    "\n",
    "print(confusion_matrix(y_test,predictions))\n",
    "\n",
    "print(classification_report(y_test,predictions))"
   ]
  },
  {
   "cell_type": "code",
   "execution_count": 269,
   "metadata": {
    "colab": {
     "base_uri": "https://localhost:8080/",
     "height": 1000
    },
    "colab_type": "code",
    "id": "g1-4i4mYQNsj",
    "outputId": "2d32e047-0966-41fd-cda7-d5629356cbb3",
    "scrolled": true
   },
   "outputs": [
    {
     "name": "stdout",
     "output_type": "stream",
     "text": [
      "              precision    recall  f1-score   support\n",
      "\n",
      "         0.0   1.000000  0.071429  0.133333        14\n",
      "         1.0   0.535714  1.000000  0.697674        15\n",
      "\n",
      "    accuracy                       0.551724        29\n",
      "   macro avg   0.767857  0.535714  0.415504        29\n",
      "weighted avg   0.759852  0.551724  0.425234        29\n",
      "\n",
      "              precision    recall  f1-score   support\n",
      "\n",
      "         0.0   0.666667  0.307692  0.421053        13\n",
      "         1.0   0.608696  0.875000  0.717949        16\n",
      "\n",
      "    accuracy                       0.620690        29\n",
      "   macro avg   0.637681  0.591346  0.569501        29\n",
      "weighted avg   0.634683  0.620690  0.584857        29\n",
      "\n",
      "              precision    recall  f1-score   support\n",
      "\n",
      "         0.0   1.000000  0.285714  0.444444        14\n",
      "         1.0   0.600000  1.000000  0.750000        15\n",
      "\n",
      "    accuracy                       0.655172        29\n",
      "   macro avg   0.800000  0.642857  0.597222        29\n",
      "weighted avg   0.793103  0.655172  0.602490        29\n",
      "\n",
      "              precision    recall  f1-score   support\n",
      "\n",
      "         0.0   1.000000  0.615385  0.761905        13\n",
      "         1.0   0.761905  1.000000  0.864865        16\n",
      "\n",
      "    accuracy                       0.827586        29\n",
      "   macro avg   0.880952  0.807692  0.813385        29\n",
      "weighted avg   0.868637  0.827586  0.818710        29\n",
      "\n",
      "              precision    recall  f1-score   support\n",
      "\n",
      "         0.0   1.000000  0.058824  0.111111        17\n",
      "         1.0   0.428571  1.000000  0.600000        12\n",
      "\n",
      "    accuracy                       0.448276        29\n",
      "   macro avg   0.714286  0.529412  0.355556        29\n",
      "weighted avg   0.763547  0.448276  0.313410        29\n",
      "\n",
      "              precision    recall  f1-score   support\n",
      "\n",
      "         0.0   1.000000  0.333333  0.500000        18\n",
      "         1.0   0.478261  1.000000  0.647059        11\n",
      "\n",
      "    accuracy                       0.586207        29\n",
      "   macro avg   0.739130  0.666667  0.573529        29\n",
      "weighted avg   0.802099  0.586207  0.555781        29\n",
      "\n",
      "              precision    recall  f1-score   support\n",
      "\n",
      "         0.0   0.777778  0.500000  0.608696        14\n",
      "         1.0   0.650000  0.866667  0.742857        15\n",
      "\n",
      "    accuracy                       0.689655        29\n",
      "   macro avg   0.713889  0.683333  0.675776        29\n",
      "weighted avg   0.711686  0.689655  0.678090        29\n",
      "\n",
      "              precision    recall  f1-score   support\n",
      "\n",
      "         0.0   0.800000  0.285714  0.421053        14\n",
      "         1.0   0.583333  0.933333  0.717949        15\n",
      "\n",
      "    accuracy                       0.620690        29\n",
      "   macro avg   0.691667  0.609524  0.569501        29\n",
      "weighted avg   0.687931  0.620690  0.574620        29\n",
      "\n",
      "              precision    recall  f1-score   support\n",
      "\n",
      "         0.0   0.800000  0.307692  0.444444        13\n",
      "         1.0   0.608696  0.933333  0.736842        15\n",
      "\n",
      "    accuracy                       0.642857        28\n",
      "   macro avg   0.704348  0.620513  0.590643        28\n",
      "weighted avg   0.697516  0.642857  0.601086        28\n",
      "\n",
      "              precision    recall  f1-score   support\n",
      "\n",
      "         0.0   0.800000  0.266667  0.400000        15\n",
      "         1.0   0.521739  0.923077  0.666667        13\n",
      "\n",
      "    accuracy                       0.571429        28\n",
      "   macro avg   0.660870  0.594872  0.533333        28\n",
      "weighted avg   0.670807  0.571429  0.523810        28\n",
      "\n",
      "[0.55172414 0.62068966 0.65517241 0.82758621 0.44827586 0.5862069\n",
      " 0.68965517 0.62068966 0.64285714 0.57142857]\n",
      "0.8275862068965517\n"
     ]
    }
   ],
   "source": [
    "from sklearn.metrics import classification_report, accuracy_score, make_scorer\n",
    "\n",
    "scores = []\n",
    "model = MLPClassifier(activation='relu', alpha=0.0001, batch_size='auto', beta_1=0.9,\n",
    "       beta_2=0.999, early_stopping=True, epsilon=1e-08,\n",
    "       hidden_layer_sizes=22, learning_rate='constant',\n",
    "       learning_rate_init=0.001, max_iter=500, momentum=0.9,\n",
    "       nesterovs_momentum=True, power_t=0.5, random_state=12345,\n",
    "       shuffle=True, solver='adam', tol=0.0001, validation_fraction=0.2,\n",
    "       verbose=False, warm_start=False)\n",
    "\n",
    "cv = KFold(n_splits=10, random_state=42, shuffle=True)\n",
    "\n",
    "def classification_report_with_accuracy_score(y_true, y_pred):\n",
    "\n",
    "    print(classification_report(y_true, y_pred, digits=6)) # print classification report\n",
    "    return accuracy_score(y_true, y_pred) # return accuracy scor\n",
    "\n",
    "nested_score = cross_val_score(model, X_train, y_train, cv=cv,\\\n",
    "               scoring=make_scorer(classification_report_with_accuracy_score))\n",
    "print(nested_score) \n",
    "print(np.max(nested_score))"
   ]
  },
  {
   "cell_type": "code",
   "execution_count": 270,
   "metadata": {
    "colab": {
     "base_uri": "https://localhost:8080/",
     "height": 448
    },
    "colab_type": "code",
    "id": "eeIcbd27QJTN",
    "outputId": "ff0b2078-bd8f-43e2-f200-84f37478da55"
   },
   "outputs": [
    {
     "name": "stdout",
     "output_type": "stream",
     "text": [
      "[[16 31]\n",
      " [ 5 44]]\n",
      "tn, fp, fn, tp = 16 5 31 44\n"
     ]
    },
    {
     "data": {
      "text/plain": [
       "<matplotlib.axes._subplots.AxesSubplot at 0x7fa41888da30>"
      ]
     },
     "execution_count": 270,
     "metadata": {},
     "output_type": "execute_result"
    },
    {
     "data": {
      "image/png": "[encoded data removed]",
      "text/plain": [
       "<Figure size 720x432 with 2 Axes>"
      ]
     },
     "metadata": {
      "needs_background": "light"
     },
     "output_type": "display_data"
    }
   ],
   "source": [
    "cm =confusion_matrix(y_test,predictions)  \n",
    "print(cm)\n",
    "tn, fp, fn, tp = confusion_matrix(predictions,y_test).ravel()\n",
    "print(\"tn, fp, fn, tp =\", tn, fp, fn, tp)\n",
    "index = ['class 0','class 1']  \n",
    "columns = ['class 0','class 1']  \n",
    "cm_df = pd.DataFrame(cm,columns,index)                      \n",
    "plt.figure(figsize=(10,6))  \n",
    "sns.heatmap(cm_df, annot=True)"
   ]
  },
  {
   "cell_type": "markdown",
   "metadata": {},
   "source": [
    "# Feature Important (RF)"
   ]
  },
  {
   "cell_type": "code",
   "execution_count": 271,
   "metadata": {},
   "outputs": [],
   "source": [
    "from sklearn.ensemble import RandomForestClassifier"
   ]
  },
  {
   "cell_type": "code",
   "execution_count": 272,
   "metadata": {},
   "outputs": [
    {
     "data": {
      "text/plain": [
       "StandardScaler()"
      ]
     },
     "execution_count": 272,
     "metadata": {},
     "output_type": "execute_result"
    }
   ],
   "source": [
    "data.dropna(axis=0, inplace=True)\n",
    "\n",
    "X = data.drop('target',axis=1)\n",
    "y = data['target']\n",
    "\n",
    "X_train, X_test, y_train, y_test = train_test_split(X, y, random_state=1992)\n",
    "\n",
    "scaler = StandardScaler()\n",
    "scaler.fit(X_train)\n",
    "\n",
    "# # Now apply the transformations to the data:\n",
    "# X_train = scaler.transform(X_train)\n",
    "# X_test = scaler.transform(X_test)"
   ]
  },
  {
   "cell_type": "code",
   "execution_count": 273,
   "metadata": {},
   "outputs": [
    {
     "data": {
      "text/html": [
       "<div>\n",
       "<style scoped>\n",
       "    .dataframe tbody tr th:only-of-type {\n",
       "        vertical-align: middle;\n",
       "    }\n",
       "\n",
       "    .dataframe tbody tr th {\n",
       "        vertical-align: top;\n",
       "    }\n",
       "\n",
       "    .dataframe thead th {\n",
       "        text-align: right;\n",
       "    }\n",
       "</style>\n",
       "<table border=\"1\" class=\"dataframe\">\n",
       "  <thead>\n",
       "    <tr style=\"text-align: right;\">\n",
       "      <th></th>\n",
       "      <th>Soil types</th>\n",
       "      <th>elevation</th>\n",
       "      <th>flow accumulation</th>\n",
       "      <th>land use</th>\n",
       "      <th>Rainfall intensity</th>\n",
       "      <th>slope</th>\n",
       "    </tr>\n",
       "    <tr>\n",
       "      <th>lon</th>\n",
       "      <th></th>\n",
       "      <th></th>\n",
       "      <th></th>\n",
       "      <th></th>\n",
       "      <th></th>\n",
       "      <th></th>\n",
       "    </tr>\n",
       "  </thead>\n",
       "  <tbody>\n",
       "    <tr>\n",
       "      <th>14.373334</th>\n",
       "      <td>100.351667</td>\n",
       "      <td>5.454903</td>\n",
       "      <td>544.027806</td>\n",
       "      <td>6.881292</td>\n",
       "      <td>2727.666667</td>\n",
       "      <td>7.540000e-01</td>\n",
       "    </tr>\n",
       "    <tr>\n",
       "      <th>14.415000</th>\n",
       "      <td>100.675834</td>\n",
       "      <td>5.000000</td>\n",
       "      <td>544.027806</td>\n",
       "      <td>6.881292</td>\n",
       "      <td>2727.666667</td>\n",
       "      <td>7.355227e+33</td>\n",
       "    </tr>\n",
       "    <tr>\n",
       "      <th>14.508334</th>\n",
       "      <td>100.747500</td>\n",
       "      <td>11.000000</td>\n",
       "      <td>544.027806</td>\n",
       "      <td>6.881292</td>\n",
       "      <td>2727.666667</td>\n",
       "      <td>7.355227e+33</td>\n",
       "    </tr>\n",
       "    <tr>\n",
       "      <th>14.411667</th>\n",
       "      <td>100.718334</td>\n",
       "      <td>5.000000</td>\n",
       "      <td>544.027806</td>\n",
       "      <td>6.881292</td>\n",
       "      <td>2727.666667</td>\n",
       "      <td>7.355227e+33</td>\n",
       "    </tr>\n",
       "    <tr>\n",
       "      <th>14.664247</th>\n",
       "      <td>100.582899</td>\n",
       "      <td>5.454903</td>\n",
       "      <td>544.027806</td>\n",
       "      <td>6.881292</td>\n",
       "      <td>2727.666667</td>\n",
       "      <td>7.355227e+33</td>\n",
       "    </tr>\n",
       "    <tr>\n",
       "      <th>...</th>\n",
       "      <td>...</td>\n",
       "      <td>...</td>\n",
       "      <td>...</td>\n",
       "      <td>...</td>\n",
       "      <td>...</td>\n",
       "      <td>...</td>\n",
       "    </tr>\n",
       "    <tr>\n",
       "      <th>14.236667</th>\n",
       "      <td>100.640000</td>\n",
       "      <td>5.454903</td>\n",
       "      <td>116.000000</td>\n",
       "      <td>6.881292</td>\n",
       "      <td>2727.666667</td>\n",
       "      <td>7.355227e+33</td>\n",
       "    </tr>\n",
       "    <tr>\n",
       "      <th>14.450000</th>\n",
       "      <td>100.732500</td>\n",
       "      <td>7.000000</td>\n",
       "      <td>544.027806</td>\n",
       "      <td>6.881292</td>\n",
       "      <td>2727.666667</td>\n",
       "      <td>7.355227e+33</td>\n",
       "    </tr>\n",
       "    <tr>\n",
       "      <th>14.217315</th>\n",
       "      <td>100.618216</td>\n",
       "      <td>5.454903</td>\n",
       "      <td>544.027806</td>\n",
       "      <td>6.881292</td>\n",
       "      <td>2727.666667</td>\n",
       "      <td>7.355227e+33</td>\n",
       "    </tr>\n",
       "    <tr>\n",
       "      <th>14.484167</th>\n",
       "      <td>100.345834</td>\n",
       "      <td>5.454903</td>\n",
       "      <td>544.027806</td>\n",
       "      <td>6.881292</td>\n",
       "      <td>2727.666667</td>\n",
       "      <td>3.560000e-01</td>\n",
       "    </tr>\n",
       "    <tr>\n",
       "      <th>14.371667</th>\n",
       "      <td>100.374167</td>\n",
       "      <td>7.000000</td>\n",
       "      <td>544.027806</td>\n",
       "      <td>6.881292</td>\n",
       "      <td>2727.666667</td>\n",
       "      <td>7.355227e+33</td>\n",
       "    </tr>\n",
       "  </tbody>\n",
       "</table>\n",
       "<p>288 rows × 6 columns</p>\n",
       "</div>"
      ],
      "text/plain": [
       "           Soil types  elevation  flow accumulation  land use  \\\n",
       "lon                                                             \n",
       "14.373334  100.351667   5.454903         544.027806  6.881292   \n",
       "14.415000  100.675834   5.000000         544.027806  6.881292   \n",
       "14.508334  100.747500  11.000000         544.027806  6.881292   \n",
       "14.411667  100.718334   5.000000         544.027806  6.881292   \n",
       "14.664247  100.582899   5.454903         544.027806  6.881292   \n",
       "...               ...        ...                ...       ...   \n",
       "14.236667  100.640000   5.454903         116.000000  6.881292   \n",
       "14.450000  100.732500   7.000000         544.027806  6.881292   \n",
       "14.217315  100.618216   5.454903         544.027806  6.881292   \n",
       "14.484167  100.345834   5.454903         544.027806  6.881292   \n",
       "14.371667  100.374167   7.000000         544.027806  6.881292   \n",
       "\n",
       "           Rainfall intensity         slope  \n",
       "lon                                          \n",
       "14.373334         2727.666667  7.540000e-01  \n",
       "14.415000         2727.666667  7.355227e+33  \n",
       "14.508334         2727.666667  7.355227e+33  \n",
       "14.411667         2727.666667  7.355227e+33  \n",
       "14.664247         2727.666667  7.355227e+33  \n",
       "...                       ...           ...  \n",
       "14.236667         2727.666667  7.355227e+33  \n",
       "14.450000         2727.666667  7.355227e+33  \n",
       "14.217315         2727.666667  7.355227e+33  \n",
       "14.484167         2727.666667  3.560000e-01  \n",
       "14.371667         2727.666667  7.355227e+33  \n",
       "\n",
       "[288 rows x 6 columns]"
      ]
     },
     "execution_count": 273,
     "metadata": {},
     "output_type": "execute_result"
    }
   ],
   "source": [
    "X_train"
   ]
  },
  {
   "cell_type": "code",
   "execution_count": 274,
   "metadata": {},
   "outputs": [
    {
     "data": {
      "text/plain": [
       "RandomForestClassifier(random_state=42)"
      ]
     },
     "execution_count": 274,
     "metadata": {},
     "output_type": "execute_result"
    }
   ],
   "source": [
    "rf = RandomForestClassifier(random_state=42)\n",
    "\n",
    "rf.fit(X_train, y_train)"
   ]
  },
  {
   "cell_type": "code",
   "execution_count": 275,
   "metadata": {},
   "outputs": [
    {
     "name": "stdout",
     "output_type": "stream",
     "text": [
      "RF train accuracy: 1.000\n",
      "RF test accuracy: 0.938\n"
     ]
    }
   ],
   "source": [
    "print(\"RF train accuracy: %0.3f\" % rf.score(X_train, y_train))\n",
    "print(\"RF test accuracy: %0.3f\" % rf.score(X_test, y_test))"
   ]
  },
  {
   "cell_type": "code",
   "execution_count": 276,
   "metadata": {},
   "outputs": [
    {
     "data": {
      "text/plain": [
       "Index(['Soil types', 'elevation', 'flow accumulation', 'land use',\n",
       "       'Rainfall intensity', 'slope', 'target'],\n",
       "      dtype='object')"
      ]
     },
     "execution_count": 276,
     "metadata": {},
     "output_type": "execute_result"
    }
   ],
   "source": [
    "data.columns"
   ]
  },
  {
   "cell_type": "code",
   "execution_count": 277,
   "metadata": {},
   "outputs": [
    {
     "data": {
      "text/plain": [
       "<BarContainer object of 6 artists>"
      ]
     },
     "execution_count": 277,
     "metadata": {},
     "output_type": "execute_result"
    },
    {
     "data": {
      "image/png": "[encoded data removed]",
      "text/plain": [
       "<Figure size 432x288 with 1 Axes>"
      ]
     },
     "metadata": {
      "needs_background": "light"
     },
     "output_type": "display_data"
    }
   ],
   "source": [
    "sorted_idx = rf.feature_importances_.argsort()\n",
    "\n",
    "plt.barh(['lat', 'elevation', 'flow accumulation', 'land use',\n",
    "       'Rainfall intensity', 'slope'], rf.feature_importances_[sorted_idx])"
   ]
  },
  {
   "cell_type": "markdown",
   "metadata": {},
   "source": [
    "# SHAP"
   ]
  },
  {
   "cell_type": "code",
   "execution_count": 278,
   "metadata": {},
   "outputs": [],
   "source": [
    "import shap"
   ]
  },
  {
   "cell_type": "code",
   "execution_count": 279,
   "metadata": {},
   "outputs": [],
   "source": [
    "explainer = shap.TreeExplainer(rf)\n",
    "shap_values = explainer.shap_values(X_test)"
   ]
  },
  {
   "cell_type": "code",
   "execution_count": 280,
   "metadata": {},
   "outputs": [
    {
     "data": {
      "image/png": "[encoded data removed]",
      "text/plain": [
       "<Figure size 576x280.8 with 1 Axes>"
      ]
     },
     "metadata": {
      "needs_background": "light"
     },
     "output_type": "display_data"
    }
   ],
   "source": [
    "shap.summary_plot(shap_values, X_train, plot_type=\"bar\")"
   ]
  },
  {
   "cell_type": "code",
   "execution_count": 281,
   "metadata": {},
   "outputs": [
    {
     "data": {
      "image/png": "[encoded data removed]",
      "text/plain": [
       "<Figure size 576x280.8 with 1 Axes>"
      ]
     },
     "metadata": {
      "needs_background": "light"
     },
     "output_type": "display_data"
    }
   ],
   "source": [
    "shap.summary_plot(shap_values, X_test, plot_type=\"bar\")"
   ]
  },
  {
   "cell_type": "code",
   "execution_count": 282,
   "metadata": {},
   "outputs": [
    {
     "data": {
      "image/png": "[encoded data removed]",
      "text/plain": [
       "<Figure size 576x280.8 with 1 Axes>"
      ]
     },
     "metadata": {
      "needs_background": "light"
     },
     "output_type": "display_data"
    }
   ],
   "source": [
    "shap.summary_plot(shap_values, X_test)"
   ]
  },
  {
   "cell_type": "markdown",
   "metadata": {},
   "source": [
    "# Compare ML Model"
   ]
  },
  {
   "cell_type": "code",
   "execution_count": 283,
   "metadata": {},
   "outputs": [],
   "source": [
    "#\n",
    "from pandas.plotting import scatter_matrix\n",
    "\n",
    "# \n",
    "from sklearn.linear_model import LogisticRegression\n",
    "from sklearn.tree import DecisionTreeClassifier\n",
    "from sklearn.naive_bayes import GaussianNB\n",
    "from sklearn.discriminant_analysis import LinearDiscriminantAnalysis\n",
    "from sklearn.neighbors import KNeighborsClassifier\n",
    "from sklearn.svm import SVC"
   ]
  },
  {
   "cell_type": "code",
   "execution_count": 284,
   "metadata": {},
   "outputs": [
    {
     "name": "stdout",
     "output_type": "stream",
     "text": [
      "LR has accuracy score:  0.5035087719298247\n",
      "NB has accuracy score:  0.6665456745311554\n",
      "SVM has accuracy score:  0.6665456745311554\n",
      "NN has accuracy score:  0.6665456745311554\n"
     ]
    },
    {
     "data": {
      "image/png": "[encoded data removed]",
      "text/plain": [
       "<Figure size 432x288 with 1 Axes>"
      ]
     },
     "metadata": {
      "needs_background": "light"
     },
     "output_type": "display_data"
    }
   ],
   "source": [
    "# Building Models for iris flower classification\n",
    "\n",
    "np.random.seed(1000)\n",
    "# making a list of ml classification models\n",
    "models = []\n",
    "\n",
    "def classification_Models(xtrain,xtest, ytrain, ytest ):\n",
    "    \n",
    "\n",
    "    \n",
    "    models.append( ('LR',  LogisticRegression()) )\n",
    "    models.append( ('NB',  GaussianNB()) )\n",
    "    models.append( ('SVM',  SVC()) )\n",
    "    models.append( ('NN',  MLPClassifier(hidden_layer_sizes=(64,64), random_state=1) ) )\n",
    "    \n",
    "\n",
    "    modeloutcomes = []\n",
    "    modelnames = []\n",
    "    for name,model in models:\n",
    "        v_results = cross_val_score(model, xtrain, ytrain, cv = 5, \n",
    "                                     scoring='accuracy', n_jobs = -1, verbose = 0)\n",
    "        print(name, 'has accuracy score: ',v_results.mean())\n",
    "        modeloutcomes.append(v_results)\n",
    "        modelnames.append(name)\n",
    "        \n",
    "    #print(modeloutcomes)\n",
    "    fig = plt.figure()\n",
    "    ax = fig.add_subplot(111)\n",
    "    ax.set_xticklabels(modelnames)\n",
    "    plt.boxplot(modeloutcomes)\n",
    "        \n",
    "classification_Models(X_train, X_test, y_train, y_test)"
   ]
  },
  {
   "cell_type": "markdown",
   "metadata": {},
   "source": [
    "# Train Model"
   ]
  },
  {
   "cell_type": "code",
   "execution_count": 285,
   "metadata": {},
   "outputs": [
    {
     "name": "stdout",
     "output_type": "stream",
     "text": [
      "\n",
      "****************************LR\n",
      "The accuracy: 0.4895833333333333\n",
      "The Classification Report:\n",
      "               precision    recall  f1-score   support\n",
      "\n",
      "         0.0       0.49      1.00      0.66        47\n",
      "         1.0       0.00      0.00      0.00        49\n",
      "\n",
      "    accuracy                           0.49        96\n",
      "   macro avg       0.24      0.50      0.33        96\n",
      "weighted avg       0.24      0.49      0.32        96\n",
      "\n",
      "The Confusion Matrix:\n",
      " [[47  0]\n",
      " [49  0]]\n",
      "\n",
      "****************************NB\n",
      "The accuracy: 0.6666666666666666\n",
      "The Classification Report:\n",
      "               precision    recall  f1-score   support\n",
      "\n",
      "         0.0       1.00      0.32      0.48        47\n",
      "         1.0       0.60      1.00      0.75        49\n",
      "\n",
      "    accuracy                           0.67        96\n",
      "   macro avg       0.80      0.66      0.62        96\n",
      "weighted avg       0.80      0.67      0.62        96\n",
      "\n",
      "The Confusion Matrix:\n",
      " [[15 32]\n",
      " [ 0 49]]\n",
      "\n",
      "****************************SVM\n",
      "The accuracy: 0.6666666666666666\n",
      "The Classification Report:\n",
      "               precision    recall  f1-score   support\n",
      "\n",
      "         0.0       1.00      0.32      0.48        47\n",
      "         1.0       0.60      1.00      0.75        49\n",
      "\n",
      "    accuracy                           0.67        96\n",
      "   macro avg       0.80      0.66      0.62        96\n",
      "weighted avg       0.80      0.67      0.62        96\n",
      "\n",
      "The Confusion Matrix:\n",
      " [[15 32]\n",
      " [ 0 49]]\n",
      "\n",
      "****************************NN\n",
      "The accuracy: 0.4895833333333333\n",
      "The Classification Report:\n",
      "               precision    recall  f1-score   support\n",
      "\n",
      "         0.0       0.49      1.00      0.66        47\n",
      "         1.0       0.00      0.00      0.00        49\n",
      "\n",
      "    accuracy                           0.49        96\n",
      "   macro avg       0.24      0.50      0.33        96\n",
      "weighted avg       0.24      0.49      0.32        96\n",
      "\n",
      "The Confusion Matrix:\n",
      " [[47  0]\n",
      " [49  0]]\n"
     ]
    }
   ],
   "source": [
    "#X_train, X_test, y_train, y_test = train_test_split(X, y, random_state=1992)\n",
    "\n",
    "for name,model in models:\n",
    "    trainedmodel = model.fit(X_train,y_train)\n",
    "    \n",
    "    # prediction\n",
    "    ypredict = trainedmodel.predict(X_test)\n",
    "    \n",
    "    acc = accuracy_score(y_test,ypredict)\n",
    "    classreport = classification_report(y_test,ypredict)\n",
    "    confMat = confusion_matrix(y_test,ypredict)\n",
    "    \n",
    "    print('\\n****************************'+name)\n",
    "    print('The accuracy: {}'.format(acc))\n",
    "    print('The Classification Report:\\n {}'.format(classreport))\n",
    "    print('The Confusion Matrix:\\n {}'.format(confMat))\n",
    "    \n",
    "    \n",
    "    # save models\n",
    "    import pickle as pk\n",
    "    \n",
    "    with open('model_'+name+'.pickle','wb') as f:\n",
    "        pk.dump(trainedmodel,f)"
   ]
  },
  {
   "cell_type": "markdown",
   "metadata": {},
   "source": [
    "# GridSearch NN"
   ]
  },
  {
   "cell_type": "code",
   "execution_count": 319,
   "metadata": {},
   "outputs": [],
   "source": [
    "from sklearn.model_selection import GridSearchCV, cross_val_score\n",
    "\n",
    "def nn_grid_search(X,y,nfolds):\n",
    "    #create a dictionary of all values we want to test\n",
    "    param_grid = { 'solver': ['adam','lbfgs'], \n",
    "                  'max_iter': [100,500,1000,1500], \n",
    "                  #'alpha': 10.0 ** -np.arange(1, 10), \n",
    "                  'hidden_layer_sizes':[1,8,16,22,32,64,128,256], \n",
    "                  'random_state':[1,2,3] }\n",
    "    # decision tree model\n",
    "    nn=MLPClassifier()\n",
    "\n",
    "    #use gridsearch to test all values\n",
    "    nn_gscv = GridSearchCV(nn, param_grid, cv=nfolds)\n",
    "    #fit model to data\n",
    "    nn_gscv.fit(X, y)\n",
    "    return nn_gscv.best_params_, nn_gscv.best_score_, nn_gscv.best_estimator_"
   ]
  },
  {
   "cell_type": "code",
   "execution_count": 320,
   "metadata": {},
   "outputs": [],
   "source": [
    "param, score, model = nn_grid_search(X_train,y_train, 5)\n",
    "nn = model"
   ]
  },
  {
   "cell_type": "code",
   "execution_count": 321,
   "metadata": {},
   "outputs": [
    {
     "data": {
      "text/plain": [
       "{'hidden_layer_sizes': 22,\n",
       " 'max_iter': 100,\n",
       " 'random_state': 2,\n",
       " 'solver': 'adam'}"
      ]
     },
     "execution_count": 321,
     "metadata": {},
     "output_type": "execute_result"
    }
   ],
   "source": [
    "param"
   ]
  },
  {
   "cell_type": "code",
   "execution_count": null,
   "metadata": {},
   "outputs": [],
   "source": []
  },
  {
   "cell_type": "code",
   "execution_count": null,
   "metadata": {},
   "outputs": [],
   "source": []
  }
 ],
 "metadata": {
  "colab": {
   "collapsed_sections": [],
   "name": "Rainfall Prediction: A Neural Network Approach (Kao version 2).ipynb",
   "provenance": [],
   "toc_visible": true
  },
  "kernelspec": {
   "display_name": "Python 3",
   "language": "python",
   "name": "python3"
  },
  "language_info": {
   "codemirror_mode": {
    "name": "ipython",
    "version": 3
   },
   "file_extension": ".py",
   "mimetype": "text/x-python",
   "name": "python",
   "nbconvert_exporter": "python",
   "pygments_lexer": "ipython3",
   "version": "3.8.3"
  },
  "toc": {
   "base_numbering": 1,
   "nav_menu": {},
   "number_sections": true,
   "sideBar": true,
   "skip_h1_title": false,
   "title_cell": "Table of Contents",
   "title_sidebar": "Contents",
   "toc_cell": false,
   "toc_position": {
    "height": "calc(100% - 180px)",
    "left": "10px",
    "top": "150px",
    "width": "330.208px"
   },
   "toc_section_display": true,
   "toc_window_display": true
  }
 },
 "nbformat": 4,
 "nbformat_minor": 1
}
